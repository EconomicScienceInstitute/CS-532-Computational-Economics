{
 "cells": [
  {
   "cell_type": "markdown",
   "metadata": {},
   "source": [
    "# Install OR-Tools (For Colab Only)"
   ]
  },
  {
   "cell_type": "code",
   "execution_count": 3,
   "metadata": {},
   "outputs": [
    {
     "name": "stdout",
     "output_type": "stream",
     "text": [
      "Collecting ortools\n",
      "  Downloading ortools-9.1.9490-cp38-cp38-win_amd64.whl (52.9 MB)\n",
      "Collecting absl-py>=0.13\n",
      "  Downloading absl_py-1.0.0-py3-none-any.whl (126 kB)\n",
      "Collecting protobuf>=3.18.0\n",
      "  Downloading protobuf-3.19.1-cp38-cp38-win_amd64.whl (895 kB)\n",
      "Requirement already satisfied: six in c:\\programdata\\anaconda3\\lib\\site-packages (from absl-py>=0.13->ortools) (1.15.0)\n",
      "Installing collected packages: absl-py, protobuf, ortools\n",
      "Successfully installed absl-py-1.0.0 ortools-9.1.9490 protobuf-3.19.1\n"
     ]
    },
    {
     "name": "stderr",
     "output_type": "stream",
     "text": [
      "Traceback (most recent call last):\n",
      "  File \"C:\\ProgramData\\Anaconda3\\Scripts\\pip-script.py\", line 10, in <module>\n",
      "    sys.exit(main())\n",
      "  File \"C:\\ProgramData\\Anaconda3\\lib\\site-packages\\pip\\_internal\\cli\\main.py\", line 75, in main\n",
      "    return command.main(cmd_args)\n",
      "  File \"C:\\ProgramData\\Anaconda3\\lib\\site-packages\\pip\\_internal\\cli\\base_command.py\", line 114, in main\n",
      "    return self._main(args)\n",
      "  File \"C:\\ProgramData\\Anaconda3\\lib\\contextlib.py\", line 120, in __exit__\n",
      "    next(self.gen)\n",
      "  File \"C:\\ProgramData\\Anaconda3\\lib\\site-packages\\pip\\_internal\\cli\\command_context.py\", line 28, in main_context\n",
      "    yield\n",
      "  File \"C:\\ProgramData\\Anaconda3\\lib\\site-packages\\pip\\_vendor\\contextlib2.py\", line 479, in __exit__\n",
      "    _reraise_with_existing_context(exc_details)\n",
      "  File \"C:\\ProgramData\\Anaconda3\\lib\\site-packages\\pip\\_vendor\\contextlib2.py\", line 340, in _reraise_with_existing_context\n",
      "    raise exc_details[1]\n",
      "  File \"C:\\ProgramData\\Anaconda3\\lib\\contextlib.py\", line 131, in __exit__\n",
      "    self.gen.throw(type, value, traceback)\n",
      "  File \"C:\\ProgramData\\Anaconda3\\lib\\site-packages\\pip\\_internal\\utils\\temp_dir.py\", line 84, in tempdir_registry\n",
      "    yield _tempdir_registry\n",
      "  File \"C:\\ProgramData\\Anaconda3\\lib\\site-packages\\pip\\_vendor\\contextlib2.py\", line 468, in __exit__\n",
      "    if cb(*exc_details):\n",
      "  File \"C:\\ProgramData\\Anaconda3\\lib\\site-packages\\pip\\_vendor\\contextlib2.py\", line 396, in _exit_wrapper\n",
      "    return cm_exit(cm, *exc_details)\n",
      "  File \"C:\\ProgramData\\Anaconda3\\lib\\contextlib.py\", line 120, in __exit__\n",
      "    next(self.gen)\n",
      "  File \"C:\\ProgramData\\Anaconda3\\lib\\site-packages\\pip\\_internal\\utils\\temp_dir.py\", line 45, in global_tempdir_manager\n",
      "    _tempdir_manager = old_tempdir_manager\n",
      "  File \"C:\\ProgramData\\Anaconda3\\lib\\site-packages\\pip\\_vendor\\contextlib2.py\", line 479, in __exit__\n",
      "    _reraise_with_existing_context(exc_details)\n",
      "  File \"C:\\ProgramData\\Anaconda3\\lib\\site-packages\\pip\\_vendor\\contextlib2.py\", line 340, in _reraise_with_existing_context\n",
      "    raise exc_details[1]\n",
      "  File \"C:\\ProgramData\\Anaconda3\\lib\\site-packages\\pip\\_vendor\\contextlib2.py\", line 468, in __exit__\n",
      "    if cb(*exc_details):\n",
      "  File \"C:\\ProgramData\\Anaconda3\\lib\\site-packages\\pip\\_vendor\\contextlib2.py\", line 396, in _exit_wrapper\n",
      "    return cm_exit(cm, *exc_details)\n",
      "  File \"C:\\ProgramData\\Anaconda3\\lib\\site-packages\\pip\\_internal\\utils\\temp_dir.py\", line 174, in __exit__\n",
      "    self.cleanup()\n",
      "  File \"C:\\ProgramData\\Anaconda3\\lib\\site-packages\\pip\\_internal\\utils\\temp_dir.py\", line 196, in cleanup\n",
      "    rmtree(self._path)\n",
      "  File \"C:\\ProgramData\\Anaconda3\\lib\\site-packages\\pip\\_vendor\\retrying.py\", line 49, in wrapped_f\n",
      "    return Retrying(*dargs, **dkw).call(f, *args, **kw)\n",
      "  File \"C:\\ProgramData\\Anaconda3\\lib\\site-packages\\pip\\_vendor\\retrying.py\", line 212, in call\n",
      "    raise attempt.get()\n",
      "  File \"C:\\ProgramData\\Anaconda3\\lib\\site-packages\\pip\\_vendor\\retrying.py\", line 247, in get\n",
      "    six.reraise(self.value[0], self.value[1], self.value[2])\n",
      "  File \"C:\\ProgramData\\Anaconda3\\lib\\site-packages\\pip\\_vendor\\six.py\", line 703, in reraise\n",
      "    raise value\n",
      "  File \"C:\\ProgramData\\Anaconda3\\lib\\site-packages\\pip\\_vendor\\retrying.py\", line 200, in call\n",
      "    attempt = Attempt(fn(*args, **kwargs), attempt_number, False)\n",
      "  File \"C:\\ProgramData\\Anaconda3\\lib\\site-packages\\pip\\_internal\\utils\\misc.py\", line 135, in rmtree\n",
      "    shutil.rmtree(dir, ignore_errors=ignore_errors,\n",
      "  File \"C:\\ProgramData\\Anaconda3\\lib\\shutil.py\", line 737, in rmtree\n",
      "    return _rmtree_unsafe(path, onerror)\n",
      "  File \"C:\\ProgramData\\Anaconda3\\lib\\shutil.py\", line 610, in _rmtree_unsafe\n",
      "    _rmtree_unsafe(fullname, onerror)\n",
      "  File \"C:\\ProgramData\\Anaconda3\\lib\\shutil.py\", line 610, in _rmtree_unsafe\n",
      "    _rmtree_unsafe(fullname, onerror)\n",
      "  File \"C:\\ProgramData\\Anaconda3\\lib\\shutil.py\", line 610, in _rmtree_unsafe\n",
      "    _rmtree_unsafe(fullname, onerror)\n",
      "  File \"C:\\ProgramData\\Anaconda3\\lib\\shutil.py\", line 615, in _rmtree_unsafe\n",
      "    onerror(os.unlink, fullname, sys.exc_info())\n",
      "  File \"C:\\ProgramData\\Anaconda3\\lib\\shutil.py\", line 613, in _rmtree_unsafe\n",
      "    os.unlink(fullname)\n",
      "PermissionError: [WinError 5] Access is denied: 'C:\\\\Users\\\\rfrench\\\\AppData\\\\Local\\\\Temp\\\\pip-install-82dmz_wp\\\\ortools\\\\ortools\\\\algorithms\\\\_pywrapknapsack_solver.pyd'\n"
     ]
    }
   ],
   "source": [
    "!pip install ortools"
   ]
  },
  {
   "cell_type": "markdown",
   "metadata": {},
   "source": [
    "## Import necessary libraries"
   ]
  },
  {
   "cell_type": "code",
   "execution_count": 4,
   "metadata": {},
   "outputs": [],
   "source": [
    "from ortools.linear_solver import pywraplp\n",
    "import random"
   ]
  },
  {
   "cell_type": "markdown",
   "metadata": {},
   "source": [
    "# Problem from 1995 MBA exam\n",
    "\n",
    "A project manager in a company is considering a portfolio of 10 large project investments. These investments differ in the estimated long-run profit (net present value) they will generate as well as in the amount of capital required.\n",
    "\n",
    "Let $P_j$ and $C_j$ denote the estimated profit and capital required (both given in units of millions of £) for investment opportunity j (j=1,...,10) respectively. The total amount of capital available for these investments is Q (in units of millions of £)\n",
    "\n",
    "Investment opportunities 3 and 4 are mutually exclusive and so are 5 and 6. Furthermore, neither 5 nor 6 can be undertaken unless either 3 or 4 is undertaken. At least two and at most four investment opportunities have to be undertaken from the set {1,2,7,8,9,10}.\n",
    "\n",
    "The project manager wishes to select the combination of capital investments that will maximise the total estimated long-run profit subject to the restrictions described above.\n",
    "\n",
    "Formulate this problem using an integer programming model and comment on the difficulties of solving this model. (Do not actually solve it).\n",
    "\n",
    "What are the advantages and disadvantages of using this model for portfolio selection?\n",
    "\n",
    "## First let's setup the problem\n",
    "\n",
    "The problem is defined without real values for profits, capital requirements, and capital so we will have to make these values up in order to have a solvable problem."
   ]
  },
  {
   "cell_type": "code",
   "execution_count": 5,
   "metadata": {},
   "outputs": [],
   "source": [
    "num_investments = 10\n",
    "profit = [random.randint(1,100) for _ in range(num_investments)]\n",
    "cost = [random.randint(1,50) for _ in range(num_investments)]\n",
    "capital_available = 127"
   ]
  },
  {
   "cell_type": "markdown",
   "metadata": {},
   "source": [
    "## Now let's create the IP model\n",
    "\n",
    "What we mean by this, is we need to define our variables, objective, and constraints like we do when we write down our model on paper (or white board).  Only additional step we need to take when coding our model is creating the solver object with the correct type of solver for our problem.  In this case we use SCIP because we are solving an integer programming problem."
   ]
  },
  {
   "cell_type": "code",
   "execution_count": 6,
   "metadata": {},
   "outputs": [
    {
     "data": {
      "text/plain": [
       "<ortools.linear_solver.pywraplp.Constraint; proxy of <Swig Object of type 'operations_research::MPConstraint *' at 0x0000026F78FCC120> >"
      ]
     },
     "execution_count": 6,
     "metadata": {},
     "output_type": "execute_result"
    }
   ],
   "source": [
    "solver = pywraplp.Solver.CreateSolver('SCIP')\n",
    "\n",
    "variables = [solver.IntVar(0, 1, str(i)) for i in range(num_investments)]\n",
    "\n",
    "# objective\n",
    "solver.Maximize(sum([variables[i] * (profit[i] - cost[i]) for i in range(num_investments)]))\n",
    "\n",
    "# constraints\n",
    "solver.Add(sum([variables[i] * cost[i] for i in range(num_investments)]) <= capital_available) # capital constraint\n",
    "\n",
    "solver.Add(variables[2] + variables[3] <= 1) # exclusivity of 3 and 4\n",
    "solver.Add(variables[4] + variables[5] <= 1) # exclusifity of 5 and 6\n",
    "\n",
    "solver.Add(variables[4] + variables[5] <= variables[2] + variables[3]) # 5 and 6 depend on 3 and 4\n",
    "solver.Add(sum([variables[i] for i in range(num_investments) if i in [0,1,6,7,8,9]]) >= 2)\n",
    "solver.Add(sum([variables[i] for i in range(num_investments) if i in [0,1,6,7,8,9]]) <= 4)"
   ]
  },
  {
   "cell_type": "markdown",
   "metadata": {},
   "source": [
    "## Now let's solve the model\n",
    "\n",
    "We need to tell the solver to solve the model and record the result.  If we forget to look at the result of the solver, we will not know if the answer it provides is an actual solution or the best solution.  Therefore we need to check the result it provides before doing anything with the solution."
   ]
  },
  {
   "cell_type": "code",
   "execution_count": 7,
   "metadata": {},
   "outputs": [
    {
     "name": "stdout",
     "output_type": "stream",
     "text": [
      "Profits:              [31, 2, 70, 58, 21, 48, 36, 25, 48, 12]\n",
      "Costs:                [2, 27, 10, 45, 18, 2, 29, 21, 11, 50]\n",
      "Selected Investments: [1.0, 0.0, 1.0, 0.0, 0.0, 1.0, 1.0, 1.0, 1.0, 0.0]\n"
     ]
    }
   ],
   "source": [
    "status = solver.Solve()\n",
    "\n",
    "if status == solver.OPTIMAL:\n",
    "  print(f'Profits:              {profit}')\n",
    "  print(f'Costs:                {cost}')\n",
    "  print(f'Selected Investments: {[v.solution_value() for v in variables]}')\n",
    "else:\n",
    "  print('infeasible')"
   ]
  },
  {
   "cell_type": "markdown",
   "metadata": {},
   "source": [
    "# 1994 MBA Exam\n",
    "\n",
    "A food is manufactured by refining raw oils and blending them together. The raw oils come in two categories:\n",
    "\n",
    "Vegetable oil:\n",
    "* VEG1\n",
    "* VEG2\n",
    "\n",
    "Non-vegetable oil:\n",
    "* OIL1\n",
    "* OIL2\n",
    "* OIL3\n",
    "\n",
    "The prices for buying each oil are given below (in £/tonne)\n",
    "\n",
    "|VEG1|VEG2| OIL1 | OIL2 | OIL3 |\n",
    "|---|---|---|---|---|\n",
    "|115 | 128 | 132 | 109 | 114 |\n",
    "\n",
    "The final product sells at £180 per tonne. Vegetable oils and non-vegetable oils require different production lines for refining. It is not possible to refine more than 210 tonnes of vegetable oils and more than 260 tonnes of non-vegetable oils. There is no loss of weight in the refining process and the cost of refining may be ignored.\n",
    "\n",
    "There is a technical restriction relating to the hardness of the final product. In the units in which hardness is measured this must lie between 3.5 and 6.2. It is assumed that hardness blends linearly and that the hardness of the raw oils is:\n",
    "\n",
    "|VEG1 | VEG2 | OIL1 | OIL2 | OIL3 |\n",
    "|---|---|---|---|---|\n",
    "|8.8 | 6.2  | 1.9 |  4.3 |  5.1 |\n",
    "\n",
    "It is required to determine what to buy and how to blend the raw oils so that the company maximises its profit.\n",
    "\n",
    "1. Formulate the above problem as a linear program. (Do not actually solve it).\n",
    "2. What assumptions do you make in solving this problem by linear programming?\n",
    "\n",
    "The following extra conditions are imposed on the food manufacture problem stated above as a result of the production process involved:\n",
    "\n",
    "* the food may never be made up of more than 3 raw oils\n",
    "* if an oil (vegetable or non-vegetable) is used, at least 30 tonnes of that oil must be used\n",
    "* if either of VEG1 or VEG2 are used then OIL2 must also be used\n",
    "\n",
    "Introducing 0-1 integer variables extend the linear programming model you have developed to encompass these new extra conditions."
   ]
  },
  {
   "cell_type": "code",
   "execution_count": null,
   "metadata": {},
   "outputs": [],
   "source": []
  },
  {
   "cell_type": "markdown",
   "metadata": {},
   "source": [
    "# Big M Example\n",
    "\n",
    "In the planning of the monthly production for the next six months a company must, in each month, operate either a normal shift or an extended shift (if it produces at all). A normal shift costs £100,000 per month and can produce up to 5,000 units per month. An extended shift costs £180,000 per month and can produce up to 7,500 units per month. Note here that, for either type of shift, the cost incurred is fixed by a union guarantee agreement and so is independent of the amount produced.\n",
    "\n",
    "It is estimated that changing from a normal shift in one month to an extended shift in the next month costs an extra £15,000. No extra cost is incurred in changing from an extended shift in one month to a normal shift in the next month.\n",
    "\n",
    "The cost of holding stock is estimated to be £2 per unit per month (based on the stock held at the end of each month) and the initial stock is 3,000 units (produced by a normal shift). The amount in stock at the end of month 6 should be at least 2,000 units. The demand for the company's product in each of the next six months is estimated to be as shown below:\n",
    "\n",
    "|Month |  1 |    2  |   3  |   4   |  5  |   6 |\n",
    "|---|---|---|---|---|---|---|\n",
    "|Demand | 6,000 | 6,500 | 7,500 | 7,000 | 6,000 | 6,000 |\n",
    " \n",
    "Production constraints are such that if the company produces anything in a particular month it must produce at least 2,000 units. If the company wants a production plan for the next six months that avoids stockouts, formulate their problem as an integer program."
   ]
  },
  {
   "cell_type": "code",
   "execution_count": null,
   "metadata": {},
   "outputs": [],
   "source": []
  }
 ],
 "metadata": {
  "interpreter": {
   "hash": "b3ba2566441a7c06988d0923437866b63cedc61552a5af99d1f4fb67d367b25f"
  },
  "kernelspec": {
   "display_name": "Python 3.8.3 64-bit ('base': conda)",
   "name": "python3"
  },
  "language_info": {
   "codemirror_mode": {
    "name": "ipython",
    "version": 3
   },
   "file_extension": ".py",
   "mimetype": "text/x-python",
   "name": "python",
   "nbconvert_exporter": "python",
   "pygments_lexer": "ipython3",
   "version": "3.8.3"
  },
  "orig_nbformat": 4
 },
 "nbformat": 4,
 "nbformat_minor": 2
}
