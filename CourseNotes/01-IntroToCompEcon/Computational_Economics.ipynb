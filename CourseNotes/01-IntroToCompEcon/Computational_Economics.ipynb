{
  "nbformat": 4,
  "nbformat_minor": 2,
  "metadata": {
    "colab": {
      "name": "Computational Economics.ipynb",
      "provenance": [],
      "include_colab_link": true
    },
    "kernelspec": {
      "name": "python3",
      "display_name": "Python 3"
    }
  },
  "cells": [
    {
      "cell_type": "markdown",
      "source": [
        "<a href=\"https://colab.research.google.com/github/tristntran/CS-532-Computational-Economics/blob/main/Computational_Economics.ipynb\" target=\"_parent\"><img src=\"https://colab.research.google.com/assets/colab-badge.svg\" alt=\"Open In Colab\"/></a>"
      ],
      "metadata": {
        "id": "view-in-github",
        "colab_type": "text"
      }
    },
    {
      "cell_type": "markdown",
      "source": [
        "# Computational Economics Primer and Study Guide\r\n",
        "Welcome to Chapman University's CS532 Class. Below are links to a series of primers written with the intention of providing background information and sample code for the class. Each section will have a writeup about the background of the topic, an explanation of the math behind the concept, some intuition on ways to think about problems, sample code to provide context, and practice problems for you to try on your own.\r\n",
        "\r\n",
        "## Prerequisite Knowledge\r\n",
        "* [Python Input/Output](https://colab.research.google.com/drive/1eW0GZiYyKgC3X_6A-c7zABhS4BZhpy04?usp=sharing)\r\n",
        "\r\n",
        "* [Data Structures](https://colab.research.google.com/drive/1ef1gm2vuOMpecaEP_6SOHtXQ7Ul1m13-?usp=sharing)\r\n",
        "\r\n",
        "* [Writing Clean Code]()\r\n",
        "\r\n",
        "* [Using a Debugger]()\r\n",
        "\r\n",
        "## Additional Information\r\n",
        "\r\n",
        "* [Advanced Python tips and tricks](https://colab.research.google.com/drive/1ZQ5JKdlN9eNOD9fmX4zd_zr1hHlXri8Z?usp=sharing)\r\n",
        "\r\n",
        "* [Libraries for Computational Economics](https://colab.research.google.com/drive/1djLVgB3JvZX_BM68ewJMfIy26SWQr55q?usp=sharing)\r\n",
        "\r\n",
        "## Course Contents\r\n",
        "\r\n",
        "1. [Introduction to Computational Economics](https://colab.research.google.com/drive/1pGUBRKMM9mlH-VYtweVhXwZdBJmHOaCO?authuser=1#scrollTo=4imwvmoFAw6t&line=1&uniqifier=1)\r\n",
        "2. Problem Solving\r\n",
        "3. Writing clean code\r\n",
        "4. Combinatorics and brute force algorithms\r\n",
        "5. Probability\r\n",
        "6. Monte Carlo Simulation\r\n",
        "7. Sampling Techniques and Improving Monte Carlo\r\n",
        "8. Defining Strategy (Basic Concepts from Game Theory)\r\n",
        "9. Linear Programming and Optimization\r\n",
        "10. Simulated Annealing\r\n",
        "11. Genetic Algorithms\r\n",
        "\r\n",
        "\r\n"
      ],
      "metadata": {
        "id": "KtcKYTgt-iDZ"
      }
    },
    {
      "cell_type": "code",
      "execution_count": null,
      "source": [],
      "outputs": [],
      "metadata": {
        "id": "foOB5AG1-fyg"
      }
    },
    {
      "cell_type": "markdown",
      "source": [
        "# Introduction to Computational Economics\r\n",
        "\r\n",
        "For may in this class this is their first course in economics. For many in this class this is their first course in computational sciences. The goal of this section is to develop a terminology suitable for problem solving. We will establish some basic definitions for concepts in economics and how we might model this as a computational problem.\r\n",
        "\r\n",
        "## The Basics of Economics\r\n",
        "\r\n",
        "Economics is the science that studies how rational decision makers maximize their own happiness using limited resources.\r\n",
        "\r\n",
        "\r\n",
        "### Utility\r\n",
        "\r\n",
        "Utilitarianism is a philisophical school. It was founded as an ethical school by Jeremy Bentham in the early 1800's. It main idea is that societies should be organized to maximize the happiness for the greatest number of people.\r\n",
        "\r\n",
        "Economists study utility as a measurement of human happiness. In economcis, we assume that humans are rational decision makers that always try to do the things that make them the happiest given their circumstances.\r\n",
        "\r\n",
        "What makes you happy? How much do you value those things? \r\n",
        "\r\n",
        "The first question is pretty easy to answer. You can probably go through your belonging like Marie Kondo and see what \"sparks joy\". You can also probably notice some properties about the things that make you happy.\r\n",
        "\r\n",
        "1. __Non-Satiety__\r\n",
        "If something makes you happy, you probably be happier if you were given more of it at no cost.\r\n",
        "2. __Diminishing Returns__\r\n",
        "the first bite of your favorite food probably brings you immense joy. The second bite is good, but not as impactful as the first. Your final bite is probably tasty, but a little bit uncomfortable because of how full you are getting.\r\n",
        "3. __Transitivity__\r\n",
        "If you prefer A to B and B to C, then you prefer A to C.\r\n",
        "4. __Salience__\r\n",
        "You can probably assign a certain amount of happiness to any object, even if the amount of happiness is zero. There are no blind spots in your happiness.\r\n",
        "\r\n",
        "When economists talk about \"things\" bringing utility, it doesn't have to be associated with a commodity. Maybe you have utility for being well known on the internet. Maybe the acknowledgement of your colleagues brings you utility. Maybe it brings you utility to be the tallest person in the room.\r\n",
        "\r\n",
        "The second question: \"How much do you value things?\" is trickier to answer. Economists have developed a unit of happiness called a util. Utils are supposed to measure how much happiness thing can bring you. Unfortunately, there is no standard util. A human being (homo-sapien) does not intuitiveliy know what the smallest unit of hapiness is, only econs (homo-economis). To apply our insights to the thinking of humans we must work with human units of value: money.\r\n",
        "\r\n",
        "### Value\r\n",
        "\r\n",
        "Though this [video](https://youtu.be/6sEkeEFH7uw) is far from an academic source, it does a good job of explaining how economists think and talk about value.\r\n",
        "\r\n",
        "It is an old adage, money cannot buy you hapiness. This is a blindspot for economists. In economic thought, money is not the source of hapiness, but it is a placeholder. Although the money is a fiat currency and does not provide you immediate happiness, you can use your agency as an economic being to spend it on something that does.\r\n",
        "\r\n",
        "When we talk about value we can think of it from two perspectives. We can think of it as personal value or resale value. To rephrase that: the value of a good is either the maximum amount you would be willing to pay to buy something, or the minimum amount that someone would have to pay you to sell it.\r\n",
        "\r\n",
        "These should be the same value. If you think that you can resell an item for higher than its price, then your utility maximizing decision would be to buy and re-sell it to someone who values it higher. This process allows you to convert your effort into value. If someone else values something for more than you do, you should be willing to sell it.\r\n",
        "\r\n",
        "Something with a sticker price is easy, but things get more interesting when you get a bit more philisophical. Try answering the following:\r\n",
        "\r\n",
        "1. How much do you value your name? \r\n",
        "2. How much would someone have to pay you to change it?\r\n",
        "\r\n",
        "### Costs\r\n",
        "\r\n",
        "\"There is no free lunch\". At this point you probably think that all of economics can be summed up by antiquated idioms. You may be right. Whenever you make a decision, you are incurring a cost. Most commonly we think of accounting costs. This is the amount that you have to pay for a good or service.\r\n",
        "\r\n",
        "In economics, you must also consider the opportunity cost. Every decision you make comes at the cost of the next best thing. Your decision to spend an hour at the gym comes at the cost of sitting on the couch and watching an extra  hour of your favorite sitcom. Your choice to take this class comes at the cost of the next best class you could have chosen.\r\n",
        "\r\n",
        "Try to answer the following:\r\n",
        "1. What is the cost of reading this chapter?\r\n",
        "\r\n",
        "### Profit\r\n",
        "\r\n",
        "Profit plain and simple is calculated by subtracting our costs from our benefits. It's difficult to think of simultaneously maximizing our value whle minimizing our costs. Instead, what we tend to do is maximize our net profit. This reduces the dimension of our decision. Often times you'll hear this as \"thinking on the margin\""
      ],
      "metadata": {
        "id": "4imwvmoFAw6t"
      }
    },
    {
      "cell_type": "code",
      "execution_count": null,
      "source": [],
      "outputs": [],
      "metadata": {
        "id": "9GXdhyosOkdW"
      }
    }
  ]
}