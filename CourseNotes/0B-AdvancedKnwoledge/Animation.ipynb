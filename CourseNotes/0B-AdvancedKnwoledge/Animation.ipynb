{
 "metadata": {
  "language_info": {
   "codemirror_mode": {
    "name": "ipython",
    "version": 3
   },
   "file_extension": ".py",
   "mimetype": "text/x-python",
   "name": "python",
   "nbconvert_exporter": "python",
   "pygments_lexer": "ipython3",
   "version": 3
  },
  "orig_nbformat": 2
 },
 "nbformat": 4,
 "nbformat_minor": 2,
 "cells": [
  {
   "source": [
    "[tutorial](https://jckantor.github.io/CBE30338/A.03-Animation-in-Jupyter-Notebooks.html)\n"
   ],
   "cell_type": "markdown",
   "metadata": {}
  }
 ]
}