{
 "metadata": {
  "language_info": {
   "codemirror_mode": {
    "name": "ipython",
    "version": 3
   },
   "file_extension": ".py",
   "mimetype": "text/x-python",
   "name": "python",
   "nbconvert_exporter": "python",
   "pygments_lexer": "ipython3",
   "version": "3.8.5-final"
  },
  "orig_nbformat": 2,
  "kernelspec": {
   "name": "python385jvsc74a57bd0b3ba2566441a7c06988d0923437866b63cedc61552a5af99d1f4fb67d367b25f",
   "display_name": "Python 3.8.5 64-bit (conda)"
  }
 },
 "nbformat": 4,
 "nbformat_minor": 2,
 "cells": [
  {
   "source": [
    "Debug\n",
    "A bug is a defect in your program. These can take on several manifestations. In general they can be classified into the following:\n",
    "\n",
    "Syntax or type errors\n",
    "Typos and other simple errors\n",
    "Implemenation errors\n",
    "Logical Errors\n",
    "These are very common in code, and any programmer who says they don't write bugs is a liar. A good programmer does not avoid bugs, but instead knows how to debug their code. This topic will be covered on a separate document. For now just know that you should fix any errors you notice in your code."
   ],
   "cell_type": "markdown",
   "metadata": {}
  },
  {
   "cell_type": "code",
   "execution_count": null,
   "metadata": {},
   "outputs": [],
   "source": []
  },
  {
   "source": [],
   "cell_type": "markdown",
   "metadata": {}
  }
 ]
}