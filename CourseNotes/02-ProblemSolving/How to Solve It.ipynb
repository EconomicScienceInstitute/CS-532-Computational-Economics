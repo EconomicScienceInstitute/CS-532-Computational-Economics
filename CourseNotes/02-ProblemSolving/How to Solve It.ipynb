{
 "cells": [
  {
   "cell_type": "markdown",
   "metadata": {},
   "source": [
    "# How to Solve it\n",
    "George Polya was wone of the most influential mathematicians of the twentieth centry. His basic research contributions spanned many fields including: complex analysis, physics, probability theory, geometry, and combinatorics. For most of us, his most lasting legacy is probably his book \"How to Solve It\". Although he mostly wrote about the pedagogy of math, his method can still be seen in the way that computer science has taught. John H. Conway, who created the popular coding project: Conway's Game of Life has praised this book as a great tool to approach problem solving. \n",
    "\n",
    "At this point, most people in this class have been doing math and problem solving for so long, that they might have forgotten how hard it was when they first started. A lot of the process becomes a process of automation and inspiration. Though this is great for problems with which we are familiar, it is inconsistent when it comes to problems that are novel. This guide is not meant to teach anyone how to solve problems, but hopefully it provides a reminder of what your brain is actually doing and a good way to find the next steps when you are stuck. We will be following his 4 step approach to problem solving to guide us through code that is unfamiliar.\n",
    "\n",
    "## First Understand the Problem\n",
    "First of all, we must make sure that we understand the question. As Polya said, \"It is foolish to answer a question that you do not understand. It is sad to work for an end you do not desire.\" Make sure that you can understand what the question is asking. A good benchmark to test your understand the question is rewrite the question as an ELI5 (Explain it like I'm 5). Try to approach the question like a five year old would. Draw pictures, ask questions, do some practice examples by hand.\n",
    "\n",
    "Some things that might help your understanding is to understand what makes the problem difficult. Are asking the following questions? \n",
    "\n",
    "### What is the unknown?\n",
    "\n",
    "We want to ask ourselves, \"What do we want to know?\" This can be rephrased in several ways:\n",
    "\n",
    "What is the problem asking for? is there any\n",
    "\n",
    "Is there any missing information? Do I have everything that I need to obtain a solution?\n",
    "\n",
    "Is there any vocabulary that needs to be defined? In math, there is sometimes a symbol or a theorem that needs to be understood before a proof can be completed. In programming, sometimes you need to review the documentation of a function or class and understand how it works or how to manipulate it.\n",
    "\n",
    "Often we break problems into smaller sub-problems to find the solutions. This process is good practice for both problem solving and programming. If you can't solve your big problem, is there a smaller problem that you can solve?\n",
    "\n",
    "### What are the data?\n",
    "\n",
    "Polya asks this as \"What are the data?\". I like to phrase it as \"what do I already know?\" Is there anything that we covered in class that would help solve the current problem? Does the problem lend itself well to a particular algorithm or technique with which I am familiar? At any step of our problem, what information is available? What information needs calculation to be made available? Are there any functions in my programming language or in a library that would make this easier? Sometimes your solution is just a search away.\n",
    "\n",
    "### What is the condition?\n",
    "\n",
    "We should ask ourselves, what does it mean for the condition to be satisfied in a problem? An example would be, \"write a code that detects if a hand is a full house\". There is no clear cut answer to this. In order to define what the condition is, we would need to break down the meaning of the question and develop a notation or a system to talk about the problem algorithmically. like so:\n",
    "\n",
    "A hand is a collection of 5 cards, a card is an object with two attributes: rank and suit, a full house is a hand that contains three cards with matching rank and 2 cards of different matching rank.\n",
    "\n",
    "We can then think to ourselves \"is there another way to define our condition?\" We can re-define the condition of full house to be a hand that has exactly two unique ranks. This condition is much easier to test.\n",
    "\n",
    "The process seems lenghty, but can often save time and lead to cleaner code.\n",
    "\n",
    "\n",
    "### Summary\n",
    "Effort can often be wasted in programming since as scientists, we often explore the realm of the unknown. To ensure the best use of our labor, we should constantly check to see if we understand what we are doing and  why we are doing it.\n",
    "\n",
    "When we are making progress we ask:\n",
    "The function we are currently writing, what question does it answer? What condition does it check for? How does this subproblem contribute to our bigger solution?\n",
    "\n",
    "When we are stuck we may ask:\n",
    "Can I develop a notation to understand this problem more simply? Is this similar to a problem that I have done before? Can this problem be broken into smaller pieces that I can understand more easily?\n",
    "\n",
    "## Second Develop A Plan\n",
    "\n",
    "At this point we should thoroughly understand what the question is asking, but we might not know how to get there. If you have broken down the problem into sub-problems, then you're probably most of the way there. The goal is to write out an algorithm. Psuedo-code is perfectly fine at this step. This is something that a lot of us do in our heads, but don't always take the time to do. Here are some methods that are great ways to outline your approach\n",
    "\n",
    "### Write out pseudocode in comments\n",
    "Maybe you have a rough idea, but you don't know the exact syntax of how to implement it. That's great! That's half the battle. The rest of the fight is just researching the syntax and libraries for your specific language. Let's take our of testing a hand of cards to see if it is a straight or not. The algorithm would look something like:\n",
    "\n",
    "1. iterate over each card in the hand\n",
    "2. for each card, check the rank\n",
    "3. Keep track of how many cards belong to each rank\n",
    "4. check to make sure there are only two ranks that have non-zero values.\n",
    "\n",
    "The above is not a perfect algorithm. There are some flaws. Namely, one might ask \"Where are we storing the counts of ranks?\", \"How will we check rank?\" etc. These are smaller problems that can be asked in step 1. The process of problem solving isn't necessarily linear. When we try to solve a question, we sometimes ask more questions. The important thing is not to be overwhelmed by the lack of an end in sight.\n",
    "\n",
    "### Declare funcitons\n",
    "In most functional languages you have the option to declare functions. This is very similar to \"developing a notation\" from step 1. Whether or not you like pseudocode, writing out functions and modularizing your code is a great step to getting your goal accomplished. Remember the pseudocode above? Let's say that we do some searching and realize that step 1 can be done easily using loops, step 3 can be done using a data structure of some type, but steps 2 and 4 might need some more coding. I will declare two functions for the code. \n",
    "\n",
    "Writing code like this is good for several reasons. 1) You can test the individual functions instead of the entire script. If there is an bug you can more easily identify which line causes it. 2) if you are collaborating with someone, you can split the work and trust that they will get their function working. You can assume their function will work eventually and continue to solve the rest of the problem."
   ]
  },
  {
   "cell_type": "code",
   "execution_count": null,
   "metadata": {},
   "outputs": [],
   "source": [
    "def check_rank(card):\n",
    "    #takes in card as argument and returns rank\n",
    "    return 0\n",
    "def is_full_house(hand):\n",
    "    #takes in hand as an argument.\n",
    "    #returns true if the hand is full house else false\n",
    "    return 0"
   ]
  },
  {
   "cell_type": "markdown",
   "metadata": {},
   "source": [
    "We didn't really do anything here. All we did was declare a function that we can use any place where we need to calculate if it's a full house or not. We can then just call the function as a placeholder anywhere we need to do the full calculation in our script."
   ]
  },
  {
   "cell_type": "markdown",
   "metadata": {},
   "source": [
    "By specifying our definition of \"calculating a full house\" using an algorithm we have gotten much closer to our goal. Now we are able to devise an algorithm that will calculate our unknown, or we can google it to see if there is an existing solution. *Note: do not copy and paste anything you see online. Make sure you understand every line before you use it.\n",
    "\n",
    "While writing your code, it's helpful to know that if you're not using any libraries most languages can really only do 3 or 4 things depending on how you count them. Anything that's not one of these\n",
    "\n",
    "- Calculate stuff: In code all conditions or attributes of an object can be described with math. The computer is really good at calculating whatever you tell it to whether it is simple arithmetic or some more advanced boolean algebras.\n",
    "\n",
    "- Name stuff: this is going to be all of the variable assignment class and function definitions this is your chance to create a routine or a new object in the world of code that you're working in.  You can name specific objects, or you can you can even give a name to the calculations you do. If you're going to be doing a sequence of operations in a particular order, you can define a funciton.\n",
    "\n",
    "- Grab/Give stuff: Remember that variable that we talked about? If you tell its name to python, it'll remember it and give it to you. You can then tell it to put it wherever you want it. You can throw it away, you can put it on the screen, or  you can put it into a calculation. You can even grab functions and treat them the same way. \n",
    "\n",
    "- Control flow: Those three things we mentioned up there? We can tell python which order to do things in. This comes in the form of your for loops, while loops, and try except. Maybe you want to repeat a process a certain number of times or until conditions are fulfilled. This is great.\n",
    "\n",
    "Anything that's not one of those can usually be broken into one  of those if you look close enough. Luckily for us, at our level we can just look up a library or built in feature that someone else has figured out. There's no point in re-inventing the wheel and they are there to make your life easier. You can always google the answer, but you will rarelyu find your exact solution. Instead you will find problems that are similar to yours. If you're able to define the smallest unit of what you're struggling with, you'll probably be able to find your answer, because it will be specific enough to be searched. This usually comes in the form of an error that you are encountering or a question like \"How do you keep track of counts of objects in Python?\" Answer: dictionaries/hashmaps\n",
    "\n",
    "## Third Carry out the Plan\n",
    "This is the part that is going to be what you signed up for: Code.\n",
    "\n",
    "If you are lucky, then you will be done; however, you might realize that you didn't quite understand the problem in the beginning. Maybe there is a piece of the problem that was more difficult than you first thought. Break that into its solvable pieces, or as Polya said, \"Within any unsolveable question, there is an aspect which can be answered: find it.\" \n",
    "\n",
    "What do you know how to do? Find that sub-problem and repeat steps 1-3. Understand the sub-problem and devise a plan. Eventually you'll have solved most of the hard stuff and it will be smooth sailing.\n",
    "\n",
    "## Fourth Looking Back\n",
    "\n",
    "Let's say that you've coded up a solution to a sub-problem. Great! Now what? Now is time to look back at what you've done and evaluate the quality of your own work.\n",
    "\n",
    "### Verify your result\n",
    "\n",
    "It is often scary how efficient computers are. With the same amount of effort it takes a human to make one mistake, a computer can make thousands. When you write code, it is very easy to miss a character or type something you didn't mean to. It is also very easy to misunderstand the functionality of something you used. It happens to everyone. \n",
    "\n",
    "#### Unit Test\n",
    "For each funciton you write, you should devise a test. The test should take a known input and print out a predictable output. Let's take our is_full_house(hand) function. We would want to check at least two test inputs. We would want to test one hand that is a full house and one that isn't. It should return TRUE and False when expected.\n",
    "\n",
    "##### Edge Cases\n",
    "Just because it worked for your test, doesn't mean it will work in all cases. Let's take division. Let's say we implement the algorithm similarly to how a child would learn it in school:\n",
    "\n",
    "We want to write a program that divides m by n and returns the answer rounded down to the lower integer value. We propose the algorithm, subtract n from m until it is a negative number. The result is one less than the number of times you subtracted it."
   ]
  },
  {
   "cell_type": "code",
   "execution_count": 1,
   "metadata": {},
   "outputs": [
    {
     "output_type": "execute_result",
     "data": {
      "text/plain": [
       "10"
      ]
     },
     "metadata": {},
     "execution_count": 1
    }
   ],
   "source": [
    "def divide(m,n):\n",
    "    count = 0\n",
    "    while m>=0:\n",
    "        count += 1\n",
    "        m -= n\n",
    "    return count-1 \n",
    "m=42\n",
    "n=4\n",
    "divide(m,n)"
   ]
  },
  {
   "source": [
    "Test the above code a few times with different numbers. What numbers work for it? What numbers don't work? Obviously m needs to be bigger than n or else we don't get a very satisfying answer. What happens if you use n<0? \n",
    "\n",
    "Doing these small unit tests and understanding your edge cases can save you lots of time in the long run and make the job of debugging much easier. You can solve these edge cases by anticipating them and using flow control like a logical operator. For instance, if a user tries to divide by zero, one could print an error, or one could return \"Infinity\". It depends on the will of the programmer and how it fits their specific code.\n",
    "\n",
    "### Debug\n",
    "A bug is a defect in your program. These can take on several manifestations. In general they can be classified into the following:\n",
    "- Syntax or type errors\n",
    "- Typos and other simple errors\n",
    "- Implemenation errors\n",
    "- Logical Errors\n",
    "\n",
    "These are very common in code, and any programmer who says they don't write bugs is a liar. A good programmer does not avoid bugs, but instead knows how to debug their code. This topic will be covered on a separate document. For now just know that you should fix any errors you notice in your code..\n",
    "\n",
    "### Put it all together\n",
    "After you've solved several or all of your subproblems, it becomes time to put the pieces together. In math, this is usually pretty straightforward. The solution to a small problem usually looks like a variable that you can plug into a bigger equation. In programming this can be as easy as solving for a variable, or as difficult as programming a function. The important thing to note in this process is being aware of the type of output and input that each function or subproblem is using.\n",
    "\n",
    "If you wrote out the pseudocode in step 2, use it as a guideline for how to combine the individual steps.\n",
    "\n",
    "### Reflect\n",
    "This is a great moment to ask yourself \"Did I answer the question?\" \"does this solve my problem?\" In math, this usually looks like checking your units and backplugging. In code, this comes in the form of checking your outputs. Are they in the correct format? Is there a better way you could have done that? Is this the fastest code? Is it the most efficient code? Does your answer match your intuition?\n",
    "\n",
    "As you code more, you develop an instinct to identify possible sources of error, edge cases, or flaws in algorithms. While you're starting out, the best approach is to understand your problem and use your outside knowledge to provide you with an answer and some good test cases.\n",
    " "
   ],
   "cell_type": "markdown",
   "metadata": {}
  },
  {
   "cell_type": "code",
   "execution_count": null,
   "metadata": {},
   "outputs": [],
   "source": []
  }
 ],
 "metadata": {
  "kernelspec": {
   "display_name": "Python 3",
   "language": "python",
   "name": "python3"
  },
  "language_info": {
   "codemirror_mode": {
    "name": "ipython",
    "version": 3
   },
   "file_extension": ".py",
   "mimetype": "text/x-python",
   "name": "python",
   "nbconvert_exporter": "python",
   "pygments_lexer": "ipython3",
   "version": "3.8.3-final"
  }
 },
 "nbformat": 4,
 "nbformat_minor": 4
}