{
 "metadata": {
  "language_info": {
   "codemirror_mode": {
    "name": "ipython",
    "version": 3
   },
   "file_extension": ".py",
   "mimetype": "text/x-python",
   "name": "python",
   "nbconvert_exporter": "python",
   "pygments_lexer": "ipython3",
   "version": 3
  },
  "orig_nbformat": 2
 },
 "nbformat": 4,
 "nbformat_minor": 2,
 "cells": [
  {
   "source": [
    "Read the \"Intro to Computational Economics\" primer to review.\n",
    "\n",
    "# Introduction\n",
    "In Economics, the ultimate goal is to understand how the people involved in the problem (agents) are going to act. In order to do this, we must ask ourselves several questions and identify how we would like to approach the problem. Refer to the \"How to solve it\" primer for more background.\n",
    "\n",
    "For the rest of this primer, let us use the example of a Blackjack dealer. The casino sets certain rules for dealers: if the dealer's hand is under a certain value x, the dealer must hit; otherwise, they may stay with their current amount of cards. Before anything else, we would need to build the game, the deck of cards, and the agents into code.\n",
    "\n",
    "\n"
   ],
   "cell_type": "markdown",
   "metadata": {}
  },
  {
   "cell_type": "code",
   "execution_count": null,
   "metadata": {},
   "outputs": [],
   "source": []
  },
  {
   "source": [
    "# What are our options?\n",
    "The first question we may want to ask ourselves is what exactly are the agents able to choose and how can we represent them? The best way to represent a problem is the way that you know how to code it. This may be different from someone else, but in general the correct approaches will share an essence.\n",
    "\n",
    "In the case of our Blackjack game, the house chooses the number x which can range from 2 to 21. A hand with a value of 2 is the lowest possible, and a hand with a value of 21 automatically wins. In code, we would use this\n"
   ],
   "cell_type": "markdown",
   "metadata": {}
  },
  {
   "cell_type": "code",
   "execution_count": null,
   "metadata": {},
   "outputs": [],
   "source": [
    "min_stay_value = 12"
   ]
  },
  {
   "source": [
    "# What is our goal?\n",
    "The key assumption of Economics is that agents behave rationally. This means that they will do the action that maximizes their desired outcomes. This can be written in several ways, so get ready for a lot of terminology. Sometimes you want to maximize the expected value of our utility (**Maximize**), sometimes we want to maximize the minimum gain (**MiniMax**), minimize the maximum loss(**Maximin**). These are just some of the ways we might want to make an optimal decision, but the actual terminology is not too important. As long as you have an idea of what you would like to accomplish, you can put it in code.\n",
    "\n",
    "In the case of our casino, we want to make as much money as possible. So our goal is to choose a number that will get us maximum expected value. We can look at the tools that have available and try to think of one that would best suit our problem."
   ],
   "cell_type": "markdown",
   "metadata": {}
  },
  {
   "cell_type": "code",
   "execution_count": null,
   "metadata": {},
   "outputs": [],
   "source": []
  },
  {
   "source": [
    "# What are the constraints and parameters?\n",
    "\n",
    "This is an important piece of the problem. Is there any more information that would change the nature of the problem? These constraints and parameters can give us a more precise optimal behavior.\n",
    "\n",
    "In our problem we can keep it pretty simple with one deck, but we should ask the following questions: If we add more players does our magic number change? If we use more decks at once? \n",
    "\n",
    "# What decisions under the given constraints will maximize our objective function?\n",
    "The next few weeks, we will expore algorithms and techniques that will allow us to find our optimal solution. At the moment, we know how to create monte carlo simulations and test all numbers between 2 and 21 to find the expected value; however, we can definitely do better computationally.\n",
    "\n",
    "# Other types of strategies\n",
    "Let's take a couple of other problems and discuss how we should approach them. Do this for homework and we can discuss further in class.\n",
    "\n",
    "## Scenario 1\n",
    "You have a limited budget and need to go grocery shopping. How would you choose what to buy?\n",
    "\n",
    "## Scenario 2\n",
    "You are playing a game of rock-paper-scissors. How often should you do each sign? Is there anything that would change your answer?\n",
    "\n",
    "## Scenario 3\n",
    "You are playing a farming type videogame and want to get a high score as fast as possible. How would you make your desicions? What factors would you consider? Think of games like: Plants vs. Zombies, Farmville, or Animal Crossing.\n",
    "\n",
    "Usually your resources are limited and each choice will give you a predefined expected gain. How would you model this problem?\n",
    "\n",
    "# Conclusion\n",
    "Although we did not go in depth into the process of solving these problems, we have begun to discuss how to model an economic problem. For the rest of the course we will explore the various ways that we can optimize and solve these problems using computative methods. Traditionally economists use analytical methods such as real analysis or Game Theory to solve these problems, but we will cheat a bit and use our computational power effectively."
   ],
   "cell_type": "markdown",
   "metadata": {}
  }
 ]
}