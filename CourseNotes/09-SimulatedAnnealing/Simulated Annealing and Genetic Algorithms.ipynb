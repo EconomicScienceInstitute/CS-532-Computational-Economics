{
  "nbformat": 4,
  "nbformat_minor": 2,
  "metadata": {
    "colab": {
      "name": "Simulated Annealing and Genetic Algorithms.ipynb",
      "provenance": []
    },
    "kernelspec": {
      "name": "python3",
      "display_name": "Python 3.9.7 64-bit"
    },
    "metadata": {
      "interpreter": {
        "hash": "bbf22f26862e0c47c069489a5ea5213fdf3d567e4a28a450e612aba0c67ee8e6"
      }
    },
    "language_info": {
      "name": "python",
      "version": "3.9.7",
      "mimetype": "text/x-python",
      "codemirror_mode": {
        "name": "ipython",
        "version": 3
      },
      "pygments_lexer": "ipython3",
      "nbconvert_exporter": "python",
      "file_extension": ".py"
    },
    "interpreter": {
      "hash": "8b6c9172454b0f465b0ace44a91d2ecbf3236040ef07dc4bcb2c1add9b8a5f9d"
    }
  },
  "cells": [
    {
      "cell_type": "markdown",
      "source": [
        "# What is Annealing?\n",
        "Annealing is the process of heating up a material so that it becomes more flexible. If you've ever watched a blacksmith or a glass blower, you've observed this process. When the temperature is high, the material is able to change shape. When it cools down, it has a more stable form.\n",
        "\n",
        "# Simulated Annealing\n",
        "Simulated annealing is an optimization technique. It happens in a couple of steps. The general algorithm is performed by picking a random starting point in the solution space. You then find neighboring points and choose to move your solution pointer to one of those points stochastically. More details are outlined below. Let's walk through this code while we try to find the maximum value of the sinc function\n",
        "$$sinc(x) = \\frac{sin(x)}{x}$$\n",
        "\n",
        "\n",
        "Like most of our code, we're going to want to be importing some utility functions. Usually you'll want a plotting library, a random library, and a library to handle any specialized operations that you'll need.\n",
        "\n",
        "Before we do any fancy coding, we're going to graph it and show it below."
      ],
      "metadata": {
        "id": "fDSANqtc15XP"
      }
    },
    {
      "cell_type": "code",
      "execution_count": 1,
      "source": [
        "import matplotlib.pyplot as plt\r\n",
        "import random\r\n",
        "import math\r\n",
        "\r\n",
        "#this returns the function sinc(x)\r\n",
        "def sinc(x):\r\n",
        "    if x == 0:\r\n",
        "        return 1\r\n",
        "    else:\r\n",
        "        return math.sin(x)/x\r\n",
        "\r\n",
        "def plot_sinc():\r\n",
        "    x = []\r\n",
        "    y = []\r\n",
        "    for i in range(-100,100):\r\n",
        "        x.append(i / 5)\r\n",
        "        y.append(sinc(i/5))\r\n",
        "\r\n",
        "    plt.plot(x,y)\r\n",
        "\r\n",
        "plot_sinc()"
      ],
      "outputs": [
        {
          "output_type": "display_data",
          "data": {
            "image/png": "[encoded data removed]",
            "text/plain": [
              "<Figure size 432x288 with 1 Axes>"
            ]
          },
          "metadata": {
            "needs_background": "light"
          }
        }
      ],
      "metadata": {
        "id": "0Ell_Xn2jHf7",
        "colab": {
          "base_uri": "https://localhost:8080/",
          "height": 265
        },
        "outputId": "51baeb16-f688-4315-9a99-f28930f49b96"
      }
    },
    {
      "cell_type": "markdown",
      "source": [
        "## Step 1: Finding a neighbor\n",
        "In this step we define the state of our problem and define heuristics for how our program will traverse the solution space.\n"
      ],
      "metadata": {
        "id": "jN9D6KmcjHpU"
      }
    },
    {
      "cell_type": "code",
      "execution_count": 2,
      "source": [
        "  \"\"\"\r\n",
        "  Function to round a number to the lower and upper bounds of our problem\r\n",
        "  \"\"\"\r\n",
        "def clip(value, bounds):\r\n",
        "    value = min(value, bounds[1])\r\n",
        "    value = max(value, bounds[0])\r\n",
        "    return value\r\n",
        "\r\n",
        "# in this example we are clipping off any values outside of the range 0 to 5\r\n",
        "test_vals = list(range(-3,10))\r\n",
        "clipped_vals = [clip(v, (0,5)) for v in test_vals]\r\n",
        "\r\n",
        "print(test_vals)\r\n",
        "print(clipped_vals)"
      ],
      "outputs": [
        {
          "output_type": "stream",
          "name": "stdout",
          "text": [
            "[-3, -2, -1, 0, 1, 2, 3, 4, 5, 6, 7, 8, 9]\n",
            "[0, 0, 0, 0, 1, 2, 3, 4, 5, 5, 5, 5, 5]\n"
          ]
        }
      ],
      "metadata": {
        "id": "3oEtxQoL12iK",
        "colab": {
          "base_uri": "https://localhost:8080/"
        },
        "outputId": "419f6902-4ab8-45de-e340-33668a213b6d"
      }
    },
    {
      "cell_type": "code",
      "execution_count": 3,
      "source": [
        "  \"\"\"\r\n",
        "    Stochastically generates a random neighbor from the current value\r\n",
        "    if it is near the bounds of the problem, clip it.\r\n",
        "  \"\"\"\r\n",
        "def generate_neighbor(current_value):\r\n",
        "    neighbor = current_value + random.uniform(-5, 5)\r\n",
        "    neighbor = clip(neighbor, (-20, 20))\r\n",
        "    return neighbor\r\n"
      ],
      "outputs": [],
      "metadata": {
        "id": "l8fFAKzSZnRo"
      }
    },
    {
      "cell_type": "markdown",
      "source": [
        "Here is an illustration to show how our neighbor generation works. We will start at 49, which is right near the bounds of our problem"
      ],
      "metadata": {
        "id": "Tx7n_qNjkSWt"
      }
    },
    {
      "cell_type": "code",
      "execution_count": 4,
      "source": [
        "near_edge_neighbors = []\r\n",
        "for i in range(1000):\r\n",
        "    near_edge_neighbors.append(generate_neighbor(19))\r\n",
        "\r\n",
        "plt.hist(near_edge_neighbors)"
      ],
      "outputs": [
        {
          "output_type": "execute_result",
          "data": {
            "text/plain": [
              "(array([ 59.,  49.,  75.,  66.,  55.,  62.,  52.,  56.,  53., 473.]),\n",
              " array([14.00687836, 14.60619053, 15.20550269, 15.80481485, 16.40412702,\n",
              "        17.00343918, 17.60275135, 18.20206351, 18.80137567, 19.40068784,\n",
              "        20.        ]),\n",
              " <BarContainer object of 10 artists>)"
            ]
          },
          "metadata": {},
          "execution_count": 4
        },
        {
          "output_type": "display_data",
          "data": {
            "image/png": "[encoded data removed]",
            "text/plain": [
              "<Figure size 432x288 with 1 Axes>"
            ]
          },
          "metadata": {
            "needs_background": "light"
          }
        }
      ],
      "metadata": {
        "id": "j87xP3Cpk04j",
        "colab": {
          "base_uri": "https://localhost:8080/",
          "height": 353
        },
        "outputId": "4304a57e-3e27-4370-d826-6ae910062c59"
      }
    },
    {
      "cell_type": "markdown",
      "source": [
        "We would expect to see a graph that is symmetrical around our start point of 49; however, we can see that all of the mass that would have been past our bound is concentrated on the endpoint."
      ],
      "metadata": {
        "id": "sJXYSPDdZnRr"
      }
    },
    {
      "cell_type": "markdown",
      "source": [
        "## Step 2: Calculate Temperature\n",
        "Think about the example of metalurgy. When we increase the temperature of the metal we make it more flexible.  in our example, if we change the temperature of our model, we make it more or less likely to accept the neighbor. This helps us fine tune our algorithm. Sometimes we will want to turn up the temperature so that we don't get stuck in a local minimum; other times we will want it to be more stable and turn down the temperature. We can tune this wiht our value of alpha.\n",
        "\n",
        "\n"
      ],
      "metadata": {
        "id": "WkhRhZCLiv3I"
      }
    },
    {
      "cell_type": "code",
      "execution_count": 5,
      "source": [
        "steps = 10000\r\n",
        "def calculate_temp(step, num_steps):\r\n",
        "    init_temp = 1\r\n",
        "    alpha = 5\r\n",
        "    return init_temp * (1 - alpha/num_steps)**step\r\n",
        "\r\n",
        "x=list(range(steps))\r\n",
        "y=[calculate_temp(s, steps) for s in range(steps)]\r\n",
        "plt.plot(x,y)\r\n",
        "plt.xlabel(\"steps\")\r\n",
        "plt.ylabel(\"temperature\")"
      ],
      "outputs": [
        {
          "output_type": "execute_result",
          "data": {
            "text/plain": [
              "Text(0, 0.5, 'temperature')"
            ]
          },
          "metadata": {},
          "execution_count": 5
        },
        {
          "output_type": "display_data",
          "data": {
            "image/png": "[encoded data removed]",
            "text/plain": [
              "<Figure size 432x288 with 1 Axes>"
            ]
          },
          "metadata": {
            "needs_background": "light"
          }
        }
      ],
      "metadata": {
        "id": "vdpzHPdwlA6x",
        "colab": {
          "base_uri": "https://localhost:8080/",
          "height": 297
        },
        "outputId": "beff0efa-1859-40d6-d1df-4464a9282093"
      }
    },
    {
      "cell_type": "markdown",
      "source": [
        "## Step 3: Choose to accept or reject a neighbor\n",
        "Once you have generated your neighbors you will either accept or reject them as new solutions. The probability of acceptance will be proportional to the temperature. Again, this is where we can fine tune and play with our heuristic, until it behaves like we want it to."
      ],
      "metadata": {
        "id": "ZDJpF3FLixNE"
      }
    },
    {
      "cell_type": "code",
      "execution_count": 6,
      "source": [
        "def accept_neighbor(neighbor, current_solution, temp):\r\n",
        "    value_diff = sinc(neighbor) - sinc(current_solution)\r\n",
        "    prob_accept = math.exp(value_diff / temp)\r\n",
        "    return random.random() < prob_accept"
      ],
      "outputs": [],
      "metadata": {
        "id": "TATC0BBRlERh"
      }
    },
    {
      "cell_type": "markdown",
      "source": [
        "Here is an example where the generated neighbor value is better than our current value. In this case, we would ideally reject our current value, and go with the neighbor."
      ],
      "metadata": {
        "id": "uBWiL2KQlMwD"
      }
    },
    {
      "cell_type": "code",
      "execution_count": 7,
      "source": [
        "current_value = 2\r\n",
        "neighbor_value = 0\r\n",
        "\r\n",
        "plot_sinc()\r\n",
        "plt.plot([current_value],[sinc(current_value)],\"o\",color=\"green\")\r\n",
        "plt.plot([neighbor_value],[sinc(neighbor_value)],\"o\",color=\"red\")"
      ],
      "outputs": [
        {
          "output_type": "execute_result",
          "data": {
            "text/plain": [
              "[<matplotlib.lines.Line2D at 0x2870868bca0>]"
            ]
          },
          "metadata": {},
          "execution_count": 7
        },
        {
          "output_type": "display_data",
          "data": {
            "image/png": "[encoded data removed]",
            "text/plain": [
              "<Figure size 432x288 with 1 Axes>"
            ]
          },
          "metadata": {
            "needs_background": "light"
          }
        }
      ],
      "metadata": {
        "id": "dEDTvC4TlVW_",
        "colab": {
          "base_uri": "https://localhost:8080/",
          "height": 283
        },
        "outputId": "ddf1f126-acf9-494a-cd01-dea3552b6bc2"
      }
    },
    {
      "cell_type": "markdown",
      "source": [
        "Let's see how often we reject this neighbor given a temperature measurement"
      ],
      "metadata": {
        "id": "au23bX1vlit5"
      }
    },
    {
      "cell_type": "code",
      "execution_count": 9,
      "source": [
        "temps = [0.001, 0.1, 1, 10000]\r\n",
        "temp_results = []\r\n",
        "for t in temps:\r\n",
        "    counts = [0,0]\r\n",
        "    for i in range(10000):\r\n",
        "        accept = accept_neighbor(neighbor_value, current_value, t)\r\n",
        "        counts[accept] += 1\r\n",
        "    temp_results.append(counts)\r\n",
        "    \r\n",
        "print(temp_results)"
      ],
      "outputs": [
        {
          "output_type": "stream",
          "name": "stdout",
          "text": [
            "[[0, 10000], [0, 10000], [0, 10000], [0, 10000]]\n"
          ]
        }
      ],
      "metadata": {
        "id": "POA3veGelpex",
        "colab": {
          "base_uri": "https://localhost:8080/"
        },
        "outputId": "c66e7548-3b8d-4396-f237-8dab8d32a200"
      }
    },
    {
      "cell_type": "markdown",
      "source": [
        "Now let's take a look at a scenario where the neighbor that we generate is worse than our current. Let's say that our current value is the optimal, and the neighbor is suboptimal."
      ],
      "metadata": {
        "id": "m4lsbobzmA2V"
      }
    },
    {
      "cell_type": "code",
      "execution_count": 10,
      "source": [
        "current_value = 0\r\n",
        "neighbor_value = 2\r\n",
        "\r\n",
        "plot_sinc()\r\n",
        "plt.plot([current_value],[sinc(current_value)],\"o\",color=\"green\")\r\n",
        "plt.plot([neighbor_value],[sinc(neighbor_value)],\"o\",color=\"red\")"
      ],
      "outputs": [
        {
          "output_type": "execute_result",
          "data": {
            "text/plain": [
              "[<matplotlib.lines.Line2D at 0x7f0fa3115950>]"
            ]
          },
          "metadata": {},
          "execution_count": 10
        },
        {
          "output_type": "display_data",
          "data": {
            "image/png": "[encoded data removed]",
            "text/plain": [
              "<Figure size 432x288 with 1 Axes>"
            ]
          },
          "metadata": {
            "needs_background": "light"
          }
        }
      ],
      "metadata": {
        "id": "en8A3J_5mR6h",
        "colab": {
          "base_uri": "https://localhost:8080/",
          "height": 283
        },
        "outputId": "5d666a68-cc92-46a4-9b50-e61c4abf0c2b"
      }
    },
    {
      "cell_type": "code",
      "execution_count": 12,
      "source": [
        "temps = [10000, 1, 0.1, 0.001]\r\n",
        "temp_results = []\r\n",
        "for t in temps:\r\n",
        "    counts = [0,0]\r\n",
        "    for i in range(10000):\r\n",
        "        accept = accept_neighbor(neighbor_value, current_value, t)\r\n",
        "        counts[accept] += 1\r\n",
        "    temp_results.append(counts)\r\n",
        "    \r\n",
        "print(temp_results)"
      ],
      "outputs": [
        {
          "output_type": "stream",
          "name": "stdout",
          "text": [
            "[[0, 10000], [4267, 5733], [9951, 49], [10000, 0]]\n"
          ]
        }
      ],
      "metadata": {
        "id": "FEY_XY-qmeoS",
        "colab": {
          "base_uri": "https://localhost:8080/"
        },
        "outputId": "9fbe0bb2-7c6b-48fb-b0d3-c7bfad83f69d"
      }
    },
    {
      "cell_type": "code",
      "execution_count": 13,
      "source": [
        "#for colab\r\n",
        "%matplotlib inline\r\n",
        "#for vscode\r\n",
        "#%matplotlib ipympl "
      ],
      "outputs": [],
      "metadata": {
        "id": "0dy1ucU1ZnRy"
      }
    },
    {
      "cell_type": "markdown",
      "source": [
        "## Simulated Annealing Steps\n",
        "\n",
        "- Generate initial point\n",
        "- Generate neighbor solution\n",
        "- Accept or reject\n",
        "- Repeat"
      ],
      "metadata": {
        "id": "xa3dFcedjzly"
      }
    },
    {
      "cell_type": "code",
      "execution_count": 8,
      "source": [
        "\r\n",
        "def simulated_annealing_step(step):\r\n",
        "  global current_solution\r\n",
        "  neighbor_solution = generate_neighbor(current_solution)\r\n",
        "  temp = calculate_temp(step, steps)\r\n",
        "  if accept_neighbor(neighbor_solution, current_solution, temp):\r\n",
        "    current_solution = neighbor_solution\r\n",
        "  return current_solution\r\n",
        "\r\n",
        "def simulated_annealing(steps):\r\n",
        "  solutions = []\r\n",
        "  for step in range(steps):\r\n",
        "    solutions.append(simulated_annealing_step(step))\r\n",
        "  return solutions\r\n",
        "\r\n",
        "current_solution = random.uniform(-20,20)\r\n",
        "steps = 10000\r\n",
        "solutions = simulated_annealing(steps)"
      ],
      "outputs": [],
      "metadata": {
        "id": "35-AXdttmElQ"
      }
    },
    {
      "cell_type": "code",
      "execution_count": 31,
      "source": [
        "solutions[-1]"
      ],
      "outputs": [
        {
          "output_type": "execute_result",
          "data": {
            "text/plain": [
              "-0.1196267760545835"
            ]
          },
          "metadata": {},
          "execution_count": 31
        }
      ],
      "metadata": {
        "id": "nnzWfj23mchd",
        "outputId": "915b10ba-6447-4f4d-ead5-b54c59688a80",
        "colab": {
          "base_uri": "https://localhost:8080/"
        }
      }
    },
    {
      "cell_type": "code",
      "execution_count": 11,
      "source": [
        "import numpy as np\r\n",
        "import matplotlib.pyplot as plt\r\n",
        "from matplotlib import animation, rc\r\n",
        "from IPython.display import HTML\r\n",
        "\r\n",
        "# First set up the figure, the axis, and the plot element we want to animate\r\n",
        "fig,ax = plt.subplots(1,1)\r\n",
        "\r\n",
        "ax.set_xlim((-20, 20))\r\n",
        "ax.set_ylim((-2, 2))\r\n",
        "\r\n",
        "current_solution = random.uniform(-20,20)\r\n",
        "line, = ax.plot([], [], lw=2)\r\n",
        "point, = ax.plot([current_solution],[sinc(current_solution)],\"o\",color=\"green\")\r\n",
        "\r\n",
        "\r\n",
        "# initialization function: plot the background of each frame\r\n",
        "def init():\r\n",
        "    x = np.linspace(-20, 20, 1000)\r\n",
        "    y = [sinc(v) for v in x]\r\n",
        "    line.set_data(x, y)\r\n",
        "    point.set_data([current_solution],[sinc(current_solution)])\r\n",
        "    \r\n",
        "    return (line,point,)\r\n",
        "\r\n",
        "# animation function. This is called sequentially\r\n",
        "def animate(i):\r\n",
        "    x = [simulated_annealing_step(i)]\r\n",
        "    y = [sinc(i) for i in x]\r\n",
        "    point.set_data(x, y)\r\n",
        "    return [fig]\r\n",
        "\r\n",
        "init()\r\n",
        "# call the animator. blit=True means only re-draw the parts that have changed.\r\n",
        "anim = animation.FuncAnimation(fig, animate, \r\n",
        "                               frames=100, interval=20, blit=True)\r\n",
        "#plt.plot([-1,0,1], [1,1,1])"
      ],
      "outputs": [
        {
          "output_type": "display_data",
          "data": {
            "image/png": "[encoded data removed]",
            "text/plain": [
              "<Figure size 432x288 with 1 Axes>"
            ]
          },
          "metadata": {
            "needs_background": "light"
          }
        }
      ],
      "metadata": {
        "id": "6Q8ZhbSKZnRy",
        "outputId": "ba745cb4-b576-4f07-e543-c1971ef77295",
        "colab": {
          "base_uri": "https://localhost:8080/",
          "height": 269
        }
      }
    },
    {
      "cell_type": "code",
      "execution_count": 12,
      "source": [
        "HTML(anim.to_html5_video())"
      ],
      "outputs": [
        {
          "output_type": "error",
          "ename": "RuntimeError",
          "evalue": "Requested MovieWriter (ffmpeg) not available",
          "traceback": [
            "\u001b[1;31m---------------------------------------------------------------------------\u001b[0m",
            "\u001b[1;31mRuntimeError\u001b[0m                              Traceback (most recent call last)",
            "\u001b[1;32m~\\AppData\\Local\\Temp/ipykernel_10636/4267696184.py\u001b[0m in \u001b[0;36m<module>\u001b[1;34m\u001b[0m\n\u001b[1;32m----> 1\u001b[1;33m \u001b[0mHTML\u001b[0m\u001b[1;33m(\u001b[0m\u001b[0manim\u001b[0m\u001b[1;33m.\u001b[0m\u001b[0mto_html5_video\u001b[0m\u001b[1;33m(\u001b[0m\u001b[1;33m)\u001b[0m\u001b[1;33m)\u001b[0m\u001b[1;33m\u001b[0m\u001b[1;33m\u001b[0m\u001b[0m\n\u001b[0m",
            "\u001b[1;32m~\\AppData\\Local\\Programs\\Python\\Python39\\lib\\site-packages\\matplotlib\\animation.py\u001b[0m in \u001b[0;36mto_html5_video\u001b[1;34m(self, embed_limit)\u001b[0m\n\u001b[0;32m   1346\u001b[0m                 \u001b[1;31m# We create a writer manually so that we can get the\u001b[0m\u001b[1;33m\u001b[0m\u001b[1;33m\u001b[0m\u001b[0m\n\u001b[0;32m   1347\u001b[0m                 \u001b[1;31m# appropriate size for the tag\u001b[0m\u001b[1;33m\u001b[0m\u001b[1;33m\u001b[0m\u001b[0m\n\u001b[1;32m-> 1348\u001b[1;33m                 \u001b[0mWriter\u001b[0m \u001b[1;33m=\u001b[0m \u001b[0mwriters\u001b[0m\u001b[1;33m[\u001b[0m\u001b[0mmpl\u001b[0m\u001b[1;33m.\u001b[0m\u001b[0mrcParams\u001b[0m\u001b[1;33m[\u001b[0m\u001b[1;34m'animation.writer'\u001b[0m\u001b[1;33m]\u001b[0m\u001b[1;33m]\u001b[0m\u001b[1;33m\u001b[0m\u001b[1;33m\u001b[0m\u001b[0m\n\u001b[0m\u001b[0;32m   1349\u001b[0m                 writer = Writer(codec='h264',\n\u001b[0;32m   1350\u001b[0m                                 \u001b[0mbitrate\u001b[0m\u001b[1;33m=\u001b[0m\u001b[0mmpl\u001b[0m\u001b[1;33m.\u001b[0m\u001b[0mrcParams\u001b[0m\u001b[1;33m[\u001b[0m\u001b[1;34m'animation.bitrate'\u001b[0m\u001b[1;33m]\u001b[0m\u001b[1;33m,\u001b[0m\u001b[1;33m\u001b[0m\u001b[1;33m\u001b[0m\u001b[0m\n",
            "\u001b[1;32m~\\AppData\\Local\\Programs\\Python\\Python39\\lib\\site-packages\\matplotlib\\animation.py\u001b[0m in \u001b[0;36m__getitem__\u001b[1;34m(self, name)\u001b[0m\n\u001b[0;32m    149\u001b[0m         \u001b[1;32mif\u001b[0m \u001b[0mself\u001b[0m\u001b[1;33m.\u001b[0m\u001b[0mis_available\u001b[0m\u001b[1;33m(\u001b[0m\u001b[0mname\u001b[0m\u001b[1;33m)\u001b[0m\u001b[1;33m:\u001b[0m\u001b[1;33m\u001b[0m\u001b[1;33m\u001b[0m\u001b[0m\n\u001b[0;32m    150\u001b[0m             \u001b[1;32mreturn\u001b[0m \u001b[0mself\u001b[0m\u001b[1;33m.\u001b[0m\u001b[0m_registered\u001b[0m\u001b[1;33m[\u001b[0m\u001b[0mname\u001b[0m\u001b[1;33m]\u001b[0m\u001b[1;33m\u001b[0m\u001b[1;33m\u001b[0m\u001b[0m\n\u001b[1;32m--> 151\u001b[1;33m         \u001b[1;32mraise\u001b[0m \u001b[0mRuntimeError\u001b[0m\u001b[1;33m(\u001b[0m\u001b[1;34mf\"Requested MovieWriter ({name}) not available\"\u001b[0m\u001b[1;33m)\u001b[0m\u001b[1;33m\u001b[0m\u001b[1;33m\u001b[0m\u001b[0m\n\u001b[0m\u001b[0;32m    152\u001b[0m \u001b[1;33m\u001b[0m\u001b[0m\n\u001b[0;32m    153\u001b[0m \u001b[1;33m\u001b[0m\u001b[0m\n",
            "\u001b[1;31mRuntimeError\u001b[0m: Requested MovieWriter (ffmpeg) not available"
          ]
        }
      ],
      "metadata": {
        "id": "LtNUj59AZnRz",
        "outputId": "e0ce240e-4d0f-49c8-8173-fde6436c7de2",
        "colab": {
          "base_uri": "https://localhost:8080/",
          "height": 309
        }
      }
    },
    {
      "cell_type": "markdown",
      "source": [
        "Notice how at low temperatures, we will almost never accept the suboptimal value at a low temperature; however, at high temperatures, we will almost always get accept the new one.\n",
        "\n",
        "# Why use Simulated Annealing?\n",
        "\n",
        "If you've ever done numerical analysis you might be familiar with Euler's method. You might also be aware of the fact that it fails when you get stuck on a local minimum or maximum. The sinc fucntion is great at illustrating how there are lots of local extrema. Much like a piece of glass or iron in a workshop, we just need to turn up the temperature a bit and get clever with our heuristics to help us find the optimal answer on problems whose solutions aren't immediately clear.\n",
        "\n",
        "# Animation of the algorithm\n",
        "Make sure to install ffmpeg into your path if you are going to do any animation."
      ],
      "metadata": {
        "id": "1zVUtP00mheT"
      }
    },
    {
      "cell_type": "markdown",
      "source": [
        "# Genetics\n",
        "Now instead of drawing inspiration from craftspeople and artisans, we will draw our inspiration from mother nature herself.\n",
        "\n",
        "# The Theory of Evolution\n",
        "Evolution is a topic that is inconsistently taught throughout the US and other parts of the world, so let's do a really quick refresher. We won't go through the entire history of Darwin and his adventures in the Galapagos, but we will talk about the three main observations that the theory revolves around.\n",
        "\n",
        "## Genetic Variation\n",
        "\n",
        "It's pretty common to hear people say \"I'm not like other ___\". They're right. Organisms that reproduce sexually like humans, dogs,and other animals have different traits within a population. These different traits can be seen in our hair color, height, strength, etc.\n",
        "\n",
        "## Fitness\n",
        "\n",
        "The different traits make an organism more or less fit than others. That is, their traits can make them better at gathering resources or attracting mates. Fitness increases an organism chances of reproducing.\n",
        "\n",
        "## Inheritance\n",
        "The genes that you have don't come from thin air. You probably look like your parents. Your parents probably look like theirs and so on and so forth.\n",
        "\n",
        "\n",
        "# Genetic Algorithms\n",
        "\n",
        "## Traits\n",
        "We will use these same principles to create our algorithm. Instead of organism that evolve with traits, we will create strategies or solution parameters. Just like how our genetics and traits determine the fitness, the parameters and strategies will determine the payout. Let's take the game of blackjack. Let's say that we're going to follow a simple stratey and choose a number n. If the value of our hand is less than n, then we hit and ask for another card. If it is less than n, we will stay.\n",
        "\n",
        "Once we decide how to generate these traits, we will generate a population of these strategies."
      ],
      "metadata": {
        "id": "bX98QKrP2eDi"
      }
    },
    {
      "cell_type": "code",
      "execution_count": null,
      "source": [
        "#returns a minimum value between 0 and 21. These are the traits that we will be testing\n",
        "def random_strategy():\n",
        "  return random.randint(0,21)\n",
        "\n",
        "#generates a population of individual strategies\n",
        "#should call the strategy/generate individual\n",
        "def generate_population(population_size):\n",
        "  return [random_strategy() for _ in range(population_size)]\n"
      ],
      "outputs": [],
      "metadata": {
        "id": "YZesG6qRoq2a"
      }
    },
    {
      "cell_type": "markdown",
      "source": [
        "## Survivial Of The Fittest\n",
        "To determine which model is the most fit, we will need to make them compete against each other. One great way to do that is by simulating a tournament of some kind. Similar to our Monte Carlo simulations, we will randomly draw from our population\n",
        "\n",
        "We will randomly select them pairwise and have them compete against each other. Based on how often thy\n",
        "\n",
        "Here is a great example of how tournaments can be used to find the best strategy. Play through this game and try to see how it relates to our genetic algorithm. It's a really great example that will give you a good understanding of how genetic algorithms can be used to make decisions in economics and some flaws that you may run into.\n",
        "\n",
        "https://ncase.me/trust/\n",
        "\n",
        "For our purposes we will need to code a game of blackjack. This starts with a deck and a strategy."
      ],
      "metadata": {
        "id": "39SXRnLB0ka5"
      }
    },
    {
      "cell_type": "code",
      "execution_count": null,
      "source": [
        "def create_deck():\n",
        "  suits = [\"H\",\"D\",\"S\",\"C\"]\n",
        "  values = [i for i in range(1,14)]\n",
        "  return [(s,v) for s in suits for v in values]\n",
        "\n",
        "create_deck()"
      ],
      "outputs": [
        {
          "output_type": "execute_result",
          "data": {
            "text/plain": [
              "[('H', 2),\n",
              " ('H', 3),\n",
              " ('H', 4),\n",
              " ('H', 5),\n",
              " ('H', 6),\n",
              " ('H', 7),\n",
              " ('H', 8),\n",
              " ('H', 9),\n",
              " ('H', 10),\n",
              " ('H', 11),\n",
              " ('H', 12),\n",
              " ('H', 13),\n",
              " ('D', 2),\n",
              " ('D', 3),\n",
              " ('D', 4),\n",
              " ('D', 5),\n",
              " ('D', 6),\n",
              " ('D', 7),\n",
              " ('D', 8),\n",
              " ('D', 9),\n",
              " ('D', 10),\n",
              " ('D', 11),\n",
              " ('D', 12),\n",
              " ('D', 13),\n",
              " ('S', 2),\n",
              " ('S', 3),\n",
              " ('S', 4),\n",
              " ('S', 5),\n",
              " ('S', 6),\n",
              " ('S', 7),\n",
              " ('S', 8),\n",
              " ('S', 9),\n",
              " ('S', 10),\n",
              " ('S', 11),\n",
              " ('S', 12),\n",
              " ('S', 13),\n",
              " ('C', 2),\n",
              " ('C', 3),\n",
              " ('C', 4),\n",
              " ('C', 5),\n",
              " ('C', 6),\n",
              " ('C', 7),\n",
              " ('C', 8),\n",
              " ('C', 9),\n",
              " ('C', 10),\n",
              " ('C', 11),\n",
              " ('C', 12),\n",
              " ('C', 13)]"
            ]
          },
          "metadata": {
            "tags": []
          },
          "execution_count": 1
        }
      ],
      "metadata": {
        "id": "p1NNJr0t6XxO",
        "colab": {
          "base_uri": "https://localhost:8080/"
        },
        "outputId": "6f7755da-f518-4dfc-b554-8c3bda992be8"
      }
    },
    {
      "cell_type": "code",
      "execution_count": null,
      "source": [
        "test = [(\"H\",10),(\"H\",10),(\"D\",1)]\n",
        "#calculates the value of a hand and the expected value of a strategy.\n",
        "def hand_value(hand):\n",
        "  hand_value = 0\n",
        "  count_aces = 0\n",
        "  for _,value in hand:\n",
        "    if value == 1:\n",
        "      if value + 11 > 21:\n",
        "        hand_value += 1\n",
        "      else:\n",
        "        hand_value += 11\n",
        "        count_aces += 1\n",
        "    else:\n",
        "      hand_value += min(value,10)\n",
        "    while hand_value >21 and count_aces:\n",
        "      hand_value -= 10\n",
        "      count_aces -= 1\n",
        "  return hand_value if hand_value <= 21 else 0\n",
        "\n",
        "def deal_hand(deck):\n",
        "  hand = [deck.pop(random.randrange(len(deck))) for _ in range(2)]\n",
        "  return hand\n",
        "\n",
        "def hit_hand(min_val,hand,deck):\n",
        "  while hand_value(hand_value) < min_val:\n",
        "    #add to the hand\n",
        "    hand.append(deck.pop(random.randrange(len(deck))))\n",
        "    return hand\n",
        "\n",
        "def play_game(player_min):\n",
        "  deck = create_deck()\n",
        "  player_hand = deal_hand(deck)\n",
        "  hit_hand(player_min,hand,deck)\n"
      ],
      "outputs": [],
      "metadata": {
        "id": "KtaX2prX66k8"
      }
    },
    {
      "cell_type": "markdown",
      "source": [
        "# Select Parents & Generate Children\n",
        "We should randomly draw form the current population and allow them to create children. \n",
        "\n",
        "One way is for each parent that you select, their child will be a clone that is included in the new population. \n",
        "There are many methods for deciding how parents will be split. \n",
        "\n",
        "We covered one point crossover in class. Where you choose an index and then split across.\n",
        "\n",
        "Since we have numeric solutions, we will use a weighted average. Two parents will generate two children.\n",
        "$c_1 = 0.3 p_1 + 0.7 p_2$\n",
        "$c_2 = 0.7 p_1 + 0.3 p_2$\n",
        "\n",
        "We can also do this with a random weight.\n",
        "\n",
        "$c_1 = w_1 p_1 + (1-w_1) p_2$\n",
        "\n",
        "$c_2 = (1-w_2) p_1 + (1-w_2) p_2$\n",
        "\n",
        "\n",
        "# Mutating Children\n",
        "We want to avoid any sinks that our children generation children has created.\n",
        "\n",
        "|$\\delta$| P|\n",
        "|---|---|\n",
        "|-2|0.1|\n",
        "|-1|0.2|\n",
        "|0|0.4|\n",
        "|+1|0.2|\n",
        "|+2|0.1|\n",
        "\n",
        "I want to add $\\delta$ to the min value with the listed probabilities\n"
      ],
      "metadata": {
        "id": "_fiD01kQp-tw"
      }
    }
  ]
}