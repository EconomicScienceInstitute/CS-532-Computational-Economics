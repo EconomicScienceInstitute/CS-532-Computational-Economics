{
  "nbformat": 4,
  "nbformat_minor": 2,
  "metadata": {
    "colab": {
      "name": "CleanCode.ipynb",
      "provenance": [],
      "collapsed_sections": []
    },
    "kernelspec": {
      "name": "python3",
      "display_name": "Python 3"
    }
  },
  "cells": [
    {
      "cell_type": "code",
      "execution_count": null,
      "source": [
        "import random"
      ],
      "outputs": [],
      "metadata": {
        "id": "QR-MqDnZLjvh"
      }
    },
    {
      "cell_type": "markdown",
      "source": [
        "# Resources\r\n",
        "\r\n",
        "Here is a list of resources that provide a lot of good information about how to write good python.\r\n",
        "\r\n",
        "The main source for how to style python code is called PEP 8 and can be found here. It's worth skimming.\r\n",
        "\r\n",
        "https://www.python.org/dev/peps/pep-0008/\r\n",
        "\r\n",
        "An opinion article that summarizes a lot of the PEP 8 rules can be found here:\r\n",
        "\r\n",
        "https://realpython.com/python-pep8/\r\n",
        "\r\n",
        "This is a really good article on some good and bad practices to use when writing your code. It goes over things like unpacking, chaining, iteration, and a lot of other nice features of python.\r\n",
        "\r\n",
        "https://www.blog.duomly.com/good-and-bad-practices-of-coding-in-python/\r\n",
        "\r\n",
        "Finally, this article goes in depth about variable naming from the perspective of a data scientist. This would probably be a very useful resource for most of you given your degree program.\r\n",
        "\r\n",
        "https://towardsdatascience.com/data-scientists-your-variable-names-are-awful-heres-how-to-fix-them-89053d2855be"
      ],
      "metadata": {
        "id": "_qfq5tVhtbfA"
      }
    },
    {
      "cell_type": "code",
      "execution_count": null,
      "source": [
        "def test(a, b = None, c = 2):\r\n",
        "  print(f'{a},{b},{c}')\r\n",
        "\r\n",
        "test(10,2)\r\n",
        "test(b=2,a=10)\r\n",
        "test(10,c=1)"
      ],
      "outputs": [
        {
          "output_type": "stream",
          "name": "stdout",
          "text": [
            "10,2,2\n",
            "10,2,2\n",
            "10,None,1\n"
          ]
        }
      ],
      "metadata": {
        "id": "LLS-e1iI7yHD",
        "colab": {
          "base_uri": "https://localhost:8080/",
          "height": 67
        },
        "outputId": "ac01fc91-86b0-4b59-8449-f61e9c2cadd7"
      }
    },
    {
      "cell_type": "markdown",
      "source": [
        "#Variable Naming\n",
        "\n",
        "##Naming Conventions\n",
        "\n",
        "Use snake case for variables and functions:\n",
        "* All lower case letters\n",
        "* Words separated by underscore\n",
        "\n",
        "Avoid names that are too long and/or too short.\n",
        "\n",
        "Variable names should be descriptive.\n",
        "\n",
        "Don't use O,l, or I\n",
        "\n",
        "Bad:"
      ],
      "metadata": {
        "id": "2gsLrqy2FGFJ"
      }
    },
    {
      "cell_type": "code",
      "execution_count": null,
      "source": [
        "x = random.randint(1,6)\r\n",
        "data = [1,2,3,4,5]\r\n",
        "data_structure = {\"user_name\": \"rkfrench\", \"dob\": \"1/1/84\"}\r\n",
        "my_list = [12386]\r\n",
        "dictionary_for_the_purpose_of_storing_data_representing_word_definitions = {\"hungry\": \"feeling or displaying the need for food.\"}"
      ],
      "outputs": [],
      "metadata": {
        "id": "hpFEeIKNE8_S"
      }
    },
    {
      "cell_type": "markdown",
      "source": [
        "Better:"
      ],
      "metadata": {
        "id": "PqE54wRcHE4K"
      }
    },
    {
      "cell_type": "code",
      "execution_count": null,
      "source": [
        "die_roll = random.randint(1,6)\r\n",
        "roll_history = [4,2,1,4,5]\r\n",
        "user_profile = {\"user_name\": \"rkfrench\", \"dob\": \"1/1/84\"}\r\n",
        "expected_profit = [12386]\r\n",
        "word_definitions = {\"hungry\": \"feeling or displaying the need for food.\"}"
      ],
      "outputs": [],
      "metadata": {
        "id": "KKkRbHtDHDVE"
      }
    },
    {
      "cell_type": "markdown",
      "source": [
        "##Avoid disinformation\n",
        "\n",
        "Make sure your variable names do not represent something they are not. For example, if your variable holds a string, do not include _int in the name because it would lead the reader to think it is an integer."
      ],
      "metadata": {
        "id": "x-vVe3_xMHy8"
      }
    },
    {
      "cell_type": "code",
      "execution_count": null,
      "source": [
        "price_int = \"0.50\""
      ],
      "outputs": [],
      "metadata": {
        "id": "368-WLB6LX6b"
      }
    },
    {
      "cell_type": "markdown",
      "source": [
        "#Use pronouncible names\n",
        "\n",
        "Be careful not to use too many abreviations and if using abreviations make sure they are easily understood by the reader. For example, using dr to represent dice roll might not be that obvious but something more common like avg to represent average would be fine.\n",
        "\n",
        "\n",
        "Bad:"
      ],
      "metadata": {
        "id": "hxdGEV2oMV9e"
      }
    },
    {
      "cell_type": "code",
      "execution_count": null,
      "source": [
        "dr_data = [3,4,5,1,2]"
      ],
      "outputs": [],
      "metadata": {
        "id": "xglhswxpMVf_"
      }
    },
    {
      "cell_type": "markdown",
      "source": [
        "Better:"
      ],
      "metadata": {
        "id": "qpUVgsEgMj7P"
      }
    },
    {
      "cell_type": "code",
      "execution_count": null,
      "source": [
        "dice_rolls = [3,4,5,1,2]"
      ],
      "outputs": [],
      "metadata": {
        "id": "JF0Swz6MMjHm"
      }
    },
    {
      "cell_type": "markdown",
      "source": [
        "##Iterate\n",
        "\n",
        "It's important to read through your code multiple times. I know a lot of times where you are in the middle of writing your code everything seems clear. But set it aside for a few minutes and come back to it and you might realize improvements you can make to it's readability. It can only help to make mutlple small improvements in readability over time."
      ],
      "metadata": {
        "id": "wXU3Gi-CMurp"
      }
    },
    {
      "cell_type": "code",
      "execution_count": null,
      "source": [
        "data = []\n",
        "dr_data = []\n",
        "dice_roll_data = []\n",
        "dice_rolls = []"
      ],
      "outputs": [],
      "metadata": {
        "id": "E8615pEWMtU1"
      }
    },
    {
      "cell_type": "markdown",
      "source": [
        "#Functions\n",
        "\n",
        "Just like variable names, functions should also be snake case (all lower case with words separated by underscore _).\n",
        "\n",
        "Functions should do one thing and only one thing. Now this is a goal, not a rule. Sometimes it might be too inneficient (runtime wise) to break a function that does 2 things into two functions that do one thing. But in most cases it's better to have 2 separate functions that accomplish a single goal.\n",
        "\n",
        "Functions should be short. Goal is 10 lines or less. Preferrably 5 lines or less. Again, this is not always possible but something to shoot for.\n",
        "\n",
        "Functions should have as few parameters as possible. Goal would be 2 - 3 parameters max. If you need more than 3 parameters you probably need a class"
      ],
      "metadata": {
        "id": "ZluMoz-oyO8x"
      }
    },
    {
      "cell_type": "markdown",
      "source": [
        "#Example\n",
        "\n",
        "It was surprisingly hard to find examples of how to rewrite code online. I found this example http://www.cs.unc.edu/~stotts/COMP723-s15/refactor/chap1.html written in c# or java and converted it to python. \n",
        "\n",
        "Here is an example of an overly complicated function. Let's go through and see if we can rewrite it to make it more readable and understandable."
      ],
      "metadata": {
        "id": "IUJ81_nJfygz"
      }
    },
    {
      "cell_type": "code",
      "execution_count": null,
      "source": [
        "def statement():\n",
        "    total_amount = 0\n",
        "    frequent_renter_points = 0\n",
        "    rentals = _rentals.elements()\n",
        "    result = \"Rental Record for \" + name() + \"\\n\"\n",
        "    while rentals.has_more_elements():\n",
        "        this_amount = 0;\n",
        "        each = rentals.next_element()\n",
        "\n",
        "        #determine amounts for each line\n",
        "        code = each.tape().movie().price_code();\n",
        "        if code == REGULAR:\n",
        "            this_amount += 2\n",
        "            if each.days_rented > 2:\n",
        "                this_amount += (each.days_rented - 2) * 1.5\n",
        "        elif code == NEW_RELEASE:\n",
        "            this_amount += each.days_rented * 3\n",
        "        elif code == CHILDRENS:\n",
        "            this_amount += 1.5\n",
        "            if each.days_rented > 3:\n",
        "                this_amount += (each.days_rented - 3) * 1.5\n",
        "\n",
        "        total_amount += this_amount\n",
        "\n",
        "        # add frequent renter points\n",
        "        frequent_renter_points += 1\n",
        "        # add bonus for a two day new release rental\n",
        "        if code == NEW_RELEASE and each.days_rented > 1: frequent_renter_points += 1\n",
        "\n",
        "        # show figures for this rental\n",
        "        result += f\"\\t{each.tape().movie().name()}\\t{this_amount}\\n\"\n",
        "\n",
        "    #add footer lines\n",
        "    result +=  f\"Amount owed is {total_amount}\\n\"\n",
        "    result += f\"You earned {frequent_renter_points} frequent renter points\"\n",
        "    return result"
      ],
      "outputs": [],
      "metadata": {
        "id": "mQAPTKCIf-Is"
      }
    },
    {
      "cell_type": "markdown",
      "source": [
        "The main goal of rewriting your code should be to make it more readable. This means that we should extract parts of our code into smaller methods that concentrate on a single job. The parts that determines the amount for each line could easily be put in it's own method. If you are doing this manually, you need to make sure to look for variables in the code that need to be passed as parameters and variables that need to be returned. "
      ],
      "metadata": {
        "id": "iv1xx20LizHD"
      }
    },
    {
      "cell_type": "code",
      "execution_count": null,
      "source": [
        "def statement():\n",
        "    total_amount = 0\n",
        "    frequent_renter_points = 0\n",
        "    rentals = _rentals.elements()\n",
        "    result = \"Rental Record for \" + name() + \"\\n\"\n",
        "    while rentals.has_more_elements():\n",
        "        this_amount = 0\n",
        "        each = rentals.next_element()\n",
        "\n",
        "        #determine amounts for each line\n",
        "        this_amount = amount_of(each)\n",
        "        total_amount += this_amount;\n",
        "\n",
        "        # add frequent renter points\n",
        "        frequent_renter_points += 1\n",
        "        # add bonus for a two day new release rental\n",
        "        if code == NEW_RELEASE and each.days_rented > 1: frequent_renter_points += 1\n",
        "\n",
        "        # show figures for this rental\n",
        "        result += f\"\\t{each.tape().movie().name()}\\t{this_amount}\\n\"\n",
        "\n",
        "    #add footer lines\n",
        "    result +=  f\"Amount owed is {total_amount}\\n\"\n",
        "    result += f\"You earned {frequent_renter_points} frequent renter points\"\n",
        "    return result\n",
        "\n",
        "def amount_of(each):\n",
        "    this_amount = 0\n",
        "    code = each.tape().movie().price_code();\n",
        "    if code == REGULAR:\n",
        "        this_amount += 2\n",
        "        if each.days_rented > 2:\n",
        "            this_amount += (each.days_rented - 2) * 1.5\n",
        "    elif code == NEW_RELEASE:\n",
        "        this_amount += each.days_rented * 3\n",
        "    elif code == CHILDRENS:\n",
        "        this_amount += 1.5\n",
        "        if each.days_rented > 3:\n",
        "            this_amount += (each.days_rented - 3) * 1.5\n",
        "    return this_amount\n",
        "\n",
        "print(statement())"
      ],
      "outputs": [],
      "metadata": {
        "id": "iBnoF_NeiOlG"
      }
    },
    {
      "cell_type": "markdown",
      "source": [
        "Now we have successfully extracted a method but we can still make improvements. A lot of the variable names in this fuction are ambiguous and can be improved."
      ],
      "metadata": {
        "id": "xbaPy0oopFVO"
      }
    },
    {
      "cell_type": "code",
      "execution_count": null,
      "source": [
        "def amount_of(a_rental):\n",
        "    total_cost = 0\n",
        "    code = a_rental.tape().movie().price_code()\n",
        "    if code == REGULAR:\n",
        "        total_cost += 2\n",
        "        if a_rental.days_rented > 2:\n",
        "            total_cost += (a_rental.days_rented - 2) * 1.5\n",
        "    elif code == NEW_RELEASE:\n",
        "        total_cost += a_rental.days_rented * 3\n",
        "    elif code == CHILDRENS:\n",
        "        total_cost += 1.5\n",
        "        if a_rental.days_rented > 3:\n",
        "            total_cost += (a_rental.days_rented - 3) * 1.5\n",
        "    return total_cost"
      ],
      "outputs": [],
      "metadata": {
        "id": "ksvs3Iz4pPOo"
      }
    },
    {
      "cell_type": "markdown",
      "source": [
        "Now that this function has been updated we can turn our attention back to the main statement() function. We see that after extracting the method we have some redundant variable names so let's take care of the redundancies."
      ],
      "metadata": {
        "id": "nQRvCkXVqJjr"
      }
    },
    {
      "cell_type": "code",
      "execution_count": null,
      "source": [
        "def statement():\n",
        "    total_amount = 0\n",
        "    frequent_renter_points = 0\n",
        "    rentals = _rentals.elements()\n",
        "    result = \"Rental Record for \" + name() + \"\\n\"\n",
        "    while rentals.has_more_elements():\n",
        "        each = rentals.next_element()\n",
        "\n",
        "        #determine amounts for each line\n",
        "        total_amount += amount_of(each)\n",
        "\n",
        "        # add frequent renter points\n",
        "        frequent_renter_points += 1\n",
        "        # add bonus for a two day new release rental\n",
        "        if code == NEW_RELEASE and each.days_rented > 1: frequent_renter_points += 1\n",
        "\n",
        "        # show figures for this rental\n",
        "        result += f\"\\t{each.tape().movie().name()}\\t{this_amount}\\n\"\n",
        "\n",
        "    #add footer lines\n",
        "    result +=  f\"Amount owed is {total_amount}\\n\"\n",
        "    result += f\"You earned {frequent_renter_points} frequent renter points\"\n",
        "    return result"
      ],
      "outputs": [],
      "metadata": {
        "id": "SVn-VJjrqXON"
      }
    },
    {
      "cell_type": "markdown",
      "source": [
        "Next we can turn our attention to the frequent_renter_points calculation. Notice there is an if statement that determines how the frequent renters points are calculated based on the type of movie. "
      ],
      "metadata": {
        "id": "Fxh8kXFyqxRE"
      }
    },
    {
      "cell_type": "code",
      "execution_count": null,
      "source": [
        "def frequent_renter_point_of(a_rental):\n",
        "  frequent_renter_points = 1\n",
        "  # add bonus for a two day new release rental\n",
        "  if a_rental.tape().movie().price_code() == NEW_RELEASE and a_rental.days_rented > 1: \n",
        "    frequent_renter_points += 1\n",
        "  return frequent_renter_points"
      ],
      "outputs": [],
      "metadata": {
        "id": "gGrWdJrbrFYM"
      }
    },
    {
      "cell_type": "markdown",
      "source": [
        "Now let's look at our progress. For the most part things are much more readable."
      ],
      "metadata": {
        "id": "Lkliu-hfsX89"
      }
    },
    {
      "cell_type": "code",
      "execution_count": null,
      "source": [
        "def statement():\n",
        "  total_amount = 0\n",
        "  frequent_renter_points = 0\n",
        "  rentals = _rentals.elements()\n",
        "  result = \"Rental Record for \" + name() + \"\\n\"\n",
        "  while rentals.has_more_elements():\n",
        "    rental = rentals.next_element()\n",
        "\n",
        "    #determine amounts for each line\n",
        "    total_amount += rental_cost(rental) # determine amounts for each rental\n",
        "\n",
        "    # add frequent renter points\n",
        "    frequent_renter_points += frequent_renter_points(rental)\n",
        "\n",
        "    # show figures for this rental\n",
        "    result += f\"\\t{rental.tape().movie().name()}\\t{this_amount}\\n\"\n",
        "\n",
        "  #add footer lines\n",
        "  result +=  f\"Amount owed is {total_amount}\\n\"\n",
        "  result += f\"You earned {frequent_renter_points} frequent renter points\"\n",
        "  return result\n",
        "\n",
        "# this calculates rental points by doing ___\n",
        "def frequent_renter_point_of(a_rental):\n",
        "  frequent_renter_points = 1\n",
        "  # add bonus for a two day new release rental\n",
        "  if a_rental.tape().movie().price_code() == NEW_RELEASE and a_rental.days_rented > 1: \n",
        "    frequent_renter_points += 1\n",
        "  return frequent_renter_points\n",
        "\n",
        "def amount_of(a_rental):\n",
        "  total_cost = 0\n",
        "  code = a_rental.tape().movie().price_code()\n",
        "  if code == REGULAR:\n",
        "      total_cost += 2\n",
        "      if a_rental.days_rented > 2:\n",
        "          total_cost += (a_rental.days_rented - 2) * 1.5\n",
        "  elif code == NEW_RELEASE:\n",
        "      total_cost += a_rental.days_rented * 3\n",
        "  elif code == CHILDRENS:\n",
        "      total_cost += 1.5\n",
        "      if a_rental.days_rented > 3:\n",
        "          total_cost += (a_rental.days_rented - 3) * 1.5\n",
        "  return total_cost"
      ],
      "outputs": [],
      "metadata": {
        "id": "bU6B43Vbsl7S"
      }
    },
    {
      "cell_type": "markdown",
      "source": [
        "On a side note, the way this code is written is not very pythonic. The main things I notice are the method calls, .movie() for example, would more likely be .movie in python. Or the while loop iteration would be better written by iterating through the rentals \"for rental in _rentals\" in python. "
      ],
      "metadata": {
        "id": "tI8--2mGs_y6"
      }
    },
    {
      "cell_type": "code",
      "execution_count": null,
      "source": [],
      "outputs": [],
      "metadata": {
        "id": "T9s8wsjdtZpq"
      }
    }
  ]
}