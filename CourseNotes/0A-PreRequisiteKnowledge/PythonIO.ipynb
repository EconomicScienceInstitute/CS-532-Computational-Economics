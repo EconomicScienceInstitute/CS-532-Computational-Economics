{
  "nbformat": 4,
  "nbformat_minor": 0,
  "metadata": {
    "colab": {
      "name": "PythonIO.ipynb",
      "provenance": [],
      "include_colab_link": true
    },
    "kernelspec": {
      "name": "python3",
      "display_name": "Python 3"
    }
  },
  "cells": [
    {
      "cell_type": "markdown",
      "metadata": {
        "id": "view-in-github",
        "colab_type": "text"
      },
      "source": [
        "<a href=\"https://colab.research.google.com/github/tristntran/CS-532-Computational-Economics/blob/main/PythonIO.ipynb\" target=\"_parent\"><img src=\"https://colab.research.google.com/assets/colab-badge.svg\" alt=\"Open In Colab\"/></a>"
      ]
    },
    {
      "cell_type": "markdown",
      "metadata": {
        "id": "1uUbqTsPHe0U"
      },
      "source": [
        "# Python I/O\n",
        "\n",
        "# Printing\n",
        "The print statment was probably the first thing that anyone learned how to do. it always comes in handy to be able to interact with your users. Below are a couple of tips and tricks to impr\n",
        "\n",
        "\n",
        "# Plots and graphics\n",
        "\n",
        "## Matplotlib\n",
        "\n",
        "## Seaborn\n",
        "\n",
        "# Inputs\n",
        "\n",
        "Taking user input is a bit beyond the scope of this class. You will often have to change parameters for your programs. A good way to be flexible is to allow for user inputs."
      ]
    },
    {
      "cell_type": "markdown",
      "metadata": {
        "id": "9PK6Fgo-eoqC"
      },
      "source": [
        "---\r\n",
        "\r\n",
        "# Importing CSV's\r\n",
        "\r\n",
        "## using built in functions"
      ]
    },
    {
      "cell_type": "code",
      "metadata": {
        "id": "bfwBiH9qeX2c"
      },
      "source": [],
      "execution_count": null,
      "outputs": []
    },
    {
      "cell_type": "markdown",
      "metadata": {
        "id": "GoSRWzfxeYV3"
      },
      "source": [
        "## Using Pandas"
      ]
    },
    {
      "cell_type": "code",
      "metadata": {
        "id": "npNrSKF3ebqI"
      },
      "source": [],
      "execution_count": null,
      "outputs": []
    },
    {
      "cell_type": "markdown",
      "metadata": {
        "id": "55R7ghhBeLgB"
      },
      "source": [
        "# Progress Bars\r\n",
        "\r\n",
        "In this class, our project will often require us to run really long for loops and processes. It's easy to get impatient and give up, or suspect that you are experiencing a runtime error. To make things easier, use the trange method from tqdm to create a loading bar. All you need to do is install the program in your environment and let it run. If you intend to use colab, the package comes pre-installed.\r\n",
        "\r\n",
        "To install it in anaconda or another platform follow the instructions in the documentation\r\n",
        "\r\n",
        "https://tqdm.github.io/\r\n",
        "\r\n",
        "The example down below is pretty trivial, but is a good demonstration of how trange can be used. It takes the same positional arguments as the normal range method, but allows for additional keword inputs like desc. Play around with the settings to get things just the way you like them."
      ]
    },
    {
      "cell_type": "code",
      "metadata": {
        "colab": {
          "base_uri": "https://localhost:8080/"
        },
        "id": "oGH7e0hCcqeY",
        "outputId": "0a97e78a-5eb2-431e-e31f-b5bcbf6a6c43"
      },
      "source": [
        "from tqdm import trange\r\n",
        "n = 100000\r\n",
        "n_fact = 1\r\n",
        "for i in trange(1,n,desc=\"Loading...\"):\r\n",
        "  n_fact *= i"
      ],
      "execution_count": null,
      "outputs": [
        {
          "output_type": "stream",
          "text": [
            "Loading...: 100%|██████████| 99999/99999 [00:02<00:00, 33786.36it/s]\n"
          ],
          "name": "stderr"
        }
      ]
    },
    {
      "cell_type": "markdown",
      "metadata": {
        "id": "Do6dwITqiNNk"
      },
      "source": [
        "You can also use tqdm instead of trange to do for each loops and other types of iterables. Please try it out for yourself."
      ]
    },
    {
      "cell_type": "code",
      "metadata": {
        "colab": {
          "base_uri": "https://localhost:8080/",
          "height": 249
        },
        "id": "DfIvJHJ_iWoW",
        "outputId": "000d2990-6345-49c7-c96e-76b60e3eb572"
      },
      "source": [
        "from tqdm import tqdm\r\n",
        "from time import sleep\r\n",
        "numbers = [i for i in range(1,n,3)]\r\n",
        "squares = []\r\n",
        "for num1 in tqdm(numbers):\r\n",
        "  squares.append(num1**2)"
      ],
      "execution_count": null,
      "outputs": [
        {
          "output_type": "error",
          "ename": "NameError",
          "evalue": "ignored",
          "traceback": [
            "\u001b[0;31m---------------------------------------------------------------------------\u001b[0m",
            "\u001b[0;31mNameError\u001b[0m                                 Traceback (most recent call last)",
            "\u001b[0;32m<ipython-input-1-ef88810d70ae>\u001b[0m in \u001b[0;36m<module>\u001b[0;34m()\u001b[0m\n\u001b[1;32m      1\u001b[0m \u001b[0;32mfrom\u001b[0m \u001b[0mtqdm\u001b[0m \u001b[0;32mimport\u001b[0m \u001b[0mtqdm\u001b[0m\u001b[0;34m\u001b[0m\u001b[0;34m\u001b[0m\u001b[0m\n\u001b[1;32m      2\u001b[0m \u001b[0;32mfrom\u001b[0m \u001b[0mtime\u001b[0m \u001b[0;32mimport\u001b[0m \u001b[0msleep\u001b[0m\u001b[0;34m\u001b[0m\u001b[0;34m\u001b[0m\u001b[0m\n\u001b[0;32m----> 3\u001b[0;31m \u001b[0mnumbers\u001b[0m \u001b[0;34m=\u001b[0m \u001b[0;34m[\u001b[0m\u001b[0mi\u001b[0m \u001b[0;32mfor\u001b[0m \u001b[0mi\u001b[0m \u001b[0;32min\u001b[0m \u001b[0mrange\u001b[0m\u001b[0;34m(\u001b[0m\u001b[0;36m1\u001b[0m\u001b[0;34m,\u001b[0m\u001b[0mn\u001b[0m\u001b[0;34m,\u001b[0m\u001b[0;36m3\u001b[0m\u001b[0;34m)\u001b[0m\u001b[0;34m]\u001b[0m\u001b[0;34m\u001b[0m\u001b[0;34m\u001b[0m\u001b[0m\n\u001b[0m\u001b[1;32m      4\u001b[0m \u001b[0msquares\u001b[0m \u001b[0;34m=\u001b[0m \u001b[0;34m[\u001b[0m\u001b[0;34m]\u001b[0m\u001b[0;34m\u001b[0m\u001b[0;34m\u001b[0m\u001b[0m\n\u001b[1;32m      5\u001b[0m \u001b[0;32mfor\u001b[0m \u001b[0mnum1\u001b[0m \u001b[0;32min\u001b[0m \u001b[0mtqdm\u001b[0m\u001b[0;34m(\u001b[0m\u001b[0mnumbers\u001b[0m\u001b[0;34m)\u001b[0m\u001b[0;34m:\u001b[0m\u001b[0;34m\u001b[0m\u001b[0;34m\u001b[0m\u001b[0m\n",
            "\u001b[0;31mNameError\u001b[0m: name 'n' is not defined"
          ]
        }
      ]
    },
    {
      "cell_type": "markdown",
      "metadata": {
        "id": "H_1ythCVjs8q"
      },
      "source": [
        "If you choose to use this method with a zip() object, you need to include the total keyword."
      ]
    },
    {
      "cell_type": "code",
      "metadata": {
        "colab": {
          "base_uri": "https://localhost:8080/",
          "height": 1000
        },
        "id": "gF8W5m01i3bB",
        "outputId": "69a31d12-4c1d-4ba1-fd13-31e660f080da"
      },
      "source": [
        "from tqdm import tqdm\r\n",
        "from time import sleep\r\n",
        "for num1,num2 in tqdm(zip(numbers,numbers),desc = \"Progress \", total = len(numbers)):\r\n",
        "  squares.append(num1*num2)\r\n",
        "  sleep(0.1)"
      ],
      "execution_count": null,
      "outputs": [
        {
          "output_type": "stream",
          "text": [
            "\n",
            "Progress :   0%|          | 0/33333 [00:00<?, ?it/s]\u001b[A\n",
            "Progress :   0%|          | 1/33333 [00:00<55:40,  9.98it/s]\u001b[A\n",
            "Progress :   0%|          | 2/33333 [00:00<56:07,  9.90it/s]\u001b[A\n",
            "Progress :   0%|          | 3/33333 [00:00<56:28,  9.84it/s]\u001b[A\n",
            "Progress :   0%|          | 4/33333 [00:00<56:36,  9.81it/s]\u001b[A\n",
            "Progress :   0%|          | 5/33333 [00:00<56:44,  9.79it/s]\u001b[A\n",
            "Progress :   0%|          | 6/33333 [00:00<56:47,  9.78it/s]\u001b[A\n",
            "Progress :   0%|          | 7/33333 [00:00<56:49,  9.77it/s]\u001b[A\n",
            "Progress :   0%|          | 8/33333 [00:00<56:49,  9.77it/s]\u001b[A\n",
            "Progress :   0%|          | 9/33333 [00:00<56:52,  9.76it/s]\u001b[A\n",
            "Progress :   0%|          | 10/33333 [00:01<56:56,  9.75it/s]\u001b[A\n",
            "Progress :   0%|          | 11/33333 [00:01<57:00,  9.74it/s]\u001b[A\n",
            "Progress :   0%|          | 12/33333 [00:01<57:00,  9.74it/s]\u001b[A\n",
            "Progress :   0%|          | 13/33333 [00:01<57:07,  9.72it/s]\u001b[A\n",
            "Progress :   0%|          | 14/33333 [00:01<57:15,  9.70it/s]\u001b[A\n",
            "Progress :   0%|          | 15/33333 [00:01<57:09,  9.72it/s]\u001b[A\n",
            "Progress :   0%|          | 16/33333 [00:01<57:03,  9.73it/s]\u001b[A\n",
            "Progress :   0%|          | 17/33333 [00:01<57:01,  9.74it/s]\u001b[A\n",
            "Progress :   0%|          | 18/33333 [00:01<56:59,  9.74it/s]\u001b[A\n",
            "Progress :   0%|          | 19/33333 [00:01<56:59,  9.74it/s]\u001b[A\n",
            "Progress :   0%|          | 20/33333 [00:02<56:58,  9.74it/s]\u001b[A\n",
            "Progress :   0%|          | 21/33333 [00:02<57:01,  9.74it/s]\u001b[A\n",
            "Progress :   0%|          | 22/33333 [00:02<56:59,  9.74it/s]\u001b[A\n",
            "Progress :   0%|          | 23/33333 [00:02<57:00,  9.74it/s]\u001b[A\n",
            "Progress :   0%|          | 24/33333 [00:02<57:04,  9.73it/s]\u001b[A\n",
            "Progress :   0%|          | 25/33333 [00:02<57:06,  9.72it/s]\u001b[A\n",
            "Progress :   0%|          | 26/33333 [00:02<57:12,  9.70it/s]\u001b[A\n",
            "Progress :   0%|          | 27/33333 [00:02<57:08,  9.71it/s]\u001b[A\n",
            "Progress :   0%|          | 28/33333 [00:02<57:08,  9.71it/s]\u001b[A\n",
            "Progress :   0%|          | 29/33333 [00:02<57:08,  9.71it/s]\u001b[A\n",
            "Progress :   0%|          | 30/33333 [00:03<57:08,  9.71it/s]\u001b[A\n",
            "Progress :   0%|          | 31/33333 [00:03<57:09,  9.71it/s]\u001b[A\n",
            "Progress :   0%|          | 32/33333 [00:03<57:09,  9.71it/s]\u001b[A\n",
            "Progress :   0%|          | 33/33333 [00:03<57:09,  9.71it/s]\u001b[A\n",
            "Progress :   0%|          | 34/33333 [00:03<57:06,  9.72it/s]\u001b[A\n",
            "Progress :   0%|          | 35/33333 [00:03<57:02,  9.73it/s]\u001b[A\n",
            "Progress :   0%|          | 36/33333 [00:03<57:00,  9.73it/s]\u001b[A\n",
            "Progress :   0%|          | 37/33333 [00:03<57:01,  9.73it/s]\u001b[A\n",
            "Progress :   0%|          | 38/33333 [00:03<56:58,  9.74it/s]\u001b[A\n",
            "Progress :   0%|          | 39/33333 [00:04<56:55,  9.75it/s]\u001b[A\n",
            "Progress :   0%|          | 40/33333 [00:04<56:54,  9.75it/s]\u001b[A\n",
            "Progress :   0%|          | 41/33333 [00:04<56:57,  9.74it/s]\u001b[A\n",
            "Progress :   0%|          | 42/33333 [00:04<56:56,  9.75it/s]\u001b[A\n",
            "Progress :   0%|          | 43/33333 [00:04<56:54,  9.75it/s]\u001b[A\n",
            "Progress :   0%|          | 44/33333 [00:04<56:54,  9.75it/s]\u001b[A\n",
            "Progress :   0%|          | 45/33333 [00:04<56:55,  9.75it/s]\u001b[A\n",
            "Progress :   0%|          | 46/33333 [00:04<56:54,  9.75it/s]\u001b[A\n",
            "Progress :   0%|          | 47/33333 [00:04<56:56,  9.74it/s]\u001b[A"
          ],
          "name": "stderr"
        },
        {
          "output_type": "error",
          "ename": "KeyboardInterrupt",
          "evalue": "ignored",
          "traceback": [
            "\u001b[0;31m---------------------------------------------------------------------------\u001b[0m",
            "\u001b[0;31mKeyboardInterrupt\u001b[0m                         Traceback (most recent call last)",
            "\u001b[0;32m<ipython-input-5-65957ec3b220>\u001b[0m in \u001b[0;36m<module>\u001b[0;34m()\u001b[0m\n\u001b[1;32m      3\u001b[0m \u001b[0;32mfor\u001b[0m \u001b[0mnum1\u001b[0m\u001b[0;34m,\u001b[0m\u001b[0mnum2\u001b[0m \u001b[0;32min\u001b[0m \u001b[0mtqdm\u001b[0m\u001b[0;34m(\u001b[0m\u001b[0mzip\u001b[0m\u001b[0;34m(\u001b[0m\u001b[0mnumbers\u001b[0m\u001b[0;34m,\u001b[0m\u001b[0mnumbers\u001b[0m\u001b[0;34m)\u001b[0m\u001b[0;34m,\u001b[0m\u001b[0mdesc\u001b[0m \u001b[0;34m=\u001b[0m \u001b[0;34m\"Progress \"\u001b[0m\u001b[0;34m,\u001b[0m \u001b[0mtotal\u001b[0m \u001b[0;34m=\u001b[0m \u001b[0mlen\u001b[0m\u001b[0;34m(\u001b[0m\u001b[0mnumbers\u001b[0m\u001b[0;34m)\u001b[0m\u001b[0;34m)\u001b[0m\u001b[0;34m:\u001b[0m\u001b[0;34m\u001b[0m\u001b[0;34m\u001b[0m\u001b[0m\n\u001b[1;32m      4\u001b[0m   \u001b[0msquares\u001b[0m\u001b[0;34m.\u001b[0m\u001b[0mappend\u001b[0m\u001b[0;34m(\u001b[0m\u001b[0mnum1\u001b[0m\u001b[0;34m*\u001b[0m\u001b[0mnum2\u001b[0m\u001b[0;34m)\u001b[0m\u001b[0;34m\u001b[0m\u001b[0;34m\u001b[0m\u001b[0m\n\u001b[0;32m----> 5\u001b[0;31m   \u001b[0msleep\u001b[0m\u001b[0;34m(\u001b[0m\u001b[0;36m0.1\u001b[0m\u001b[0;34m)\u001b[0m\u001b[0;34m\u001b[0m\u001b[0;34m\u001b[0m\u001b[0m\n\u001b[0m",
            "\u001b[0;31mKeyboardInterrupt\u001b[0m: "
          ]
        }
      ]
    },
    {
      "cell_type": "markdown",
      "metadata": {
        "id": "LCgnm-SklRto"
      },
      "source": [
        "## Word of Warning\r\n",
        "stopping a tqdm iterable in the middle of its runtimw will result in an error that causes there to be multiple progress bars. You can fix this by restarting the runtime."
      ]
    }
  ]
}