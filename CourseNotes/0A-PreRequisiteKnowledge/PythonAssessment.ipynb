{
  "nbformat": 4,
  "nbformat_minor": 2,
  "metadata": {
    "colab": {
      "name": "PythonAssessment.ipynb",
      "provenance": []
    },
    "kernelspec": {
      "name": "python3",
      "display_name": "Python 3"
    },
    "language_info": {
      "name": "python"
    }
  },
  "cells": [
    {
      "cell_type": "markdown",
      "source": [
        "# Python Assessment\r\n",
        "\r\n",
        "I want to remind everyone that Python is not a prerequisite for this course. If you do not know how to solve any of these problems it is going to be ok.  This quiz is strictly used as an assesment tool so I can adjust the amount of python programming I cover in class. Please try your best, including using online resources.  [Stackoverflow](https://www.gutenberg.org/ebooks/1342/) is your best friend! Please do not spend more than 30 minutes working on this."
      ],
      "metadata": {}
    },
    {
      "cell_type": "markdown",
      "source": [
        "# Problem 1\r\n",
        "\r\n",
        "Write a function that takes in a string user input language and prints \"Hello World\" in the given language for exmple\r\n",
        "\r\n",
        "hello_world(\"English\") should print \"Hello, world\"\r\n",
        "hello_world(\"French\") should print \"Bonjour, monde\"\r\n",
        "hello_world(\"Spanish\") should print \"Hola, mundo\"\r\n",
        "\r\n"
      ],
      "metadata": {
        "id": "7FazvZXkUnIy"
      }
    },
    {
      "cell_type": "code",
      "execution_count": null,
      "source": [
        "def hello_world(language: str)->None:\r\n",
        "    pass"
      ],
      "outputs": [],
      "metadata": {
        "id": "O_Lk3o4fUifX"
      }
    },
    {
      "cell_type": "markdown",
      "source": [
        "# Problem 2\n",
        "\n",
        "Create a list of languages and apply the function onto each member of the list. "
      ],
      "metadata": {
        "id": "jppFmTMXWeaW"
      }
    },
    {
      "cell_type": "code",
      "execution_count": null,
      "source": [
        "# create a list of languages\r\n",
        "\r\n",
        "# iterate over the list and apply the function"
      ],
      "outputs": [],
      "metadata": {
        "id": "KQEDojtIXRk7"
      }
    },
    {
      "cell_type": "markdown",
      "source": [
        "# Problem 3\n",
        "Write a function that takes in a list of numbers and returns their average example."
      ],
      "metadata": {
        "id": "Tv1NjyKTXSMP"
      }
    },
    {
      "cell_type": "code",
      "execution_count": null,
      "source": [
        "def average(numbers:list[float])->float:\r\n",
        "  pass"
      ],
      "outputs": [],
      "metadata": {
        "id": "ftnFYB5TYHSJ"
      }
    },
    {
      "cell_type": "markdown",
      "source": [
        "# Problem 4\n",
        "\n",
        "Write a function that takes in a string and a character and returns the number of times that character appears."
      ],
      "metadata": {
        "id": "HQPCfjTjYjYw"
      }
    },
    {
      "cell_type": "code",
      "execution_count": null,
      "source": [
        "def count_occurences(text: str, search: char)->int:\r\n",
        "  pass"
      ],
      "outputs": [],
      "metadata": {
        "id": "VVoqzaLeY1Ob"
      }
    },
    {
      "cell_type": "markdown",
      "source": [
        "# Problem 5\r\n",
        "The most popular book on Project Gutenberg is currently Pride and Prejudice. Use your solution from problem 4 to count and visualize the occurence of each vowel (a,e,i,o,u) in the first chapter. \r\n",
        "You can find a digital copy of the book [here](https://www.gutenberg.org/ebooks/1342/)\r\n",
        "\r\n",
        "You may copy and paste the text into the console for the input.\r\n",
        "\r\n",
        "Note: It is recommended that you use matplotlib for your display. seaborn is a great choice to make it more aesthetically appealing.\r\n",
        "\r\n",
        "\r\n"
      ],
      "metadata": {
        "id": "4MW8cM9CZJD9"
      }
    },
    {
      "cell_type": "code",
      "execution_count": null,
      "source": [],
      "outputs": [],
      "metadata": {
        "id": "VWxtlI9VbxYw"
      }
    }
  ]
}