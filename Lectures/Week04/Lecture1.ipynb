{
 "cells": [
  {
   "cell_type": "markdown",
   "source": [
    "# Week 4 Lecture 1\r\n",
    "\r\n",
    "- Assignment 2 Review\r\n",
    "- Expected Value\r\n",
    "- Variance\r\n",
    "- Variance Reduction"
   ],
   "metadata": {}
  },
  {
   "cell_type": "markdown",
   "source": [
    "## Assignment 2\r\n",
    "\r\n",
    "An ascending clock auction is an auction where the seller starts bidding at a low price and gradually raises the price as the auction progresses. As the price increases, bidders can choose to stay in the auction (bid for the item at the clock price) or drop out and forgo their chance at winning the item. The clock price is usually raised by a fixed discrete increment. The auction ends when there is only one bidder remaining. The winning bidder gets the item and pays the posted price (clock price from the last round with multiple bidders).\r\n",
    "\r\n",
    "Example: A seller is auctioning off a baseball card. The starting auction price is \\$10 and the clock increment is \\$1. In the first round of bidding there are 5 people who place bids of \\$10. The seller then raises the price to \\$11 and bidding continues until there is only one bidder willing to pay the clock price.\r\n",
    "\r\n",
    "You will need to write a Monte Carlo simulation to estimate the seller revenue from an ascending clock auction. I would suggesting making all of the parameters variables so you can easily change parameters and answer the questions below without rewriting a lot of code. For all questions, assume buyer values are drawn from a discrete distribution between 20 and 100. You can safely make the starting auction price 20.\r\n",
    "\r\n",
    "<ol type='a'>\r\n",
    "  <li>What is the expected revenue if there are 5 buyers and the clock increment is $1?</li>\r\n",
    "  <li>What is the expected revenue if there are 5 buyers and the clock increment is $10? How did the increment affect the expected revenue and why does it have that effect?</li>\r\n",
    "  <li>What is the expected revenue if there are 20 buyers with a clock increment of $1? Compare with item (a) and explain the difference.</li>\r\n",
    "</ol>\r\n",
    "\r\n",
    "\r\n",
    "Note: In special cases where both buyers drop out at the same clock price you will randomly award the item to one of the bidders from the previous round at the posted price (previous clock price)."
   ],
   "metadata": {}
  },
  {
   "cell_type": "code",
   "execution_count": 13,
   "source": [
    "import random\r\n",
    "import math\r\n",
    "\r\n",
    "def DrawValues(min_val, max_val, draws):\r\n",
    "    return random.choices(range(min_val, max_val + 1),k=draws)\r\n",
    "    \r\n",
    "def CalcPrice(firstRejected, initClock, increment):\r\n",
    "    return initClock + math.floor((firstRejected - initClock) / increment) * increment\r\n",
    "\r\n",
    "class Parameters:\r\n",
    "     def __init__(self, min_value = 0, max_value = 100, increment = 1, bidders = 1):\r\n",
    "         self.min_val = min_value\r\n",
    "         self.max_val = max_value\r\n",
    "         self.start_price = min_value\r\n",
    "         self.increment = increment\r\n",
    "         self.num_bidders = bidders\r\n",
    "\r\n",
    "def RunSimulation(parameters, trials):\r\n",
    "    trials = 100000\r\n",
    "    prices = []\r\n",
    "    for i in range(trials):\r\n",
    "        vals = sorted(DrawValues(parameters.min_val, parameters.max_val, parameters.num_bidders))\r\n",
    "        firstRejected = vals[-2]\r\n",
    "        winningVal = vals[-1]\r\n",
    "        price = CalcPrice(firstRejected, parameters.start_price, parameters.increment)\r\n",
    "        \r\n",
    "        if price > parameters.start_price and price >= winningVal:\r\n",
    "            price -= parameters.increment\r\n",
    "        \r\n",
    "        prices.append(price)\r\n",
    "    \r\n",
    "    print(sum(prices)/len(prices))"
   ],
   "outputs": [],
   "metadata": {}
  },
  {
   "cell_type": "markdown",
   "source": [
    "What happens if 2nd highest is between increments? Does this make sense?\r\n",
    "- maybe should have used ceiling"
   ],
   "metadata": {}
  },
  {
   "cell_type": "code",
   "execution_count": 17,
   "source": [
    "a_params = Parameters(20, 100, 1, 5)\r\n",
    "RunSimulation(a_params, 100000)"
   ],
   "outputs": [
    {
     "output_type": "stream",
     "name": "stdout",
     "text": [
      "73.43101\n"
     ]
    }
   ],
   "metadata": {}
  },
  {
   "cell_type": "code",
   "execution_count": 19,
   "source": [
    "b_params = Parameters(20, 100, 10, 5)\r\n",
    "RunSimulation(b_params, 100000)"
   ],
   "outputs": [
    {
     "output_type": "stream",
     "name": "stdout",
     "text": [
      "75.1325\n"
     ]
    }
   ],
   "metadata": {}
  },
  {
   "cell_type": "code",
   "execution_count": 20,
   "source": [
    "c_params = Parameters(20, 100, 1, 20)\r\n",
    "RunSimulation(c_params, 100000)"
   ],
   "outputs": [
    {
     "output_type": "stream",
     "name": "stdout",
     "text": [
      "92.66181\n"
     ]
    }
   ],
   "metadata": {}
  },
  {
   "cell_type": "markdown",
   "source": [
    "## Expected Value\r\n",
    "\r\n",
    "Essentially the average value of a random variable.\r\n",
    "\r\n",
    "### Discrete Case\r\n",
    "\r\n",
    "Say we have a random variable $X = {x_1, x_2, ..., x_n}$\r\n",
    "\r\n",
    "With discrete random variables, the probability mass function $P(X)$ defines the probability of each possible outcome where $\\sum_{x_i \\in X}{P(x_i)}=1$\r\n",
    "\r\n",
    "For discrete random variables (aka weighted average)\r\n",
    "\r\n",
    "$E(X) = \\sum_{x_i \\in X}{x_i P(x_i)}$\r\n",
    "\r\n",
    "- Continuous Case $\\int_{-\\infty}^{\\infty}{f(x)}=1$\r\n",
    "- Monte Carlo Estimate\r\n",
    "- Monte Carlo Integration"
   ],
   "metadata": {}
  },
  {
   "cell_type": "markdown",
   "source": [
    "## Variance\r\n",
    "\r\n",
    "### Formal Def of Variance\r\n",
    "Formally it is calculated through the following equation:\r\n",
    "$Var(X) = E(X^2)-E(X)^2 = \\displaystyle\\int_{-\\infty}^{\\infty} (x-\\mu)^2f(x)dx \\approx \\frac{1}{n}\\displaystyle\\sum_{i}(x_i-\\mu)^2 =\\frac{1}{n^2}\\displaystyle\\sum_{i}\\displaystyle\\sum_{j}(x_i-x_j)^2 $\r\n",
    "\r\n",
    "If you need to remember it, just remember \"the expectation of the square minus the square of the expectation\".\r\n",
    "\r\n",
    "## Intuitive Definition of Variance\r\n",
    "Intuitively variance can be thought of as how spread out the data is. Take a normal distribution. As we increase the variance more and more data occupies the tails"
   ],
   "metadata": {}
  }
 ],
 "metadata": {
  "orig_nbformat": 4,
  "language_info": {
   "name": "python",
   "version": "3.8.3",
   "mimetype": "text/x-python",
   "codemirror_mode": {
    "name": "ipython",
    "version": 3
   },
   "pygments_lexer": "ipython3",
   "nbconvert_exporter": "python",
   "file_extension": ".py"
  },
  "kernelspec": {
   "name": "python3",
   "display_name": "Python 3.8.3 64-bit ('base': conda)"
  },
  "interpreter": {
   "hash": "b3ba2566441a7c06988d0923437866b63cedc61552a5af99d1f4fb67d367b25f"
  }
 },
 "nbformat": 4,
 "nbformat_minor": 2
}