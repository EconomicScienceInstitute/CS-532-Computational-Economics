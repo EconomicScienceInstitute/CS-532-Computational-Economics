{
 "cells": [
  {
   "cell_type": "markdown",
   "source": [
    "# Week 4 Lecture 2\r\n",
    "\r\n",
    "- Variance Reduction cont.\r\n",
    "- Revisit Stratified Sampling if there is time"
   ],
   "metadata": {}
  },
  {
   "cell_type": "markdown",
   "source": [
    "## Revisit Stratified Sampling"
   ],
   "metadata": {}
  },
  {
   "cell_type": "code",
   "execution_count": null,
   "source": [],
   "outputs": [],
   "metadata": {}
  },
  {
   "cell_type": "code",
   "execution_count": null,
   "source": [],
   "outputs": [],
   "metadata": {}
  },
  {
   "cell_type": "markdown",
   "source": [
    "## Revisit Stratified Sampling\r\n",
    "\r\n",
    "Couple of things to look at:\r\n",
    "\r\n",
    "1. What happens if we play around with the yes/no probabilities?  Does this squeue the expected result with simple sampling?\r\n",
    "2. Maybe not, but let's look at the potential outcomes (histogram)"
   ],
   "metadata": {}
  },
  {
   "cell_type": "code",
   "execution_count": 14,
   "source": [
    "import random\r\n",
    "import numpy as np\r\n",
    "\r\n",
    "#global variables for the distributions\r\n",
    "dist_pops = {\"A\": 0.5, \"B\": 0.4, \"C\": 0.1}\r\n",
    "yes_dist = {\"A\": 0.19, \"B\": 0.42, \"C\": 0.91}\r\n",
    "\r\n",
    "def poll_simple(num_samples):\r\n",
    "  #initialize the count outside of the loop\r\n",
    "  yes_votes = 0\r\n",
    "  for _ in range(num_samples):\r\n",
    "    #random.choices(list,weights)\r\n",
    "    #randomly chooses elements from a list weighted by a provided distribution\r\n",
    "    rand_district = random.choices(list(dist_pops.keys()), weights=list(dist_pops.values()))[0]\r\n",
    "    yes_votes += random.random() < yes_dist[rand_district]\r\n",
    "  return yes_votes / num_samples\r\n",
    "\r\n",
    "trials = 100\r\n",
    "samples = 10\r\n",
    "\r\n",
    "def poll_stratified(num_samples):\r\n",
    "  #initialize the count outside of the loop\r\n",
    "  yes_votes = 0\r\n",
    "  for district in dist_pops.keys():\r\n",
    "    for _ in range(round(dist_pops[district] * num_samples)):\r\n",
    "      yes_votes += random.random() < yes_dist[district]\r\n",
    "  return yes_votes / num_samples"
   ],
   "outputs": [],
   "metadata": {}
  },
  {
   "cell_type": "code",
   "execution_count": 15,
   "source": [
    "\r\n",
    "value_list = [poll_simple(samples) for _ in range(trials)]\r\n",
    "print(f\"Estimated Vote Random Sample:\\t{np.mean(value_list):.2f}\")\r\n",
    "print(f\"Variance Random Sample: {np.var(value_list):.4f}\")\r\n",
    "\r\n",
    "value_list = [poll_stratified(samples) for _ in range(trials)]\r\n",
    "print(f\"Estimated Vote Stratified:\\t{np.mean(value_list):.2f}\")\r\n",
    "print(f\"Variance Stratified: {np.var(value_list):.4f}\")"
   ],
   "outputs": [
    {
     "output_type": "stream",
     "name": "stdout",
     "text": [
      "Estimated Vote Random Sample:\t0.35\n",
      "Variance Random Sample: 0.0217\n",
      "Estimated Vote Stratified:\t0.36\n",
      "Variance Stratified: 0.0167\n"
     ]
    }
   ],
   "metadata": {}
  },
  {
   "cell_type": "markdown",
   "source": [
    "Now let's try with some other probabilities"
   ],
   "metadata": {}
  },
  {
   "cell_type": "code",
   "execution_count": 18,
   "source": [
    "yes_dist = {\"A\": 0.03, \"B\": 0.42, \"C\": 0.91}\r\n",
    "\r\n",
    "value_list = [poll_simple(samples) for _ in range(trials)]\r\n",
    "print(f\"Estimated Vote Random Sample:\\t{np.mean(value_list):.2f}\")\r\n",
    "print(f\"Variance Random Sample: {np.var(value_list):.4f}\")\r\n",
    "\r\n",
    "value_list = [poll_stratified(samples) for _ in range(trials)]\r\n",
    "print(f\"Estimated Vote Stratified:\\t{np.mean(value_list):.2f}\")\r\n",
    "print(f\"Variance Stratified: {np.var(value_list):.4f}\")"
   ],
   "outputs": [
    {
     "output_type": "stream",
     "name": "stdout",
     "text": [
      "Estimated Vote Random Sample:\t0.29\n",
      "Variance Random Sample: 0.0206\n",
      "Estimated Vote Stratified:\t0.31\n",
      "Variance Stratified: 0.0098\n"
     ]
    }
   ],
   "metadata": {}
  },
  {
   "cell_type": "code",
   "execution_count": null,
   "source": [],
   "outputs": [],
   "metadata": {}
  }
 ],
 "metadata": {
  "orig_nbformat": 4,
  "language_info": {
   "name": "python",
   "version": "3.9.7",
   "mimetype": "text/x-python",
   "codemirror_mode": {
    "name": "ipython",
    "version": 3
   },
   "pygments_lexer": "ipython3",
   "nbconvert_exporter": "python",
   "file_extension": ".py"
  },
  "kernelspec": {
   "name": "python3",
   "display_name": "Python 3.9.7 64-bit"
  },
  "interpreter": {
   "hash": "8b6c9172454b0f465b0ace44a91d2ecbf3236040ef07dc4bcb2c1add9b8a5f9d"
  }
 },
 "nbformat": 4,
 "nbformat_minor": 2
}