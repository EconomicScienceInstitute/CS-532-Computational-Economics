{
 "cells": [
  {
   "cell_type": "markdown",
   "source": [
    "# Week 5 Lecture 1\r\n",
    "\r\n",
    "- A good example from the homework: [Assignment 1 problem 1](https://colab.research.google.com/github/EconomicScienceInstitute/CS-532-Computational-Economics/blob/fall2021/Assignments/05-Probability/Assignment1.ipynb)\r\n",
    "- [Weighted Sampling](https://colab.research.google.com/github/EconomicScienceInstitute/CS-532-Computational-Economics/blob/fall2021/CourseNotes/07-SamplingTechniques/Primer_on_Sampling.ipynb)\r\n",
    "- [Importance Sampling](https://colab.research.google.com/github/EconomicScienceInstitute/CS-532-Computational-Economics/blob/fall2021/CourseNotes/07-SamplingTechniques/Primer_on_Sampling.ipynb)"
   ],
   "metadata": {}
  },
  {
   "cell_type": "markdown",
   "source": [
    "## Common mistake\r\n",
    "\r\n",
    "I saw many people trying to calculate the skeleton glass problem by enumerating all possibilities instead of actually using monte carlo methods and in the end it gave the wrong answer.  If you go through and create a case by randomly picking the color for each bin this is correct.   The particular solution I am talking about is where you iterate through all possible case color combinations and determine how many possibilities would yield the required 24 black glasses.  for example, start with 0 black 0 orange and 24 purple.  Then move on to 1 black 0 orange and 23 purple and so on. This is actually problematic because it does not accurately represent the random process as described. There is only 1 way to choose all black glasses, but how many ways to choose 23 black?  The way I described this solution there are only 2 counted which is wrong."
   ],
   "metadata": {}
  },
  {
   "cell_type": "code",
   "execution_count": null,
   "source": [],
   "outputs": [],
   "metadata": {}
  }
 ],
 "metadata": {
  "orig_nbformat": 4,
  "language_info": {
   "name": "python"
  }
 },
 "nbformat": 4,
 "nbformat_minor": 2
}