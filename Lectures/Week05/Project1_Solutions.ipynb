{
  "cells": [
    {
      "cell_type": "markdown",
      "metadata": {
        "id": "L1cOJjEbRAMz"
      },
      "source": [
        "#Problem 1\n",
        "\n",
        "An ascending clock auction is an auction where the seller starts bidding at a low price and gradually raises the price as the auction progresses. As the price increases, bidders can choose to stay in the auction (bid for the item at the clock price) or drop out and forgo their chance at winning the item. The clock price is usually raised by a fixed discrete increment. The auction ends when there is only one bidder remaining. The winning bidder gets the item and pays the posted price (clock price from the last round with multiple bidders).\n",
        "\n",
        " \n",
        "\n",
        "Example: A seller is auctioning off a baseball card. The starting auction price is \\$10 and the clock increment is \\$1. In the first round of bidding there are 5 people who place bids of \\$10. The seller then raises the price to \\$11 and bidding continues until there is only one bidder willing to pay the clock price. Say this continues until the clock price is \\$15 and there are two bidders left. If one bidder drops out, the remaining bidder wins the baseball card and pays the posted price of \\$14.\n",
        "\n",
        "You will need to write a Monte Carlo simulation to estimate the seller revenue from an ascending clock auction. For this assignment, assume the following parameters:\n",
        "\n",
        "* There are 5 buyers\n",
        "* Buyer values are drawn between 0 and 100 in increments of 5\n",
        "* Seller reserve prices are allowed to be between 0 and 100 in increments of 5\n",
        "* The item is considered sold when the clock price is greater than or equal to the reserve price\n",
        "* The auction ends when there is one or less buyers bidding at the clock price.\n",
        "*In the case of two buyers dropping out at the same price, you can go back to the previous price and randomly choose the winning buyer.\n",
        " \n",
        "<ol type=\"a\">\n",
        "  <li>\n",
        "  What is the expected revenue if there are 5 buyers and the clock increment is &#36;1?\n",
        "  </li>\n",
        "  <li>What is the expected revenue if there are 5 buyers and the clock increment is &#36;10?  How did the increment affect the expected revenue and why does it have that effect?</li>\n",
        "  <li>What is the expected revenue if there are 20 buyers with a clock increment of &#36;1? Compare with item (a) and explain the difference.</li>\n",
        "</ol>\n",
        "\n",
        "\n",
        "\n",
        "\n",
        " \n",
        "\n",
        "Let's extend our Monte Carlo simulation of the ascending clock auction to allow the seller to choose a reserve price. A reserve price is the minimum price a seller is willing to accept to sell the item. If the final clock price is below the reserve price the seller receives zero revenue. This means the auction now ends when either there are zero buyers bidding at the current clock price, or there is one buyer bidding and the reserve price has been met.\n",
        "\n",
        " \n",
        "<ol start='4' type='a'>\n",
        "  <li>What reserve price should the seller choose (which price generates the most revenue)? Provide an illustration that supports your result.</li>\n",
        "</ol>"
      ]
    },
    {
      "cell_type": "markdown",
      "metadata": {
        "id": "itsSwTFOuZeB"
      },
      "source": [
        "# Solution\n",
        "So we know that when we see this problem let's identify the subproblems and write some psuedocode for their solution.\n",
        "1. Buyers - generate a list of n buyers from a uniform distribution\n",
        "2. Auction Price - find the auction clearing price for any set of parameters\n",
        "3. Monte Carlo - Run a Monte Carlo simulation with T trials that will calculate the expected value.\n",
        "\n",
        "## Buyers\n",
        "\n",
        "This can be taken care of using either random.randint(0,20)*5 or random.randrange(0,101,5). We are just going to make a list of n of these and we're done.\n",
        "\n",
        "## Auction Price\n",
        "We know or at least suspect that the auction price will vary based off of several parameters. We have some clues because the questions are asking us to change these\n",
        "\n",
        "### Parameters:\n",
        "- buyers: pretty intutive. The buyers will be bidding and will be determining the price of the auction\n",
        "- reserve: this doesn't come into play until (D) but we will keep it in mind.\n",
        "- clock increment: we should be able to change the clock increment by changing a single variable, since it's so important.\n",
        "\n",
        "So there are several ways to do this. An easy obvious way would be to use a while loop to imitate the clock and increment each step. The loop stops when there is less than 2 people remaining. This method is dependent on the max value and the clock increment.\n",
        "\n",
        "The other method is to realize equivalent outcome. If you do enough simulations you will see that the price is always the second highest price rounded down to the nearest multiple of the clock increment.\n",
        "\n",
        "When the reserve rule kicks into effect, we will then take the maximum between the two as market clearing price. If the highest bidder has a value less than the reserve price, we return 0. We are taking advantage of the increments with which the values and reserve prices are drawn\n",
        "\n",
        "\n",
        "## Monte Carlo\n",
        "### Parameters:\n",
        "- buyers: pretty intutive. The buyers will be bidding and will be determining the price of the auction\n",
        "- reserve: this doesn't come into play until (D) but we will again keep it in mind\n",
        "- clock increment: we should be able to change the clock increment with just one input, since it's so important\n",
        "- number of trials we run for monte carlo\n",
        "\n",
        "We will need an encompassing for loop to run the code T times for our Monte Carlo situation. It will generate a set of n buyers, calculate the auciton clearing price, and then append all that information to a total. We want it to be flexible and be able to vary with number of buyers, reserve price, and clock increment since those are the numbers we wish to study. If we want to go the extra mile, we should be able to change the T parameter and input whatever we want.\n",
        "\n",
        "Standard Monte Carlo stuff here. We're going to initialize a running total. We will increment it each trial and then divide the total sum by the number of trials to obtain the average. The average of the data should equal the expected value."
      ]
    },
    {
      "cell_type": "markdown",
      "metadata": {
        "id": "vCeioOeAu_U4"
      },
      "source": [
        "## A. What is the expected revenue if there are 5 buyers and the clock increment is \\$1?\n",
        "\n",
        "Here we can just run our standard monte carlo\n",
        "### Parameters\n",
        "- Buyers = 5\n",
        "- Increment = 1"
      ]
    },
    {
      "cell_type": "code",
      "execution_count": null,
      "metadata": {
        "colab": {
          "base_uri": "https://localhost:8080/"
        },
        "id": "IWFjoNLfvA1i",
        "outputId": "b0d1fe47-5db2-4b8c-efb3-a5fabc9963c3"
      },
      "outputs": [
        {
          "name": "stdout",
          "output_type": "stream",
          "text": [
            "Problem 1a: \t 67.61\n"
          ]
        }
      ],
      "source": [
        "import random\n",
        "\n",
        "num_buyers = 5\n",
        "clock_increment = 1\n",
        "num_trials = 1000\n",
        "total=0\n",
        "for _ in range(num_trials):\n",
        "    buyers = [random.randrange(0,101,5) for i in range(num_buyers)]\n",
        "    buyers.sort()\n",
        "    second_price = buyers[-2]\n",
        "    auction_price = second_price//clock_increment*clock_increment\n",
        "    #we may have to increment\n",
        "    total += auction_price\n",
        "\n",
        "print(f\"Problem 1a: \\t {total/num_trials}\")"
      ]
    },
    {
      "cell_type": "markdown",
      "metadata": {
        "id": "gCpnFVkwvmXi"
      },
      "source": [
        "## B. What is the expected revenue if there are 5 buyers and the clock increment is \\\\$10? \n",
        "How did the increment affect the expected revenue and why does it have that effect?\n",
        "\n",
        "### Parameters\n",
        "- Buyers = 5\n",
        "- Increment = 10"
      ]
    },
    {
      "cell_type": "code",
      "execution_count": null,
      "metadata": {
        "colab": {
          "base_uri": "https://localhost:8080/"
        },
        "id": "PWalaAR9vthd",
        "outputId": "624d4fe0-0d9b-4e8e-c38c-e248f9fd3295"
      },
      "outputs": [
        {
          "name": "stdout",
          "output_type": "stream",
          "text": [
            "Problem 1b: \t 66.22\n"
          ]
        }
      ],
      "source": [
        "num_buyers = 5\n",
        "clock_increment = 10\n",
        "num_trials = 1000\n",
        "total=0\n",
        "for _ in range(num_trials):\n",
        "    buyers = [random.randrange(0,101,5) for i in range(num_buyers)]\n",
        "    buyers.sort()\n",
        "    second_price = buyers[-2]\n",
        "    auction_price = second_price//clock_increment*clock_increment\n",
        "    #we may have to increment\n",
        "    total += auction_price\n",
        "\n",
        "print(f\"Problem 1b: \\t {total/num_trials}\")"
      ]
    },
    {
      "cell_type": "markdown",
      "metadata": {
        "id": "ljnvmCpWxNuy"
      },
      "source": [
        "## C. What is the expected revenue if there are 20 buyers with a clock increment of \\$1? \n",
        "\n",
        "Compare with item (a) and explain the difference.\n",
        "\n",
        "### Parameters\n",
        "- Buyers = 20\n",
        "- Increment = 1"
      ]
    },
    {
      "cell_type": "code",
      "execution_count": null,
      "metadata": {
        "colab": {
          "base_uri": "https://localhost:8080/"
        },
        "id": "LwIicgQ5xTOl",
        "outputId": "30ad9f8f-db03-4379-d95b-d2ea023c9a96"
      },
      "outputs": [
        {
          "name": "stdout",
          "output_type": "stream",
          "text": [
            "Problem 1c: \t 90.21\n"
          ]
        }
      ],
      "source": [
        "num_buyers = 20\n",
        "clock_increment = 10\n",
        "num_trials = 1000\n",
        "total=0\n",
        "for _ in range(num_trials):\n",
        "    buyers = [random.randrange(0,101,5) for i in range(num_buyers)]\n",
        "    buyers.sort()\n",
        "    second_price = buyers[-2]\n",
        "    auction_price = second_price//clock_increment*clock_increment\n",
        "    #we may have to increment\n",
        "    total += auction_price\n",
        "\n",
        "print(f\"Problem 1c: \\t {total/num_trials}\")"
      ]
    },
    {
      "cell_type": "markdown",
      "metadata": {
        "id": "bwlNiJeLxaZa"
      },
      "source": [
        "Let’s extend our Monte Carlo simulation of the ascending clock auction to allow the seller to choose a reserve price. A reserve price is the minimum price a seller is willing to accept to sell the item. If the final clock price is below the reserve price the seller receives zero revenue. \n",
        "\n",
        "\n",
        "\n",
        "This means the auction now ends when either there are zero buyers bidding at the current clock price, or there is one buyer bidding and the reserve price has been met.\n",
        "\n",
        "(Interpretation) The clock will keep running until the reserve price is met, even if there is only one bidder.\n",
        "\n",
        "D. What reserve price should the seller choose (which price generates the most revenue)? Provide an illustration that supports your result."
      ]
    },
    {
      "cell_type": "markdown",
      "metadata": {
        "id": "Tdo9I5eCxg_q"
      },
      "source": [
        "## The plan\n",
        "\n",
        "We should be able to proceed as we have been. Now we are going to test every single possible value for reserve that is all multiples of 5 between 0 and 100 and we are going to see if it makes any difference.\n",
        "\n",
        "### Rough algorithm\n",
        "We can go back to our original auction price function and just return zero if the reserve price is greater than the \n",
        "\n",
        "\n",
        "1. create a dictionary of reserves-- reserve = {reserve_price:expected_value}\n",
        "2. plot it\n",
        "\n",
        "pretty easy to accomplish since I already have my function for expected value."
      ]
    },
    {
      "cell_type": "code",
      "execution_count": null,
      "metadata": {
        "colab": {
          "base_uri": "https://localhost:8080/",
          "height": 335
        },
        "id": "o60kK7Tuw4QJ",
        "outputId": "33633603-13ba-43fa-ec3c-d162a9e8054b"
      },
      "outputs": [
        {
          "name": "stdout",
          "output_type": "stream",
          "text": [
            "Problem 1d: \n",
            " {0: 67.47605, 5: 67.5318, 10: 67.44225, 15: 67.6086, 20: 67.56415, 25: 67.56925, 30: 67.7629, 35: 67.82985, 40: 68.0672, 45: 68.25225, 50: 68.39575, 55: 68.5983, 60: 68.5896, 65: 68.32425, 70: 67.18905, 75: 65.31605, 80: 61.7733, 85: 56.7308, 90: 48.8084, 95: 37.3225, 100: 21.773}\n"
          ]
        },
        {
          "data": {
            "image/png": "[encoded data removed]",
            "text/plain": [
              "<Figure size 432x288 with 1 Axes>"
            ]
          },
          "metadata": {
            "needs_background": "light",
            "tags": []
          },
          "output_type": "display_data"
        },
        {
          "name": "stdout",
          "output_type": "stream",
          "text": [
            "Problem 1a: \t 21.773\n"
          ]
        }
      ],
      "source": [
        "num_buyers = 5\n",
        "clock_increment = 1\n",
        "num_trials = 100000\n",
        "\n",
        "reserve_expected_profit = {}\n",
        "for reserve in range(0,101,5):\n",
        "  total=0\n",
        "  for _ in range(num_trials):\n",
        "    buyers = [random.randrange(0,101,5) for i in range(num_buyers)]\n",
        "    buyers.sort()\n",
        "    if reserve > buyers[-1]:\n",
        "      total += 0\n",
        "    else:\n",
        "      second_price = buyers[-2]\n",
        "      auction_price = second_price//clock_increment*clock_increment\n",
        "      #we may have to increment\n",
        "      total += max(auction_price,reserve)\n",
        "  reserve_expected_profit[reserve] = total/num_trials\n",
        "\n",
        "import matplotlib.pyplot as plt\n",
        "\n",
        "print(f\"Problem 1d: \\n {reserve_expected_profit}\")\n",
        "plt.bar(list(reserve_expected_profit.keys()),list(reserve_expected_profit.values()),4)\n",
        "plt.show()"
      ]
    },
    {
      "cell_type": "markdown",
      "metadata": {
        "id": "i_epcVfvq5bE"
      },
      "source": [
        "# Problem 2\n",
        "\n",
        "You are tasked with forecasting the profits of a Vegas hotel. You come up with the following model:\n",
        "\n",
        "> $\\pi(t)=\\frac{750 - 50t}{n + 1}$\n",
        "\n",
        "where $\\pi(t)$ is the profit in year $t$, and n is the number of hotels the main competitor owns.\n",
        "We want to forecast the expected total profit over the next $T$ years, given the following rules:\n",
        "\n",
        "\n",
        "\n",
        "*   You begin in year 1.\n",
        "*   The main competitor currently has no hotels.\n",
        "*   They can only build one hotel at a time.\n",
        "\n",
        "You can set $T = 10$, $m = 2$. To run Monte Carlo simulations of the profit, you will need to randomly generate the number of hotels the competitor has each year. An example of a valid construction profile is: {0, 1, 1, 2, 2, 2, 3, 3, 3, 3}. This can be read the following way:\n",
        "\n",
        "*   The competitor begins building on the first year and finishes construction on the second (at that point it counts as a built hotel).\n",
        "*   The competitor starts another immediately after (year 3).\n",
        "*   Finally, they start a third hotel in year 6.\n",
        "\n",
        "To be valid, the profile must be of length T and increment by at most one every other element (for $m = 2$). In the above example, the total profit over the 10 years is 3850. Find the expected profit.\n",
        "(Note: I will be lenient with how you sample from the space of possible competitor build profiles.\n",
        "Preferably, each possible profile will be equally likely.)\n",
        "\n",
        "\n",
        "\n",
        "\n",
        "\n",
        "\n"
      ]
    },
    {
      "cell_type": "markdown",
      "metadata": {
        "id": "-SLehs5b3kGP"
      },
      "source": [
        "## Define parameters and functions:"
      ]
    },
    {
      "cell_type": "code",
      "execution_count": null,
      "metadata": {
        "id": "ysmlXQ4p3NSr"
      },
      "outputs": [],
      "source": [
        "import random\n",
        "import scipy.special\n",
        "\n",
        "# parameters\n",
        "periods = 10\n",
        "build_time = 2"
      ]
    },
    {
      "cell_type": "code",
      "execution_count": null,
      "metadata": {
        "colab": {
          "base_uri": "https://localhost:8080/",
          "height": 34
        },
        "id": "M4FIw7gU3hub",
        "outputId": "113c1fad-9af5-4d24-9baf-85d4bbe5675f"
      },
      "outputs": [
        {
          "data": {
            "text/plain": [
              "3850.0"
            ]
          },
          "execution_count": 26,
          "metadata": {
            "tags": []
          },
          "output_type": "execute_result"
        }
      ],
      "source": [
        "# test case from problem\n",
        "\n",
        "def profit(period, nbuilds):\n",
        "    return (750 + 50*period)/(nbuilds + 1)\n",
        "\n",
        "builds = [0, 1, 1, 2, 2, 2, 3, 3, 3, 3]\n",
        "sum([profit(i + 1, builds[i]) for i in range(len(builds))])"
      ]
    },
    {
      "cell_type": "markdown",
      "metadata": {
        "id": "nwie195xwA3b"
      },
      "source": [
        "## How do we sample the build profiles?\n",
        "\n",
        "### Coin Flip Sampling:\n",
        "There are T years and each year the competitor flips a coin to determine if they build or not. If the competitor is already building a hotel we can skip/ingore the coin flip for that year."
      ]
    },
    {
      "cell_type": "code",
      "execution_count": null,
      "metadata": {
        "colab": {
          "base_uri": "https://localhost:8080/",
          "height": 34
        },
        "id": "1GXPqJ3-ysmB",
        "outputId": "00194254-f138-41de-ccf4-c7f80219bbf4"
      },
      "outputs": [
        {
          "data": {
            "text/plain": [
              "4745.217541666802"
            ]
          },
          "execution_count": 27,
          "metadata": {
            "tags": []
          },
          "output_type": "execute_result"
        }
      ],
      "source": [
        "build_prob = 0.5\n",
        "trials = 100000\n",
        "sim_results = []\n",
        "for i in range(trials):\n",
        "    remaining_build_years = 0\n",
        "    forcast = []\n",
        "    for n in range(periods):\n",
        "        if remaining_build_years == 0 and n + build_time <= periods:\n",
        "            if random.random() < build_prob:\n",
        "                remaining_build_years = build_time\n",
        "        \n",
        "        number_new_plants = 0\n",
        "        if remaining_build_years == 1:\n",
        "            number_new_plants = 1\n",
        "        \n",
        "        remaining_build_years = max(0, remaining_build_years - 1)\n",
        "        \n",
        "        forcast.append(number_new_plants)\n",
        "    \n",
        "    total = 0\n",
        "    accum = []\n",
        "    for v in forcast:\n",
        "        total += v\n",
        "        accum.append(total)\n",
        "        \n",
        "    total_profit = 0\n",
        "    for j in range(len(accum)):\n",
        "        total_profit += profit(j+1, accum[j])\n",
        "        \n",
        "    sim_results.append(total_profit)\n",
        "\n",
        "# biased average profit\n",
        "sum(sim_results)/trials"
      ]
    },
    {
      "cell_type": "markdown",
      "metadata": {
        "id": "i7HHFSrwy1il"
      },
      "source": [
        "I stated that I would be lenient with how you sample so if you went with this method you will not lose too many points. This method is definitely biased toward under counting expected revenue. The easiest way to see the inherent bias is to look at the probability of two specific build profiles: the probability of never building vs the probability of always building. \n",
        "\n",
        "*   $\\{0,0,0,0,0,0,0,0,0,0\\}$: P(never build) $= \\frac{1}{2}^{10} = 0.000977$\n",
        "*   $\\{0,1,1,2,2,3,3,4,4,5\\}$: P(always build) $= \\frac{1}{2}^5 = 0.03125$\n",
        "\n",
        "As you can see it's much less likely to generate the never build profile than the always build profile and this bias is inherent throughout the generating process. However, we can still use this process if we account for the bias through weighted sampling. \n",
        "\n",
        "## Weighted Sampling\n",
        "\n",
        "In order to account for the bias we need to calculate the probability of each profile as we draw it."
      ]
    },
    {
      "cell_type": "code",
      "execution_count": null,
      "metadata": {
        "id": "ZFVyRlWy2Xy9"
      },
      "outputs": [],
      "source": [
        "build_prob = 0.5\n",
        "trials = 100000\n",
        "sim_results = []\n",
        "for i in range(trials):\n",
        "    forcast_prob = 1\n",
        "    remaining_build_years = 0\n",
        "    forcast = []\n",
        "    for n in range(periods):\n",
        "        if remaining_build_years == 0 and n + build_time <= periods:\n",
        "            if random.random() < build_prob:\n",
        "                remaining_build_years = build_time\n",
        "                forcast_prob = forcast_prob * build_prob\n",
        "            else:\n",
        "                forcast_prob = forcast_prob * (1 - build_prob)\n",
        "        \n",
        "        number_new_plants = 0\n",
        "        if remaining_build_years == 1:\n",
        "            number_new_plants = 1\n",
        "        \n",
        "        remaining_build_years = max(0, remaining_build_years - 1)\n",
        "        \n",
        "        forcast.append(number_new_plants)\n",
        "    \n",
        "    total = 0\n",
        "    accum = []\n",
        "    for v in forcast:\n",
        "        total += v\n",
        "        accum.append(total)\n",
        "        \n",
        "    total_profit = 0\n",
        "    for j in range(len(accum)):\n",
        "        total_profit += profit(j+1, accum[j])\n",
        "        \n",
        "    sim_results.append([total_profit, forcast_prob])"
      ]
    },
    {
      "cell_type": "code",
      "execution_count": null,
      "metadata": {
        "colab": {
          "base_uri": "https://localhost:8080/",
          "height": 34
        },
        "id": "xis7aBJU2gvE",
        "outputId": "b9a4d3f7-9f88-4596-9fc2-296e48ee10aa"
      },
      "outputs": [
        {
          "data": {
            "text/plain": [
              "5324.951536305961"
            ]
          },
          "execution_count": 31,
          "metadata": {
            "tags": []
          },
          "output_type": "execute_result"
        }
      ],
      "source": [
        "# unbiased expected profit\n",
        "total_weighted_profit = 0\n",
        "total_weight = 0\n",
        "for i in range(trials):\n",
        "    weight = 1/sim_results[i][1]\n",
        "    total_weighted_profit += sim_results[i][0] * weight\n",
        "    total_weight += weight\n",
        "\n",
        "total_weighted_profit / total_weight"
      ]
    },
    {
      "cell_type": "markdown",
      "metadata": {
        "id": "Z8rmobZH2Agf"
      },
      "source": [
        "### Combinatorics:\n",
        "The brute force approach would be to generate every possible build profile and sample from that list. However, using combinatorics we can accomplish the same thing without all the computation. We first need to notice that the number of build profiles changes based on the number of builds and then use this to count the number of build profiles for each number of builds."
      ]
    },
    {
      "cell_type": "code",
      "execution_count": null,
      "metadata": {
        "colab": {
          "base_uri": "https://localhost:8080/",
          "height": 84
        },
        "id": "5uCqCA8imgig",
        "outputId": "23aec0a3-e778-4f43-fc49-7c351496d02d"
      },
      "outputs": [
        {
          "name": "stdout",
          "output_type": "stream",
          "text": [
            "Build Values: [0, 1, 2, 3, 4, 5]\n",
            "Idle Values: [10, 8, 6, 4, 2, 0]\n",
            "Elements per Builds: [10, 9, 8, 7, 6, 5]\n",
            "Permutations per Builds: [1.0, 9.0, 28.0, 35.0, 15.0, 1.0]\n"
          ]
        }
      ],
      "source": [
        "# list of build_time 0's and a 1 when the hotel is finished\n",
        "build_value = []\n",
        "for i in range(build_time - 1):\n",
        "    build_value.append(0)\n",
        "build_value.append(1)\n",
        "idle_value = [0]\n",
        "\n",
        "# different number of builds we can have over the horizon\n",
        "num_build_values = list(range(0, periods // build_time + 1))\n",
        "\n",
        "# number of idle values that correspond to the number of builds\n",
        "num_idle_values = [periods - bv * build_time for bv in num_build_values]\n",
        "\n",
        "# number of values associated with the number of builds\n",
        "num_values = [num_build_values[i] + num_idle_values[i] for i in range(len(num_build_values))]\n",
        "\n",
        "# given the number of values in the horizon, how many permutations exist\n",
        "num_perms_per_build_val = []\n",
        "for i in range(len(num_build_values)):\n",
        "    num_perms_per_build_val.append(scipy.special.binom(num_values[i], num_build_values[i]))\n",
        "\n",
        "print(f\"Build Values: {num_build_values}\")\n",
        "print(f\"Idle Values: {num_idle_values}\")\n",
        "print(f\"Elements per Builds: {num_values}\")\n",
        "print(f\"Permutations per Builds: {num_perms_per_build_val}\")"
      ]
    },
    {
      "cell_type": "code",
      "execution_count": null,
      "metadata": {
        "colab": {
          "base_uri": "https://localhost:8080/",
          "height": 34
        },
        "id": "2cg53mzQ7ps4",
        "outputId": "01df7a31-d3fa-4201-f6f0-0bd4f3be809e"
      },
      "outputs": [
        {
          "data": {
            "text/plain": [
              "5331.5621916678265"
            ]
          },
          "execution_count": 33,
          "metadata": {
            "tags": []
          },
          "output_type": "execute_result"
        }
      ],
      "source": [
        "profits = []\n",
        "for i in range(trials):\n",
        "    nbuild = random.choices(num_build_values,num_perms_per_build_val)[0]\n",
        "    nidle = periods - nbuild * build_time\n",
        "    \n",
        "    build_schedule = []\n",
        "    for j in range(nbuild):\n",
        "        build_schedule.append(build_value)\n",
        "    for j in range(nidle):\n",
        "        build_schedule.append(idle_value)\n",
        "        \n",
        "    forcast = random.sample(build_schedule,len(build_schedule))\n",
        "    forcast = [v for a in forcast for v in a]\n",
        "    \n",
        "    total = 0\n",
        "    accum = []\n",
        "    for v in forcast:\n",
        "        total += v\n",
        "        accum.append(total)\n",
        "        \n",
        "    total_profit = 0\n",
        "    for j in range(len(accum)):\n",
        "        total_profit += profit(j+1, accum[j])\n",
        "        \n",
        "    profits.append(total_profit)\n",
        "    \n",
        "# expected profit\n",
        "sum(profits)/len(profits)"
      ]
    },
    {
      "cell_type": "markdown",
      "metadata": {},
      "source": [
        "### Conway's Game of Life\n",
        "\n",
        "Conway's Game of Life is a \"game\" with a simple set of rules that yields complex results. It works as follows:\n",
        "\n",
        "- There is an NxN matrix of alive and dead cells, typically by 1's and 0's, respectively\n",
        "- Each cell has 8 surrounding neighbors. Cells on the edge and the corners wrap around to the other side.\n",
        "- Each period, the cells update according to the following rules:\n",
        "\t- If a dead cell has exactly 3 alive neighbors next to it, it becomes alive.\n",
        "\t- If an alive cell has either 2 or 3 alive neighbors next to it, it remains alive.\n",
        "\t- If an live cell has fewer than 2 alive neighbors next to it, it dies of loneliness.\n",
        "\t- If an alive cell has more than 3 alive neighbors next to it, it dies of overcrowding. Such is life.\n",
        "- The cells should be updated independently. So, If I am a cell, and my neighbor is currently dead it must be counted as dead to me this period, even if it turns out it will be alive next period.\n",
        "\n",
        "Program the Game of Life. Run a test by creating a 4x4 matrix with only the 4 corners alive. The four cells should remain stationary. After the test is working, create a 50x50 matrix with each cell randomly turned on or off. Run it for 100 periods. Plot it using matplotlib.pyplot.matshow. There are many ways to display the 100 matrix plots and I will leave it up to you to find an elegant solution."
      ]
    },
    {
      "cell_type": "code",
      "execution_count": 5,
      "metadata": {},
      "outputs": [
        {
          "data": {
            "image/png": "[encoded data removed]",
            "text/plain": [
              "<Figure size 432x288 with 1 Axes>"
            ]
          },
          "metadata": {
            "needs_background": "light"
          },
          "output_type": "display_data"
        }
      ],
      "source": [
        "import random\n",
        "import matplotlib.pyplot as plt\n",
        "\n",
        "# functions\n",
        "def random_grid(rows):\n",
        "    return [[random.choice([0, 1]) for i in range(rows)] for j in range(rows)]\n",
        "\n",
        "def count_neighbors(grid, cell):\n",
        "    count = 0\n",
        "    for i in range(-1,2,1):\n",
        "        for j in range(-1,2,1):\n",
        "            if i == 0 and j == 0:\n",
        "                continue\n",
        "            count += grid[(cell[0] + i) % len(grid[i])][(cell[1] + j) % len(grid)]\n",
        "    return count\n",
        "    \n",
        "def check_cell(grid, cell):\n",
        "    neighbor_count = count_neighbors(grid, cell)\n",
        "    if neighbor_count == 3:\n",
        "        return 1\n",
        "    elif neighbor_count == 2:\n",
        "        return grid[cell[0]][cell[1]]\n",
        "    else:\n",
        "        return 0\n",
        "    \n",
        "def next_grid(current_grid):\n",
        "    updated_grid = [[0 for j in range(len(current_grid[i]))] for i in range(len(current_grid))]\n",
        "    for i in range(len(current_grid)):\n",
        "        for j in range(len(current_grid[i])):\n",
        "            updated_grid[i][j] = check_cell(current_grid, [i, j])\n",
        "    return updated_grid\n",
        "\n",
        "import matplotlib.pyplot as plt\n",
        "\n",
        "grid = random_grid(50)\n",
        "fig,ax = plt.subplots(1,1)\n",
        "\n",
        "def draw_frame(n):\n",
        "    global grid\n",
        "    figures = [fig]\n",
        "    grid = next_grid(grid)\n",
        "    mat.set_data(grid)\n",
        "    figures.append(fig)\n",
        "    return figures\n",
        "\n",
        "mat = ax.matshow(grid)"
      ]
    },
    {
      "cell_type": "code",
      "execution_count": 6,
      "metadata": {},
      "outputs": [],
      "source": [
        "from matplotlib import animation\n",
        "\n",
        "# blit=True re-draws only the parts that have changed.\n",
        "anim = animation.FuncAnimation(fig, draw_frame, frames=100, interval=40, blit=True)"
      ]
    },
    {
      "cell_type": "code",
      "execution_count": null,
      "metadata": {},
      "outputs": [],
      "source": [
        "from IPython.display import HTML\n",
        "HTML(anim.to_html5_video())"
      ]
    },
    {
      "cell_type": "markdown",
      "metadata": {},
      "source": []
    },
    {
      "cell_type": "markdown",
      "metadata": {},
      "source": []
    }
  ],
  "metadata": {
    "colab": {
      "collapsed_sections": [],
      "name": "Solutions.ipynb",
      "provenance": []
    },
    "interpreter": {
      "hash": "8b6c9172454b0f465b0ace44a91d2ecbf3236040ef07dc4bcb2c1add9b8a5f9d"
    },
    "kernelspec": {
      "display_name": "Python 3.9.7 64-bit",
      "name": "python3"
    },
    "language_info": {
      "codemirror_mode": {
        "name": "ipython",
        "version": 3
      },
      "file_extension": ".py",
      "mimetype": "text/x-python",
      "name": "python",
      "nbconvert_exporter": "python",
      "pygments_lexer": "ipython3",
      "version": "3.9.7"
    }
  },
  "nbformat": 4,
  "nbformat_minor": 2
}
