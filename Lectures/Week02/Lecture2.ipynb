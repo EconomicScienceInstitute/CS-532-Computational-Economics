{
 "cells": [
  {
   "cell_type": "markdown",
   "source": [
    "# Week 2 - Lecture 2 - Outline\r\n",
    "\r\n",
    "- Solutions to [Assignment 1](https://colab.research.google.com/github/EconomicScienceInstitute/CS-532-Computational-Economics/blob/fall2021/Assignments/05-Probability/Assignment1.ipynb)\r\n",
    "- [Clean Code](https://colab.research.google.com/github/EconomicScienceInstitute/CS-532-Computational-Economics/blob/fall2021/CourseNotes/03-WritingCleanCode/Python%20Guidelines%20and%20Suggestions.ipynb)\r\n",
    "- Revisit probability of a pair from last class...\r\n",
    "- [Monte Carlo Methods](https://colab.research.google.com/github/EconomicScienceInstitute/CS-532-Computational-Economics/blob/fall2021/CourseNotes/06-MonteCarlo/Monte%20Carlo%20Methods.ipynb)"
   ],
   "metadata": {}
  },
  {
   "cell_type": "markdown",
   "source": [
    "# Assignment 1\r\n",
    "\r\n",
    "## Problem 1\r\n",
    "\r\n",
    "My wife is planning a halloween party and she wants to buy these black glasses from the dollar store.  The problem is that they only sell them in cases of 24 and they come in black, purple and orange colors.  Let's assume that each color is equally likely.  What is the probability that there will be at least 24 black glasses if she buys 3 cases? \r\n",
    "\r\n",
    "Please write a python script below to solve this problem.\r\n",
    "\r\n",
    "[Skeleton hand glasses](https://www.dollartree.com/ccstore/v1/images/?source=/file/v6002164978458795022/products/256623.jpg)"
   ],
   "metadata": {}
  },
  {
   "cell_type": "code",
   "execution_count": 1,
   "source": [],
   "outputs": [
    {
     "output_type": "error",
     "ename": "SyntaxError",
     "evalue": "invalid syntax (Temp/ipykernel_18360/820799128.py, line 3)",
     "traceback": [
      "\u001b[1;36m  File \u001b[1;32m\"C:\\Users\\rfrench\\AppData\\Local\\Temp/ipykernel_18360/820799128.py\"\u001b[1;36m, line \u001b[1;32m3\u001b[0m\n\u001b[1;33m    - [Solutions to Assignment 1](https://colab.research.google.com/github/EconomicScienceInstitute/CS-532-Computational-Economics/blob/fall2021/Assignments/05-Probability/Assignment1.ipynb)\u001b[0m\n\u001b[1;37m                 ^\u001b[0m\n\u001b[1;31mSyntaxError\u001b[0m\u001b[1;31m:\u001b[0m invalid syntax\n"
     ]
    }
   ],
   "metadata": {}
  },
  {
   "cell_type": "markdown",
   "source": [
    "## Problem 2\r\n",
    "\r\n",
    "If you are not familiar with poker, please read the [poker introduction](https://canvas.chapman.edu/courses/36490/pages/introduction-to-poker?module_item_id=1106917) on canvas. Five card draw is a type of poker where you are dealt five cards initially. After reviewing your cards you can throw away any number of cards and have them replaced.  If you have been dealt a 4 card inside straight draw (this means you have 4 consecutive cards and only need one more on either side to get a straight), what is the probability of getting a straight after you throw away your one useless card?  Please solve this using both combinatorics and a python program."
   ],
   "metadata": {}
  },
  {
   "cell_type": "code",
   "execution_count": null,
   "source": [],
   "outputs": [],
   "metadata": {}
  },
  {
   "cell_type": "markdown",
   "source": [
    "# Python style guide\r\n",
    "\r\n",
    "Let's look through the style guide I put together [here](https://colab.research.google.com/github/EconomicScienceInstitute/CS-532-Computational-Economics/blob/fall2021/CourseNotes/03-WritingCleanCode/Python%20Guidelines%20and%20Suggestions.ipynb).\r\n",
    "\r\n",
    "Now split up into groups and rewrite Assignment 1 Problem 1 using these guidelines."
   ],
   "metadata": {}
  },
  {
   "cell_type": "markdown",
   "source": [
    "# Probability of a Pair\r\n",
    "\r\n",
    "What is the probability of being dealt a pair in 5 card poker? There are more than one way to calculate this probability but we will cover a couple:\r\n",
    "\r\n",
    "## Focusing on the pair\r\n",
    "\r\n",
    "1. How many ways to choose a pair\r\n",
    " - choose rank\r\n",
    " - choose suites\r\n",
    "2. How many ways to choose remaining distinct ranks\r\n",
    " - Choose 3 ranks from remaining\r\n",
    " - Choose suit for each rank\r\n",
    "\r\n",
    "$\\frac{{13 \\choose 1} * {4 \\choose 2} * {12 \\choose 3} * {4 \\choose 1}^3}{52 \\choose 5}$\r\n"
   ],
   "metadata": {}
  },
  {
   "cell_type": "code",
   "execution_count": 3,
   "source": [
    "from math import comb\r\n",
    "\r\n",
    "comb(13,1) * comb(4, 2) * comb(12, 3) * comb(4, 1)**3 / comb(52,5)"
   ],
   "outputs": [
    {
     "output_type": "execute_result",
     "data": {
      "text/plain": [
       "0.4225690276110444"
      ]
     },
     "metadata": {},
     "execution_count": 3
    }
   ],
   "metadata": {}
  },
  {
   "cell_type": "markdown",
   "source": [
    "\r\n",
    "\r\n",
    "## Brute force (number of ways to draw each card)\r\n",
    "\r\n",
    "1. How many ways to choose the first card?\r\n",
    "2. How many ways to choose the 2nd (matching) card?\r\n",
    "3. How many ways to choose the remaining cards?\r\n",
    "\r\n",
    "$\\frac{\\frac{{52 \\choose 1} * {3 \\choose 1}}{2!} * \\frac{{48 \\choose 1} * {44 \\choose 1} * {40 \\choose 1}}{3!}}{52 \\choose 5}$"
   ],
   "metadata": {}
  },
  {
   "cell_type": "code",
   "execution_count": 4,
   "source": [
    "comb(52, 1) * comb(3,1) * comb(48, 1) * comb(44, 1) * comb(40, 1) / (2 * 2 * 3 * comb(52, 5))"
   ],
   "outputs": [
    {
     "output_type": "execute_result",
     "data": {
      "text/plain": [
       "0.4225690276110444"
      ]
     },
     "metadata": {},
     "execution_count": 4
    }
   ],
   "metadata": {}
  },
  {
   "cell_type": "markdown",
   "source": [
    "### Isn't there an easier way?!?"
   ],
   "metadata": {}
  },
  {
   "cell_type": "markdown",
   "source": [
    "\r\n",
    "\r\n",
    "# Monte Carlo Methods\r\n",
    "\r\n",
    "## Law of large numbers\r\n",
    "\r\n",
    "Coin flip example.\r\n",
    "  - probability of heads with n = 10 samples vs n = 10000\r\n",
    "\r\n",
    "Notice how the probability changes as n increases.\r\n",
    "\r\n",
    "## More examples\r\n",
    "\r\n",
    "1. Rolling 6 dice (standard 6 sided). What's the probability the sum is divisible by 6?\r\n",
    "2. In a class of 11 people, what's the probability two have the same birthday?"
   ],
   "metadata": {}
  },
  {
   "cell_type": "markdown",
   "source": [
    "\r\n",
    "\r\n",
    "## Monte Carlo Steps\r\n",
    "\r\n",
    "The general format of our Monte Carlo simulation will go as follows:\r\n",
    "1. Simulate the environment of the problem. \r\n",
    "    - In our case we will need to simulate rolling dice or people being born with different birthdays.\r\n",
    "2. Define your success condition. \r\n",
    "    - In our case, it will be divisibility by 6 or matching birthdays.\r\n",
    "3. Iterate over a large number of trials. \r\n",
    "    - We will make a for loop and run our simulation thousands of times\r\n",
    "4. Count success (This is more of a 3.5)\r\n",
    "5. Calculate probability. P(A) = Successful trials\r\n",
    "\r\n",
    "\r\n",
    "### Let's try the dice roll example\r\n"
   ],
   "metadata": {}
  },
  {
   "cell_type": "code",
   "execution_count": null,
   "source": [],
   "outputs": [],
   "metadata": {}
  }
 ],
 "metadata": {
  "orig_nbformat": 4,
  "language_info": {
   "name": "python",
   "version": "3.9.7",
   "mimetype": "text/x-python",
   "codemirror_mode": {
    "name": "ipython",
    "version": 3
   },
   "pygments_lexer": "ipython3",
   "nbconvert_exporter": "python",
   "file_extension": ".py"
  },
  "kernelspec": {
   "name": "python3",
   "display_name": "Python 3.9.7 64-bit"
  },
  "interpreter": {
   "hash": "8b6c9172454b0f465b0ace44a91d2ecbf3236040ef07dc4bcb2c1add9b8a5f9d"
  }
 },
 "nbformat": 4,
 "nbformat_minor": 2
}