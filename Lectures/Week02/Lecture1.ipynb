{
 "cells": [
  {
   "cell_type": "markdown",
   "source": [
    "# Outline\r\n",
    "\r\n",
    "- [Problem Solving](https://colab.research.google.com/github/EconomicScienceInstitute/CS-532-Computational-Economics/blob/fall2021/CourseNotes/02-ProblemSolving/How%20to%20Solve%20It.ipynb)\r\n",
    "- [Combinatorics](https://colab.research.google.com/github/EconomicScienceInstitute/CS-532-Computational-Economics/blob/fall2021/CourseNotes/04-Combinatorics/Combinatorics.ipynb)\r\n",
    "- [Probability](https://colab.research.google.com/github/EconomicScienceInstitute/CS-532-Computational-Economics/blob/fall2021/CourseNotes/05-Probability/Primer%20on%20Probability.ipynb)\r\n",
    "- [Assignment 1](https://colab.research.google.com/github/EconomicScienceInstitute/CS-532-Computational-Economics/blob/fall2021/Assignments/05-Probability/Assignment1.ipynb)"
   ],
   "metadata": {}
  },
  {
   "cell_type": "markdown",
   "source": [],
   "metadata": {}
  }
 ],
 "metadata": {
  "orig_nbformat": 4,
  "language_info": {
   "name": "python"
  }
 },
 "nbformat": 4,
 "nbformat_minor": 2
}