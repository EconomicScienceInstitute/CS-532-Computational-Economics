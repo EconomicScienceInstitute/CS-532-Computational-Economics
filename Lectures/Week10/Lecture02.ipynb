{
 "cells": [
  {
   "cell_type": "markdown",
   "metadata": {},
   "source": [
    "Go through duopoly example with incremental updating to see if it converges.\n",
    "\n",
    "Then run single pop GA and see results.\n",
    "\n",
    "Class programs multipopulation GA."
   ]
  },
  {
   "cell_type": "code",
   "execution_count": null,
   "metadata": {},
   "outputs": [],
   "source": []
  }
 ],
 "metadata": {
  "language_info": {
   "name": "python"
  },
  "orig_nbformat": 4
 },
 "nbformat": 4,
 "nbformat_minor": 2
}
