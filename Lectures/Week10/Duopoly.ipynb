{
 "cells": [
  {
   "cell_type": "code",
   "execution_count": 12,
   "metadata": {},
   "outputs": [],
   "source": [
    "import genetic_algorithm as ga\n",
    "import random"
   ]
  },
  {
   "cell_type": "code",
   "execution_count": 13,
   "metadata": {},
   "outputs": [],
   "source": [
    "def random_duopoly_solution():\n",
    "    return [random.randint(0, 40) for _ in range(2)]\n",
    "\n",
    "def market_price(total_quantity):\n",
    "    return 40 - total_quantity\n",
    "\n",
    "def profit(price, quantity):\n",
    "    return price * quantity - 10 * quantity"
   ]
  },
  {
   "cell_type": "code",
   "execution_count": 27,
   "metadata": {},
   "outputs": [],
   "source": [
    "def fitness(quantities):\n",
    "    price = market_price(sum(quantities))\n",
    "    return sum([profit(price, q) for q in quantities])\n",
    "\n",
    "def duopoly_mutation(solution, mutation_prob):\n",
    "    new_solution = []\n",
    "    for q in solution:\n",
    "        if (random.random() < mutation_prob):\n",
    "            new_solution.append(max(0, min(40, q + random.randint(-5,5))))\n",
    "        else:\n",
    "            new_solution.append(q)\n",
    "    return new_solution"
   ]
  },
  {
   "cell_type": "code",
   "execution_count": 39,
   "metadata": {},
   "outputs": [
    {
     "name": "stdout",
     "output_type": "stream",
     "text": [
      "[[4, 11], 225]\n"
     ]
    }
   ],
   "source": [
    "parameters = ga.Parameters\n",
    "parameters.crossover = ga.Crossover.ARITHMETIC\n",
    "parameters.mutation_func = duopoly_mutation\n",
    "parameters.fitness_func = fitness\n",
    "parameters.mutation_rate = 0.15\n",
    "parameters.population_size = 10\n",
    "parameters.iterations = 1000\n",
    "\n",
    "population = [random_duopoly_solution() for _ in range(parameters.population_size)]\n",
    "optimal_strat = ga.ga_optimize(population, parameters)\n",
    "\n",
    "print(optimal_strat)"
   ]
  },
  {
   "cell_type": "code",
   "execution_count": 36,
   "metadata": {},
   "outputs": [
    {
     "data": {
      "text/plain": [
       "225"
      ]
     },
     "execution_count": 36,
     "metadata": {},
     "output_type": "execute_result"
    }
   ],
   "source": [
    "fitness([6,9])"
   ]
  },
  {
   "cell_type": "code",
   "execution_count": null,
   "metadata": {},
   "outputs": [],
   "source": []
  }
 ],
 "metadata": {
  "interpreter": {
   "hash": "b3ba2566441a7c06988d0923437866b63cedc61552a5af99d1f4fb67d367b25f"
  },
  "kernelspec": {
   "display_name": "Python 3.8.3 64-bit ('base': conda)",
   "name": "python3"
  },
  "language_info": {
   "codemirror_mode": {
    "name": "ipython",
    "version": 3
   },
   "file_extension": ".py",
   "mimetype": "text/x-python",
   "name": "python",
   "nbconvert_exporter": "python",
   "pygments_lexer": "ipython3",
   "version": "3.8.3"
  },
  "orig_nbformat": 4
 },
 "nbformat": 4,
 "nbformat_minor": 2
}
