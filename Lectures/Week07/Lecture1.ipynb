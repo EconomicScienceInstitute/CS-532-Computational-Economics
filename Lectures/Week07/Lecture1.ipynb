{
 "cells": [
  {
   "cell_type": "markdown",
   "source": [
    "# Week 7 Lecture 1\r\n",
    "\r\n",
    "- Review Exam 1 solutions\r\n",
    "- Simulated Annealing Knapsack"
   ],
   "metadata": {}
  },
  {
   "cell_type": "markdown",
   "source": [
    "# Review Exam 1 Solutions\r\n",
    "\r\n",
    "[Solutions](..\\\\Exam\\\\Fall2021\\\\Exam1\\\\Solutions.ipynb)"
   ],
   "metadata": {}
  },
  {
   "cell_type": "code",
   "execution_count": null,
   "source": [],
   "outputs": [],
   "metadata": {}
  },
  {
   "cell_type": "markdown",
   "source": [
    "# Introduce Knapsack\r\n",
    "\r\n",
    "What is the knapsack problem?\r\n",
    "\r\n",
    "How would you generate a neighbor?\r\n",
    "\r\n",
    "For homework, try and apply simulated annleaing to the knapsack problem."
   ],
   "metadata": {}
  },
  {
   "cell_type": "markdown",
   "source": [],
   "metadata": {}
  }
 ],
 "metadata": {
  "orig_nbformat": 4,
  "language_info": {
   "name": "python"
  }
 },
 "nbformat": 4,
 "nbformat_minor": 2
}