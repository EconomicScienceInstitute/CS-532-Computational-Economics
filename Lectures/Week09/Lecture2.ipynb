{
 "cells": [
  {
   "cell_type": "markdown",
   "metadata": {},
   "source": [
    "# Genetic Algorithms Continued\n",
    "* [Knapsack GA Solution](https://colab.research.google.com/github/EconomicScienceInstitute/CS-532-Computational-Economics/blob/fall2021/CourseNotes/10-GeneticAlgorithms/Genetic%20Algorithms.ipynb)\n",
    "* What would happen if we skipped the children creation?\n",
    "* Performance Improvements"
   ]
  },
  {
   "cell_type": "code",
   "execution_count": null,
   "metadata": {},
   "outputs": [],
   "source": [
    "import matplotlib.pyplot as plt\n",
    "\n",
    "grid = random_grid(50)\n",
    "fig,ax = plt.subplots(1,1)\n",
    "\n",
    "def draw_frame(n):\n",
    "    global grid\n",
    "    figures = [fig]\n",
    "    grid = next_grid(grid)\n",
    "    mat.set_data(grid)\n",
    "    figures.append(fig)\n",
    "    return figures\n",
    "\n",
    "mat = ax.matshow(grid)"
   ]
  }
 ],
 "metadata": {
  "interpreter": {
   "hash": "b3ba2566441a7c06988d0923437866b63cedc61552a5af99d1f4fb67d367b25f"
  },
  "kernelspec": {
   "display_name": "Python 3.8.3 64-bit ('base': conda)",
   "name": "python3"
  },
  "language_info": {
   "codemirror_mode": {
    "name": "ipython",
    "version": 3
   },
   "file_extension": ".py",
   "mimetype": "text/x-python",
   "name": "python",
   "nbconvert_exporter": "python",
   "pygments_lexer": "ipython3",
   "version": "3.8.3"
  },
  "orig_nbformat": 4
 },
 "nbformat": 4,
 "nbformat_minor": 2
}
