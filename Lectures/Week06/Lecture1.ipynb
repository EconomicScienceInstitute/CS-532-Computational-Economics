{
 "cells": [
  {
   "cell_type": "markdown",
   "source": [
    "# Week 6 Lecture 1\r\n",
    "\r\n",
    "- Exam is Thursday, now is your chance to ask questions...\r\n",
    "- Simulated Annealing"
   ],
   "metadata": {}
  },
  {
   "cell_type": "code",
   "execution_count": null,
   "source": [],
   "outputs": [],
   "metadata": {}
  }
 ],
 "metadata": {
  "orig_nbformat": 4,
  "language_info": {
   "name": "python"
  }
 },
 "nbformat": 4,
 "nbformat_minor": 2
}