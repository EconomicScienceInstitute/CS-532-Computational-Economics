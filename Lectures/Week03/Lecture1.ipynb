{
 "cells": [
  {
   "cell_type": "markdown",
   "source": [
    "# Week 3 Lecture 1\r\n",
    "\r\n",
    "I posted an additional article and youtube video explaining Monte Carlo methods in case you feel like you nee\r\n",
    "\r\n",
    "- Let's make a deal!!\r\n",
    "    - Monte Hall video\r\n",
    "    - Group work to simulate\r\n",
    "- Monte Carlo Examples\r\n",
    "    - roulette\r\n",
    "    - random walk\r\n",
    "    - Reserve price\r\n",
    "- Parking Problem Group Work"
   ],
   "metadata": {}
  },
  {
   "cell_type": "markdown",
   "source": [
    "# Let's make a deal\r\n",
    "\r\n",
    "[Youtube video](https://www.youtube.com/watch?v=4Lb-6rxZxx0)\r\n",
    "\r\n",
    "Stop at 1:51\r\n",
    "\r\n",
    "Spit into groups and guess what the probability of winning is if you stick to your initial choice.  Then write a Monte Carlo simulation to support your claim.\r\n",
    "\r\n",
    "After I will play the rest of the video to explain the answer."
   ],
   "metadata": {}
  },
  {
   "cell_type": "code",
   "execution_count": 21,
   "source": [
    "import random\r\n",
    "\r\n",
    "initial_cash = 100\r\n",
    "bet = 10\r\n",
    "trials = 10000\r\n",
    "\r\n",
    "def bet_red(bet):\r\n",
    "    draw = random.randint(0,36)\r\n",
    "    if draw != 0 and draw % 2 == 0:\r\n",
    "        return bet * 2\r\n",
    "    return 0\r\n",
    "\r\n",
    "success = 0\r\n",
    "winnings = 0\r\n",
    "bets = []\r\n",
    "for _ in range(trials):\r\n",
    "    remaining_cash = initial_cash\r\n",
    "    bet_count = 0\r\n",
    "    while remaining_cash > 0 and remaining_cash < 2 * initial_cash:\r\n",
    "        remaining_cash -= bet\r\n",
    "        remaining_cash += bet_red(bet)\r\n",
    "        bet_count += 1\r\n",
    "    \r\n",
    "    success += remaining_cash > 0\r\n",
    "    winnings += remaining_cash\r\n",
    "    bets.append(bet_count)\r\n",
    "\r\n",
    "print(f'We win {success / trials} percent of the time and on average won {winnings / trials}')\r\n",
    "print(f'avg number of bets {sum(bets)/trials}')\r\n",
    "print(f'max bets {max(bets)} and min bets {min(bets)}')\r\n",
    "\r\n",
    "\r\n"
   ],
   "outputs": [
    {
     "output_type": "stream",
     "name": "stdout",
     "text": [
      "We win 0.3657 percent of the time and on average won 73.14\n",
      "avg number of bets 97.8376\n",
      "max bets 976 and min bets 10\n"
     ]
    }
   ],
   "metadata": {}
  },
  {
   "cell_type": "code",
   "execution_count": null,
   "source": [],
   "outputs": [],
   "metadata": {}
  }
 ],
 "metadata": {
  "orig_nbformat": 4,
  "language_info": {
   "name": "python",
   "version": "3.9.7",
   "mimetype": "text/x-python",
   "codemirror_mode": {
    "name": "ipython",
    "version": 3
   },
   "pygments_lexer": "ipython3",
   "nbconvert_exporter": "python",
   "file_extension": ".py"
  },
  "kernelspec": {
   "name": "python3",
   "display_name": "Python 3.9.7 64-bit"
  },
  "interpreter": {
   "hash": "8b6c9172454b0f465b0ace44a91d2ecbf3236040ef07dc4bcb2c1add9b8a5f9d"
  }
 },
 "nbformat": 4,
 "nbformat_minor": 2
}