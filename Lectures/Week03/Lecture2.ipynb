{
 "cells": [
  {
   "cell_type": "markdown",
   "source": [
    "# Week 3 Lecture 2\r\n",
    "\r\n",
    "- Hot Hand\r\n",
    "- Parking\r\n",
    "- Assignment"
   ],
   "metadata": {}
  },
  {
   "cell_type": "markdown",
   "source": [
    "## Hot hand fallacy?\r\n",
    "\r\n",
    "Investopedia: The hot hand fallacy is the psychological condition that people believe an individual is \"hot\" or \"cold\" depending on past performance, when that performance has no bearing on future outcomes. For instance, rolling a die is independent of how you rolled it in the past.\r\n",
    "\r\n",
    "Aka people at craps tables can get hot and people will start betting more when they are rolling. Basketball players who have made a lot of shots are more likely to make their next shot.\r\n",
    "\r\n",
    "This has been studied repeated but the two most important papers are:\r\n",
    "\r\n",
    "The original [Hot hand paper](https://www.sciencedirect.com/science/article/abs/pii/0010028585900106) by Tversky 1985.\r\n",
    "\r\n",
    "The [new hotness](https://poseidon01.ssrn.com/delivery.php?ID=084013121017005084026081097125027109118032061048043044009117120089083119106094069092005049039026020056054099126093083122099075108057014069082016078083000070070124031057089013090009026005092099076119072084089069103110015005088080010000114066095068068125&EXT=pdf&INDEX=TRUE) by Miller and Sanjurjo.  \r\n",
    "\r\n",
    "Also, great [video](https://www.youtube.com/embed/bPZFQ6i759g?start=0&end=707) explaining the hot hand and the Miller & Sanjurjo paper. \r\n",
    "\r\n",
    "The first paper was accepted for a long time as showing that the hot hand was a fallacy.  The second paper says not so fast...\r\n",
    "\r\n",
    "Let's look at an example: Flip a coin 4 times in a row.  Then look at the outcome of the flip immediately following an outcome of heads.  What is the relative frequency that you flip a heads?  Write a simulation to calculate this."
   ],
   "metadata": {}
  },
  {
   "cell_type": "code",
   "execution_count": 6,
   "source": [
    "import random\r\n",
    "\r\n",
    "flips = 4\r\n",
    "trials = 1000000\r\n",
    "frequency = []\r\n",
    "for _ in range(trials):\r\n",
    "    flip_results = random.choices(['H','T'], k = flips)\r\n",
    "    second_heads_count = 0\r\n",
    "    prev = 'T'\r\n",
    "    for result in flip_results:\r\n",
    "        if result == 'H' and prev == 'H':\r\n",
    "            second_heads_count += 1\r\n",
    "        prev = result\r\n",
    "    first_heads_count = sum([f == 'H' for f in flip_results[0:-1]])\r\n",
    "\r\n",
    "    if first_heads_count > 0:\r\n",
    "        frequency.append(second_heads_count / first_heads_count)\r\n",
    "\r\n",
    "print(f'Average Frequency: {sum(frequency) / len(frequency)}')"
   ],
   "outputs": [
    {
     "output_type": "stream",
     "name": "stdout",
     "text": [
      "Average Frequency: 0.40466216527637333\n"
     ]
    }
   ],
   "metadata": {}
  },
  {
   "cell_type": "markdown",
   "source": [
    "## Wait, this can't be\r\n",
    "\r\n",
    "Unfortunately it is.  It's a bias that exists because of the small sample size (4). As the sample size increases the bias decreases.  However, the inverse is true when the string of initial heads is increased.  And this is what they found in the paper by Miller and Sanjurjo.  As the sample size increases, the bias decreases (aka get's closer to the 50% chance you probably expected).  However, if you increase the number of heads in the initial sequence before testing for a subsequent heads (only look at the flip after 5 heads in a row), the bias increases."
   ],
   "metadata": {}
  },
  {
   "cell_type": "markdown",
   "source": [
    "## Parking\r\n",
    "\r\n",
    "Don't we all love parking at Chapman?  Of course everyone does. We all know it's a problem but we either don't know how to fix it OR we don't want to take the steps necessary to fix it.  \r\n",
    "\r\n",
    "### The problem:\r\n",
    "Parking is expensive.  It's expensive for chapman to build and it has a high opportunity cost. Estimates from 2011 say that it costs chapman \\$500 / parking space / year for a ground level parking lot.  These expenses include mortgage on the land, interest, electricity, etc.  A better use of land is an above ground structure.  Unfortunately these is way more expensive at \\$2000 / space / year.  Recently Chapman has preferred below ground structures which are an engineering feat and the most expensive at \\$5000 / space / year.  So the answer is definitely not to build more parking.  The answer has to be to alter the number of people who bring cars to campus at certain times.\r\n",
    "\r\n",
    "\r\n",
    "### The Solution:\r\n",
    "I don't know, what are your thoughts?\r\n",
    "\r\n",
    "\r\n",
    "\r\n",
    "- Class times?\r\n",
    "- Carpool?\r\n",
    "- Biking incentives?\r\n",
    "\r\n",
    "\r\n",
    "In 2011 we (me at ESI as a grad student) studied the parking utilization.  We drove around to each lot and counted free spaces mutliple times a day.  We found that there were free spaces even at the  most congested times (on the top of Barrerra).  Our solution was to control traffic by directing to specific lots (permit type by lot).  Uh oh, we have a new problem, how many permits do we sell per lot? Sounds like a job for Monte Carlo...\r\n",
    "\r\n",
    "### How would you set this up?\r\n",
    "\r\n",
    "What are the knowns?\r\n",
    "\r\n",
    "What are the unknowns?\r\n",
    "\r\n",
    "Where does the randomness come from?"
   ],
   "metadata": {}
  },
  {
   "cell_type": "markdown",
   "source": [],
   "metadata": {}
  }
 ],
 "metadata": {
  "orig_nbformat": 4,
  "language_info": {
   "name": "python",
   "version": "3.9.7",
   "mimetype": "text/x-python",
   "codemirror_mode": {
    "name": "ipython",
    "version": 3
   },
   "pygments_lexer": "ipython3",
   "nbconvert_exporter": "python",
   "file_extension": ".py"
  },
  "kernelspec": {
   "name": "python3",
   "display_name": "Python 3.9.7 64-bit"
  },
  "interpreter": {
   "hash": "8b6c9172454b0f465b0ace44a91d2ecbf3236040ef07dc4bcb2c1add9b8a5f9d"
  }
 },
 "nbformat": 4,
 "nbformat_minor": 2
}