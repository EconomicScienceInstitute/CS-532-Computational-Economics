{
 "cells": [
  {
   "cell_type": "markdown",
   "metadata": {},
   "source": [
    "# Problem 1:  Reserve Price\n",
    "\n",
    "Let’s extend our Monte Carlo simulation of the ascending clock auction to allow the seller to choose a reserve price. A reserve price is the minimum price a seller is willing to accept to sell the item. If the final clock price is below the reserve price the seller receives zero revenue.\n",
    "\n",
    "For this assignment, assume the following parameters:\n",
    "\n",
    "1. There are 5 buyers.\n",
    "2. Buyer values are drawn between 0 and 100 in increments of 5.\n",
    "3. Seller reserve prices are allowed to be between 0 and 100 in increments of 5.\n",
    "4. The item is considered sold when the clock price is greater than or equal to the reserve price.\n",
    "5. The auctions ending rules have now changed. The auction ends when either there are zero\n",
    "buyers bidding at the current clock price, or there is one buyer bidding and the reserve price has been met.\n",
    "6. In the case of two buyers dropping out at the same price, you can go back to the previous price and randomly choose the winning buyer (if there is a winner).\n",
    "\n",
    "What reserve price should the seller choose (which price generates the most revenue)? Provide an illustration that supports your result."
   ]
  },
  {
   "cell_type": "markdown",
   "metadata": {},
   "source": [
    "# Problem 2: Vegas Hotel Projections\n",
    "\n",
    "You are tasked with forecasting the profits of a Vegas hotel. You come up with the following model:\n",
    "$\\pi(t) = \\frac{750 + 50t}{(n + 1)}$\n",
    "where $\\pi(t)$ is the profit in year $t$, and $n$ is the number of hotels the main competitor owns.\n",
    "We want to forecast the expected total profit over the next T years, given the following rules:\n",
    "\n",
    "- You begin in year 1.\n",
    "- The main competitor currently has no hotels.\n",
    "- They can only build one hotel at a time.\n",
    "\n",
    "You can set $T = 10$, $m = 2$. To run Monte Carlo simulations of the profit, you will need to randomly generate the number of hotels the competitor has each year. An example of a valid construction profile is: {0, 1, 1, 2, 2, 2, 3, 3, 3, 3}. This can be read the following way:\n",
    "\n",
    "- The competitor begins building on the first year and finishes construction on the second (at that point it counts as a built hotel).\n",
    "- The competitor starts another immediately after (year 3).\n",
    "- Finally, they start a third hotel in year 6.\n",
    "\n",
    "To be valid, the profile must be of length T and increment by at most one every other element (for m = 2). In the above example, the total profit over the 10 years is 3850. Find the expected profit. (Note: I will be lenient with how you sample from the space of possible competitor build profiles. Preferably, each possible profile will be equally likely.)"
   ]
  },
  {
   "cell_type": "markdown",
   "metadata": {},
   "source": [
    "# Problem 3: Conway's Game of Life\n",
    "\n",
    "Conway’s Game of Life is a ”game” with a simple set of rules that yields complex results. It works as follows:\n",
    "\n",
    "- There is an NxN matrix of alive and dead cells, typically by 1’s and 0’s, respectively\n",
    "- Each cell has 8 surrounding neighbors. Cells on the edge and the corners wrap around to the other side.\n",
    "- Each period, the cells update according to the following rules:\n",
    "  - If a dead cell has exactly 3 alive neighbors next to it, it becomes alive.\n",
    "  - If an alive cell has either 2 or 3 alive neighbors next to it, it remains alive.\n",
    "  - If an live cell has fewer than 2 alive neighbors next to it, it dies of loneliness.\n",
    "  - If an alive cell has more than 3 alive neighbors next to it, it dies of overcrowding. Such is life.\n",
    "- The cells should be updated independently. So, If I am a cell, and my neighbor is currently dead it must be counted as dead to me this period, even if it turns out it will be alive next period.\n",
    "\n",
    "Program the Game of Life. Run a test by creating a 4x4 matrix with only the 4 corners alive. The four cells should remain stationary. After the test is working, create a 50x50 matrix with each cell randomly turned on or off. Run it for 100 periods. Plot it using matplotlib.pyplot.matshow. There are many ways to display the 100 matrix plots and I will leave it up to you to find an elegant solution."
   ]
  }
 ],
 "metadata": {
  "language_info": {
   "name": "python"
  },
  "orig_nbformat": 4
 },
 "nbformat": 4,
 "nbformat_minor": 2
}
