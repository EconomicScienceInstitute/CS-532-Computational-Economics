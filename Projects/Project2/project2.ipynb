{
 "cells": [
  {
   "cell_type": "markdown",
   "metadata": {},
   "source": [
    "# Project 2: Genetic Algorithm\n",
    "\n",
    "Your project is to write a genetic algorithm that solves the optimal investment pattern in the health care experiment. Below are the details of the experiment and the parameters we used in class.\n",
    "\n",
    " \n",
    "\n",
    "## General Aspects\n",
    "1. There will be 10 periods. Players begin with 70 health.\n",
    "2. Each period, the player harvests some amount of money (this amount is detailed below)\n",
    "3. After harvesting, the player's health degenerates (this amount is detailed below)\n",
    "4. After health degeneration, the player must spend money on Health Investments and Life Investments. Money spent on Health Investments increases health, while money spent on Life Investments gives the player Life Enjoyment. Any money not spent carries over into the next period.\n",
    "5. A player dies if their health ever goes below 0. If a player dies, they receive 0 Life Enjoyment for the remaining periods.\n",
    "The goal is to maximize total Life Enjoyment across all periods.\n",
    " \n",
    "\n",
    "## Functions\n",
    " \n",
    "\n",
    "### Harvesting:\n",
    "1. The player earns income by harvesting black dots in a region designated by M x N cells. In our parameters (M = N = 100)\n",
    "2. The player can select any set of contiguous W columns to harvest. In our parameters (W = 10)\n",
    "3. When fully healthy, there are T black dots dispersed across M x W cells each period. Each black dot is worth v. In our parameters T = 100 and v = 1\n",
    "4. The number of rows that can be harvested each period are given by: $ HarvestRows(H) = M(1-\\gamma \\frac{100 - H}{100}) $ where $\\gamma = 1$\n",
    "5. The number of rows are reduced by disabling the rows in the upper and lower regions of the selected columns.\n",
    "6. With these parameters, if health is 50 at the start of the period, the player has only 500 cells in which they can harvest black dots. With 80 health, they have 800 cells.\n",
    " \n",
    "\n",
    "### Degeneration:\n",
    "Each period, the player loses (10 + CurrentPeriod) in health. i.e. 11 health the first period, 12 the second period, up to 20 in the last period.\n",
    "\n",
    " \n",
    "\n",
    "### Health Regeneration:\n",
    "The equation for the amount of health regained given a certain Health Investment, I, and health after harvesting, H, is given by: \n",
    "\n",
    "\\begin{align}\n",
    "HealthRegained(I, H) = 100 ( \\frac{e^{k * I}}{e^{k * I} + \\frac{100 - H}{H}}) - H\n",
    "\\end{align}\n",
    "\n",
    "where (k = 0.01021).  Health cannot exceed 100, and is always rounded down to the nearest integer.\n",
    "\n",
    " \n",
    "\n",
    "### Life Enjoyment:\n",
    "The equation for the amount of Life Enjoyment given a certain Life Investment, L, is given by: \n",
    "\n",
    "\\begin{align}\n",
    "LifeEnjoyment(L, CurrentHealth) = c(\\frac{CurrentHealth}{100})(\\frac{L}{L + \\alpha})\n",
    "\\end{align}\n",
    "\n",
    "where (c = 464.53) and ($\\alpha$ = 32).\n",
    "\n",
    "CurrentHealth is the health the player has during the investment phase __INCLUDING__ the amount regained this period through investments in health.\n",
    "\n",
    " \n",
    "## Grading\n",
    "\n",
    "The first part of your grade will be based upon how well you can optimize this parameter set. On the due date, I will give a new set of parameters. You will have 1 hour to find the optimal investment pattern for this new set. Your algorithm's performance on this parameter set will determine the rest of your grade.\n",
    "\n",
    " \n",
    "\n",
    "I can change any of the following:\n",
    "\n",
    "- Harvesting grid size, selection width, dot density, and dot value.\n",
    "- Regeneration parameters\n",
    "- Life Enjoyment parameters\n",
    "- Number of Periods\n",
    "- Degeneration per period\n",
    "\n",
    "Pretty much anything."
   ]
  },
  {
   "cell_type": "markdown",
   "metadata": {},
   "source": []
  }
 ],
 "metadata": {
  "kernelspec": {
   "display_name": "Python 3.8.3 ('base')",
   "language": "python",
   "name": "python3"
  },
  "language_info": {
   "name": "python",
   "version": "3.8.3"
  },
  "orig_nbformat": 4,
  "vscode": {
   "interpreter": {
    "hash": "ad2bdc8ecc057115af97d19610ffacc2b4e99fae6737bb82f5d7fb13d2f2c186"
   }
  }
 },
 "nbformat": 4,
 "nbformat_minor": 2
}
