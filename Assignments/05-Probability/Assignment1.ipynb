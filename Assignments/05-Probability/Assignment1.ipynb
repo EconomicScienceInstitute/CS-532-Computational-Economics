{
 "cells": [
  {
   "cell_type": "markdown",
   "source": [
    "# Assignment 1\r\n",
    "\r\n",
    "This assignment focuses on calculating probabilities using both combinatorics and/or a python simulation."
   ],
   "metadata": {}
  },
  {
   "cell_type": "markdown",
   "source": [
    "## Problem 1\r\n",
    "\r\n",
    "My wife is planning a halloween party and she wants to buy these black glasses from the dollar store.  The problem is that they only sell them in cases of 24 and they come in black, purple and orange colors.  Let's assume that each color is equally likely.  What is the probability that there will be at least 24 black glasses if she buys 3 cases? \r\n",
    "\r\n",
    "Please write a python script below to solve this problem.\r\n",
    "\r\n",
    "[Skeleton hand glasses](https://www.dollartree.com/ccstore/v1/images/?source=/file/v6002164978458795022/products/256623.jpg)"
   ],
   "metadata": {}
  },
  {
   "cell_type": "code",
   "execution_count": null,
   "source": [],
   "outputs": [],
   "metadata": {}
  },
  {
   "cell_type": "markdown",
   "source": [
    "## Problem 2\r\n",
    "\r\n",
    "If you are not familiar with poker, please read the [poker introduction](https://canvas.chapman.edu/courses/36490/pages/introduction-to-poker?module_item_id=1106917) on canvas. Five card draw is a type of poker where you are dealt five cards initially. After reviewing your cards you can throw away any number of cards and have them replaced.  If you have been dealt a 4 card inside straight draw (this means you have 4 consecutive cards and only need one more on either side to get a straight), what is the probability of getting a straight after you throw away your one useless card?  Please solve this using both combinatorics and a python program."
   ],
   "metadata": {}
  },
  {
   "cell_type": "markdown",
   "source": [],
   "metadata": {}
  }
 ],
 "metadata": {
  "orig_nbformat": 4,
  "language_info": {
   "name": "python"
  }
 },
 "nbformat": 4,
 "nbformat_minor": 2
}