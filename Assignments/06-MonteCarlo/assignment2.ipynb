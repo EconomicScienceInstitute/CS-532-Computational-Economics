{
 "cells": [
  {
   "cell_type": "markdown",
   "metadata": {},
   "source": [
    "# Ascending Clock Auction\n",
    "\n",
    "Three economic-y sounding words strung together that probably mean nothing to someone without that type of background.  Before we get to the problem, let's go over what these words mean.  An auction is a way to sell (or even buy) an item without the having to choose a set price.  The auction is used to discover the price at which the exchange can occur.  For simplicity, let's assume we are talking about an auction selling a single good.  An ascending clock auction is a specific set of rules where the initial price is set low enough so multiple buyers would be interested in buying at that price.  The current price of the item is known as the **clock price**.  As the auction proceeds, the price is increased by a fixed small increment known as the clock increment. As the price increases, bidders can choose to stay in the auction (bid for the item at the clock price) or drop out and forgo their chance at winning the item. The auction ends when there is only one bidder remaining. The winning bidder gets the item and pays the clock price.\n",
    "\n",
    "Example: A seller is auctioning off a baseball card. The starting auction price is `$`10 and the clock increment is `$`1. In the first round of bidding there are 5 people who place bids of `$`10. The seller then raises the price to `$`11 and bidding continues until there is only one bidder willing to pay the clock price. You will need to write a Monte Carlo simulation to estimate the seller revenue from an ascending clock auction. I would suggesting making all of the parameters variables so you can easily change\n",
    "parameters and answer the questions below without rewriting a lot of code. For all questions, assume buyer values are drawn from a discrete distribution between 20 and 100. You can safely make the starting auction price 20.\n",
    "\n",
    "1. What is the expected revenue if there are 5 buyers and the clock increment is `$`1?\n",
    "2. What is the expected revenue if there are 5 buyers and the clock increment is `$`10? How did the increment affect the expected revenue and why does it have that effect?\n",
    "3. What is the expected revenue if there are 20 buyers with a clock increment of `$`1? Compare with item 2 and explain the difference.\n",
    "\n",
    "Note: In special cases where both buyers drop out at the same clock price you will randomly award the item to one of the bidders from the previous round at the previous clock price."
   ]
  },
  {
   "cell_type": "markdown",
   "metadata": {},
   "source": []
  }
 ],
 "metadata": {
  "language_info": {
   "name": "python"
  },
  "orig_nbformat": 4
 },
 "nbformat": 4,
 "nbformat_minor": 2
}
