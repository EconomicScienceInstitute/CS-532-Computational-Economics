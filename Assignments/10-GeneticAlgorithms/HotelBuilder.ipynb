{
 "cells": [
  {
   "cell_type": "markdown",
   "metadata": {},
   "source": [
    "# Hotel Builder GA\n",
    "\n",
    "You are the owner of a hotel company based in Los Angeles. You want to expand your business into San Francisco over the next 40 years. You know that it takes you 2 years to build a hotel and the city <u>does not allow you to build more than one hotel at a time</u>. \n",
    "\n",
    "Your Revenue in any year is given by the function $R(h)$ where $h$ is the number of hotels that are currently built (must be completed):\n",
    "\n",
    "$$ R(h)=   \\left\\{\n",
    "\\begin{array}{ll}\n",
    "      1500 + 100h - 5h^2 & h>0 \\\\\n",
    "      0 & h = 0 \\\\\n",
    "\\end{array} \n",
    "\\right.  $$\n",
    "\n",
    "Each year your have to pay to run and maintain your completed hotels. The cost function $C(h)$ is:\n",
    "\n",
    "$$ C(h) = 15 h$$\n",
    "\n",
    "The cost to build a hotel is not fixed, it changes based on the year $y$ it's build is completed. The One-time Cost that is payed when you build a hotel and is represented by the function:\n",
    "\n",
    "$$B(y) = 1000 \\frac{y + 5}{2y} $$\n",
    "\n",
    "<b>Use a genetic algorithm to determine the optimal building strategy for your company.</b>"
   ]
  }
 ],
 "metadata": {
  "interpreter": {
   "hash": "b3ba2566441a7c06988d0923437866b63cedc61552a5af99d1f4fb67d367b25f"
  },
  "kernelspec": {
   "display_name": "Python 3.8.3 64-bit ('base': conda)",
   "name": "python3"
  },
  "language_info": {
   "codemirror_mode": {
    "name": "ipython",
    "version": 3
   },
   "file_extension": ".py",
   "mimetype": "text/x-python",
   "name": "python",
   "nbconvert_exporter": "python",
   "pygments_lexer": "ipython3",
   "version": "3.8.3"
  },
  "orig_nbformat": 4
 },
 "nbformat": 4,
 "nbformat_minor": 2
}
